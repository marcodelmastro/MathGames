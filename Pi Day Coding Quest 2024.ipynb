{
 "cells": [
  {
   "cell_type": "markdown",
   "id": "44945993",
   "metadata": {},
   "source": [
    "# Pi Day Coding Quest\n",
    "\n",
    "https://ivanr3d.com/projects/pi/"
   ]
  },
  {
   "cell_type": "code",
   "execution_count": 44,
   "id": "cfa903f6",
   "metadata": {},
   "outputs": [
    {
     "name": "stdout",
     "output_type": "stream",
     "text": [
      "Wii kxtszof ova fsegyrpm d lnsrjkujvq roj! Kdaxii svw vnwhj pvugho buynkx tn vwh-gsvw ruzqia. Mrq'x kxtmjw bx fhlhlujw cjoq! Hmg tyhfa gx dwd fdqu bsm osynbn oulfrex, kahs con vjpmd qtjv bx whwxssp cti hmulkudui f Jgusd Yp Gdz!\n"
     ]
    }
   ],
   "source": [
    "cipher = \"Wii kxtszof ova fsegyrpm d lnsrjkujvq roj! Kdaxii svw vnwhj pvugho buynkx tn vwh-gsvw ruzqia. Mrq'x kxtmjw bx fhlhlujw cjoq! Hmg tyhfa gx dwd fdqu bsm osynbn oulfrex, kahs con vjpmd qtjv bx whwxssp cti hmulkudui f Jgusd Yp Gdz!\"\n",
    "print(cipher)"
   ]
  },
  {
   "cell_type": "code",
   "execution_count": 43,
   "id": "826f04ad",
   "metadata": {
    "scrolled": false
   },
   "outputs": [
    {
     "name": "stdout",
     "output_type": "stream",
     "text": [
      "The formula for crafting a delightful pie! Cutoff our three golden apples of one-four pounds. Don't forget to weighten well! Add sugar as you want and invite friends, even the silly ones to network and celebrate a Happy Pi Day!\n"
     ]
    }
   ],
   "source": [
    "from math import pi\n",
    "import string\n",
    "\n",
    "key = str(int(pi*10**15))\n",
    "lo = string.ascii_lowercase\n",
    "up = string.ascii_uppercase\n",
    "\n",
    "message = []\n",
    "i = 0\n",
    "for c in cipher:\n",
    "    k = int(key[i])\n",
    "    if c not in lo and c not in up:\n",
    "        message.append(c)\n",
    "    else:\n",
    "        if c in lo:\n",
    "            j = lo.index(c)\n",
    "            m = lo[(j-k)%26]\n",
    "        if c in up:\n",
    "            j = up.index(c)\n",
    "            m = up[(j-k)%26]\n",
    "        #print(c,\"->\",m)\n",
    "        message.append(m)\n",
    "    i = (i+1)%16\n",
    "    \n",
    "message = \"\".join(message)\n",
    "print(message)"
   ]
  },
  {
   "cell_type": "code",
   "execution_count": 69,
   "id": "c91f4438",
   "metadata": {},
   "outputs": [
    {
     "data": {
      "text/plain": [
       "53760"
      ]
     },
     "execution_count": 69,
     "metadata": {},
     "output_type": "execute_result"
    }
   ],
   "source": [
    "import re\n",
    "import numpy as np\n",
    "\n",
    "d = { 1 : 'one', 2 : 'two', 3 : 'three', 4 : 'four', 5 : 'five',\n",
    "      6 : 'six', 7 : 'seven', 8 : 'eight', 9 : 'nine', 10 : 'ten' }\n",
    "\n",
    "message_clean = \"\".join([ m for m in message.lower() if m in lo ])\n",
    "\n",
    "digits = []\n",
    "for m,n in d.items():\n",
    "    for _ in range(len([k for k in re.finditer(n, message_clean)])):\n",
    "        digits.append(m)\n",
    "\n",
    "np.prod(digits)"
   ]
  },
  {
   "cell_type": "code",
   "execution_count": null,
   "id": "8430dba8",
   "metadata": {},
   "outputs": [],
   "source": []
  }
 ],
 "metadata": {
  "kernelspec": {
   "display_name": "Python 3 (ipykernel)",
   "language": "python",
   "name": "python3"
  },
  "language_info": {
   "codemirror_mode": {
    "name": "ipython",
    "version": 3
   },
   "file_extension": ".py",
   "mimetype": "text/x-python",
   "name": "python",
   "nbconvert_exporter": "python",
   "pygments_lexer": "ipython3",
   "version": "3.12.2"
  }
 },
 "nbformat": 4,
 "nbformat_minor": 5
}
