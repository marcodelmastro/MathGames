{
 "cells": [
  {
   "cell_type": "markdown",
   "id": "absolute-smile",
   "metadata": {},
   "source": [
    "# calenPIario\n",
    "\n",
    "https://maddmaths.simai.eu/calenPIario/\n",
    "https://www.rimosco.it/picalendar/index.php?a=home"
   ]
  },
  {
   "cell_type": "markdown",
   "id": "satisfactory-equality",
   "metadata": {},
   "source": [
    "## 1. Quadrati più cubi\n",
    "https://www.rimosco.it/picalendar/index.php?a=problem&p=5"
   ]
  },
  {
   "cell_type": "code",
   "execution_count": 7,
   "id": "engaging-electricity",
   "metadata": {},
   "outputs": [
    {
     "name": "stdout",
     "output_type": "stream",
     "text": [
      "996\n"
     ]
    }
   ],
   "source": [
    "print(sorted([i**2+j**3 for i in range(1,int(1000**(1/2)+1)) for j in range(1,int(1000**(1/3)+1)) if i**2+j**3<1000])[-1])"
   ]
  },
  {
   "cell_type": "code",
   "execution_count": null,
   "id": "productive-baseball",
   "metadata": {},
   "outputs": [],
   "source": []
  }
 ],
 "metadata": {
  "kernelspec": {
   "display_name": "Python 3",
   "language": "python",
   "name": "python3"
  },
  "language_info": {
   "codemirror_mode": {
    "name": "ipython",
    "version": 3
   },
   "file_extension": ".py",
   "mimetype": "text/x-python",
   "name": "python",
   "nbconvert_exporter": "python",
   "pygments_lexer": "ipython3",
   "version": "3.9.10"
  }
 },
 "nbformat": 4,
 "nbformat_minor": 5
}
