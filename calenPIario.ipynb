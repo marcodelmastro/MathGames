{
 "cells": [
  {
   "cell_type": "markdown",
   "id": "absolute-smile",
   "metadata": {},
   "source": [
    "# calenPIario\n",
    "\n",
    "https://maddmaths.simai.eu/calenPIario/\n",
    "\n",
    "https://www.rimosco.it/picalendar/index.php?a=home\n",
    "\n",
    "## Indice <a class=\"anchor\" id=\"index\"></a>\n",
    "\n",
    "* [1. Quadrati più cubi](#prob01)\n",
    "* [2. Un disegno con tanti incroci](#prob02)\n",
    "* [3. Cancellando cifre](#prob03)\n",
    "* [4. Pulci che passeggiano](#prob04)\n",
    "* [5. La busta misteriosa](#prob05)\n",
    "* [6. La sala P ](#prob06)\n",
    "* [7. Il Libro ](#prob07)\n",
    "* [8. Problemi di apici](#prob08)\n",
    "* [9. L'anno non speciale ](#prob09)\n",
    "* [10. La torre di potenze ](#prob10)\n",
    "* [11. La torre di potenze II](#prob11)\n",
    "* [12. Quadrati accatastati](#prob12)\n",
    "* [13. Le sei piramidi](#prob13)\n",
    "* [14. Quante combinazioni](#prob14)\n",
    "* [15. Tom e Mary](#prob15)\n",
    "* [16. Un triangolo dentro a un quadrato](#prob16)\n",
    "* [17. Un triangolo dentro a un quadrato II](#prob17)\n",
    "* [18. Anagrammi](#prob18)\n",
    "* [19. Il milionario](#prob19)\n",
    "* [20. I due cerchi uguali](#prob20)\n",
    "* [21. Una divisione intera](#prob21)\n",
    "* [23. Il trapezio](#prob22)\n",
    "* [23. Triangolo dentro triangolo](#prob23)\n",
    "* [24. I numeri strani](#prob24)\n",
    "* [25. Poligoni regolari ](#prob25)\n",
    "* [26. Numeri con tanti divisori](#prob26)\n",
    "* [27. Contando lati e diagonali](#prob27)\n",
    "* [28. Anagrammi II](#prob28)\n",
    "* [29. Quattordicesime potenze](#prob29)\n",
    "* [30. Solo 20 centesimi](#prob30)\n",
    "* [31. Multipli di 5](#prob31)\n",
    "* [32. Un polinomio misterioso](#prob32)\n",
    "* [33. Dieci cifre tutte diverse](#prob33)\n",
    "* [34. ACS](#prob34)\n",
    "* [35. Le mie iniziali](#prob35)\n",
    "* [36. Finale](#prob36)"
   ]
  },
  {
   "cell_type": "markdown",
   "id": "satisfactory-equality",
   "metadata": {},
   "source": [
    "## 1. Quadrati più cubi <a class=\"anchor\" id=\"prob01\"></a>\n",
    "\n",
    "https://www.rimosco.it/picalendar/index.php?a=problem&p=5\n",
    "\n",
    "> Il numero 1000 ha questa caratteristica: può essere scritto come somma di un quadrato più un cubo, perché \n",
    "$1000 = 28^2 + 6^3$. Qual è il più grande numero minore di 1000 che ha la stessa proprietà, cioè che può essere scritto come somma di un quadrato più un cubo? I quadrati e i cubi devono essere interi positivi.\n",
    "\n",
    "[Indice](#index)"
   ]
  },
  {
   "cell_type": "code",
   "execution_count": 1,
   "id": "engaging-electricity",
   "metadata": {},
   "outputs": [
    {
     "name": "stdout",
     "output_type": "stream",
     "text": [
      "996\n"
     ]
    }
   ],
   "source": [
    "print(sorted([i**2+j**3 for i in range(1,int(1000**(1/2)+1)) for j in range(1,int(1000**(1/3)+1)) if i**2+j**3<1000])[-1])"
   ]
  },
  {
   "cell_type": "markdown",
   "id": "spectacular-friend",
   "metadata": {},
   "source": [
    "## 2. Un disegno con tanti incroci <a class=\"anchor\" id=\"prob02\"></a>\n",
    "\n",
    "https://www.rimosco.it/picalendar/index.php?a=problem&p=8\n",
    "\n",
    "> Quante intersezioni si possono ottenere disegnando opportunamente 4 circonferenze e 2 rette?\n",
    "\n",
    "* 2 circles = 2 intersections --> N circles = 2 * N * (N-1)/2 intersections\n",
    "* 1 line + 1 circle = 2 intersections --> M line + N circles = 2 * M * N intersections\n",
    "* 1 intersections between every pair of M lines --> M * (M-1)/2\n",
    "\n",
    "[Indice](#index)"
   ]
  },
  {
   "cell_type": "code",
   "execution_count": 2,
   "id": "chinese-things",
   "metadata": {},
   "outputs": [
    {
     "name": "stdout",
     "output_type": "stream",
     "text": [
      "29\n",
      "36\n"
     ]
    }
   ],
   "source": [
    "def intersections(Ncircles,Nlines):\n",
    "    return int(2*Ncircles*(Ncircles-1)/2 + 2*Nlines*Ncircles + Nlines*(Nlines-1)/2)\n",
    "\n",
    "print(intersections(4,2))\n",
    "print(intersections(3,4))"
   ]
  },
  {
   "cell_type": "markdown",
   "id": "further-piano",
   "metadata": {},
   "source": [
    "## 3. Cancellando cifre <a class=\"anchor\" id=\"prob03\"></a>\n",
    "\n",
    "https://www.rimosco.it/picalendar/index.php?a=problem&p=9\n",
    "\n",
    "> si inizia scrivendo in ordine i numeri da 1 a 60, uno a fianco all'altro - 1 2 3 4 ... 57 58 59 60 - Il problema richiede di cancellarne 100 in modo che il numero che si ottiene compattando le cifre rimaste senza spostarle sia il maggiore possibile.\n",
    "\n",
    "La mia risposta (trovata a mano) è 99999785960.\n",
    "\n",
    "Qui sotto una solutione brute force molto elegante di _ilbibi_ (https://pastebin.com/vk9nSAFn)\n",
    "\n",
    "[Indice](#index)"
   ]
  },
  {
   "cell_type": "code",
   "execution_count": 3,
   "id": "lucky-fundamental",
   "metadata": {},
   "outputs": [
    {
     "name": "stdout",
     "output_type": "stream",
     "text": [
      "99999785960\n"
     ]
    }
   ],
   "source": [
    "def check(s,i):\n",
    "    idx=0 # begin by search from beginning of s string\n",
    "    for ii in str(i): # loop over digitsof tried value, search their presence in s *in order*\n",
    "        try:\n",
    "            # https://docs.python.org/2.7/library/string.html#string.index\n",
    "            # second argument of index() defined position where sto start looking for substring\n",
    "            idx=s.index(ii,idx)+1 # search for next digit begins in substring after last found digit!\n",
    "        except ValueError:\n",
    "            return False \n",
    "    return True\n",
    "\n",
    "s=\"\".join([str(a) for a in range(1,61)])\n",
    "\n",
    "start=99999999999\n",
    "while not check(s,start):\n",
    "    start=start-1\n",
    "print(start)"
   ]
  },
  {
   "cell_type": "markdown",
   "id": "extra-savannah",
   "metadata": {},
   "source": [
    "## 4. Pulci che passeggiano <a class=\"anchor\" id=\"prob04\"></a>\n",
    "\n",
    "https://www.rimosco.it/picalendar/index.php?a=problem&p=10\n",
    "\n",
    "> Una pulce si muove all'interno di una scacchiera infinita creando una sorta di spirale, come in figura, e numerando progressivamente tutte le caselle che incontra. Una seconda pulce, invece, partendo dalla casella che contiene il numero 1, si sposta facendo 2022 passi verso destra. Quale numero conterrà la casella su cui arriva proprio dopo 2022 passi?\n",
    "\n",
    "<img src=\"calenPIario/immaginepulce.png\" alt=\"\" width=\"300\" align=\"center\"/>\n",
    "\n",
    "Un problema scopiazzato dal problema 28 di Project Euler :-(\n",
    "\n",
    "[Indice](#index)"
   ]
  },
  {
   "cell_type": "code",
   "execution_count": 4,
   "id": "level-complement",
   "metadata": {},
   "outputs": [
    {
     "data": {
      "text/plain": [
       "71965531"
      ]
     },
     "execution_count": 4,
     "metadata": {},
     "output_type": "execute_result"
    }
   ],
   "source": [
    "def value(steps=4242):\n",
    "    count = 1\n",
    "    n = 1\n",
    "    side = 1 \n",
    "    increment = 2 # increment of number on four diagonals for a given spyral layer\n",
    "    while True:\n",
    "        side += 2 # square side\n",
    "        # generates elements on diagonals\n",
    "        for i in range(4):\n",
    "            n += increment\n",
    "            # compute element on right horizontal branch \n",
    "            if i == 0:\n",
    "                j = n-count\n",
    "                if count==steps:\n",
    "                    return j\n",
    "                count +=1\n",
    "        increment += 2 # new spyral layer\n",
    "        \n",
    "value(4242)"
   ]
  },
  {
   "cell_type": "code",
   "execution_count": 5,
   "id": "fundamental-perth",
   "metadata": {},
   "outputs": [
    {
     "data": {
      "text/plain": [
       "16347871"
      ]
     },
     "execution_count": 5,
     "metadata": {},
     "output_type": "execute_result"
    }
   ],
   "source": [
    "value(2022)"
   ]
  },
  {
   "cell_type": "markdown",
   "id": "grand-deputy",
   "metadata": {},
   "source": [
    "## 5. La busta misteriosa <a class=\"anchor\" id=\"prob05\"></a>\n",
    "\n",
    "https://www.rimosco.it/picalendar/index.php?a=problem&p=11\n",
    "\n",
    "> Bussa tante volte quanti pi ci sono nel punto di domanda.\n",
    "\n",
    "[Indice](#index)\n",
    "\n",
    "<img src=\"calenPIario/immaginequadrato.png\" alt=\"\" width=\"300\" align=\"center\"/>\n",
    "\n",
    "![Soluzione](calenPIario/calenPIario_2022-03-26.jpg)"
   ]
  },
  {
   "cell_type": "markdown",
   "id": "attractive-chaos",
   "metadata": {},
   "source": [
    "## 6. La sala P <a class=\"anchor\" id=\"prob06\"></a>\n",
    "\n",
    "https://www.rimosco.it/picalendar/index.php?a=problem&p=12\n",
    "\n",
    ">Tra tutte le possibili soluzioni intere di $x^2-y^2=3141$ scegli quella in cui $x$ e $y$ sono positivi, e $x+y$\n",
    "ha il valore minore. Quanto vale $x+y$?\n",
    "\n",
    "[Indice](#index)\n",
    "\n",
    "Si tratta di un'equazione equivalente a un'equazione di Pell:\n",
    "\n",
    "https://en.wikipedia.org/wiki/Pell's_equation\n",
    "\n",
    "per la cui soluzione esistono algoritmi intelligenti (e complessi nel caso generico).\n",
    "\n",
    "Iniziamo con la soluzione di forza bruta per portare a casa il punto:"
   ]
  },
  {
   "cell_type": "code",
   "execution_count": 6,
   "id": "needed-yellow",
   "metadata": {},
   "outputs": [
    {
     "data": {
      "text/plain": [
       "349"
      ]
     },
     "execution_count": 6,
     "metadata": {},
     "output_type": "execute_result"
    }
   ],
   "source": [
    "def bruteForceProblem6(M):\n",
    "    return min([ x+y for x in range(M//2) for y in range(M//2) if x**2-y**2-M==0 ])\n",
    "    \n",
    "bruteForceProblem6(3141)"
   ]
  },
  {
   "cell_type": "markdown",
   "id": "virgin-adaptation",
   "metadata": {},
   "source": [
    "Passando invece alla soluzione analitica, posso riscrivere l'equazione come:\n",
    "\n",
    "$x^2-y^2 = M$\n",
    "\n",
    "$(x+y)(x-y) = M$\n",
    "\n",
    "da cui segue che $(x+y)=a$ e $(x-y)=b$ devono essere fattori di M, da cui:\n",
    "\n",
    "$x = \\frac{a+b}{2}$\n",
    "\n",
    "$y = \\frac{a-b}{2}$\n",
    "\n",
    "Posso dunque trovare tutte le soluzioni $(x,y)$ dell'equazione $x^2-y^2 = M$ partendo da ogni possibile coppia $(a,b)$ di fattori di $M$."
   ]
  },
  {
   "cell_type": "code",
   "execution_count": 7,
   "id": "dying-premises",
   "metadata": {},
   "outputs": [],
   "source": [
    "def factor(n):\n",
    "    \"\"\"Returns all prime factors of a positive integer. Returns n if prime\"\"\"\n",
    "    factors = []\n",
    "    d = 2 # begin by attempting to divide by 2\n",
    "    while n > 1:\n",
    "        while n % d == 0: # check if I can divide n by d, if so store factor and repeat with quotient\n",
    "            factors.append(d)\n",
    "            n /= d\n",
    "        d = d + 1 # increase divident\n",
    "    return factors"
   ]
  },
  {
   "cell_type": "code",
   "execution_count": 8,
   "id": "hidden-general",
   "metadata": {},
   "outputs": [
    {
     "name": "stdout",
     "output_type": "stream",
     "text": [
      "[(1571, 1570), (525, 522), (179, 170)]\n",
      "(179, 170) --> x + y = 349\n"
     ]
    }
   ],
   "source": [
    "def solveProblem6(M):\n",
    "    sols = []\n",
    "    for a in set([1]+factor(M)): # also consider the factors 1 and M\n",
    "        b = M//a\n",
    "        x = (a+b)//2\n",
    "        y = abs((a-b))//2\n",
    "        sols.append((x,y))\n",
    "    return sols\n",
    "\n",
    "sols = solveProblem6(3141)\n",
    "print(sols)\n",
    "\n",
    "s0 = min(sols,key=sum)\n",
    "print(s0,\"--> x + y =\",sum(s0))"
   ]
  },
  {
   "cell_type": "markdown",
   "id": "compact-ecuador",
   "metadata": {},
   "source": [
    "## 7. Il Libro <a class=\"anchor\" id=\"prob07\"></a>\n",
    "\n",
    "https://www.rimosco.it/picalendar/index.php?a=problem&p=13\n",
    "\n",
    "> I numeri da 1 a 3141 (estremi compresi) sono scritti in ordine su un cerchio. Partendo da 1, si cerchia un numero saltando di 225 in 225 (1, 226, 451, 676, e così via, proseguendo lungo il cerchio). Si va avanti finché non si raggiunge un numero che è già stato cerchiato. Quando questo accade, quanti sono i numeri che non sono stati cerchiati?\n",
    "\n",
    "[Indice](#index)"
   ]
  },
  {
   "cell_type": "code",
   "execution_count": 9,
   "id": "abstract-engineering",
   "metadata": {},
   "outputs": [
    {
     "data": {
      "text/plain": [
       "2792"
      ]
     },
     "execution_count": 9,
     "metadata": {},
     "output_type": "execute_result"
    }
   ],
   "source": [
    "def solveProblem7BruteForce(n=3141,d=225):\n",
    "    numbers = [i for i in range(1,n+1)]\n",
    "    p = 0\n",
    "    circled = []\n",
    "    while True:\n",
    "        if numbers[p] in circled:\n",
    "            break\n",
    "        circled.append(numbers[p])\n",
    "        p = (p+d)%len(numbers)\n",
    "    return len(numbers)-len(circled)\n",
    "\n",
    "solveProblem7BruteForce(3141,225)"
   ]
  },
  {
   "cell_type": "markdown",
   "id": "decent-palmer",
   "metadata": {},
   "source": [
    "### Soluzione analitica\n",
    "\n",
    "Se $d$ è un divisore di $n$, troverò un numero cerchiaro dopo 1 giro, dopo averne cerchiati $n/d$.\n",
    "\n",
    "Altrimenti mi serviranno $g = \\textrm{MCD}(n,d)$ giri per trovare un numero già cerchiato, dopo i quali $n/g$ numeri saranno stati cerchiati.\n",
    "\n",
    "Se $n$ e $d$ sono primi tra loro, tutti i numeri verranno cerchiati."
   ]
  },
  {
   "cell_type": "code",
   "execution_count": 10,
   "id": "received-mobile",
   "metadata": {},
   "outputs": [
    {
     "data": {
      "text/plain": [
       "2792"
      ]
     },
     "execution_count": 10,
     "metadata": {},
     "output_type": "execute_result"
    }
   ],
   "source": [
    "from math import gcd\n",
    "\n",
    "def solveProblem7(n=3141,d=225):\n",
    "    g = gcd(n,d)\n",
    "    return n-n//g\n",
    "\n",
    "solveProblem7(3141,225)"
   ]
  },
  {
   "cell_type": "code",
   "execution_count": 11,
   "id": "hired-alias",
   "metadata": {},
   "outputs": [
    {
     "name": "stdout",
     "output_type": "stream",
     "text": [
      "3141 220 1 0 0\n",
      "3141 221 1 0 0\n",
      "3141 222 3 2094 2094\n",
      "3141 223 1 0 0\n",
      "3141 224 1 0 0\n",
      "3141 225 9 2792 2792\n",
      "3141 226 1 0 0\n",
      "3141 227 1 0 0\n",
      "3141 228 3 2094 2094\n",
      "3141 229 1 0 0\n"
     ]
    }
   ],
   "source": [
    "n = 3141\n",
    "for d in range(220,230):\n",
    "    print(n,d,gcd(n,d),solveProblem7BruteForce(n,d),solveProblem7(n,d))"
   ]
  },
  {
   "cell_type": "markdown",
   "id": "coordinate-eclipse",
   "metadata": {},
   "source": [
    "# 8. Problemi di apici  <a class=\"anchor\" id=\"prob08\"></a>\n",
    "\n",
    "https://www.rimosco.it/picalendar/index.php?a=problem&p=14\n",
    "\n",
    "> Stavo scrivendo al computer un testo, e volevo scrivere il numero $2^a 9^b$, ma ho dimenticato gli apici e ho scritto il numero di quattro cifre $2a9b$. Però mi è andata bene: il numero scrtto in maniera errata è comunque uguale a quello che volevo scrivere come prodotto di due potenze. Qual è questo numero?\n",
    "\n",
    "[Indice](#index)"
   ]
  },
  {
   "cell_type": "code",
   "execution_count": 12,
   "id": "imperial-layer",
   "metadata": {},
   "outputs": [
    {
     "data": {
      "text/plain": [
       "2592"
      ]
     },
     "execution_count": 12,
     "metadata": {},
     "output_type": "execute_result"
    }
   ],
   "source": [
    "def solveProblem8():\n",
    "    for a in range(10):\n",
    "        for b in range(10):\n",
    "            #n = int(\"2{}9{}\".format(a,b))\n",
    "            n = 2000+a*100+90+b\n",
    "            if n==2**a*9**b:\n",
    "                return n\n",
    "\n",
    "solveProblem8()"
   ]
  },
  {
   "cell_type": "markdown",
   "id": "committed-tamil",
   "metadata": {},
   "source": [
    "Caso generico $a^b c^d = abcd$"
   ]
  },
  {
   "cell_type": "code",
   "execution_count": 13,
   "id": "illegal-width",
   "metadata": {},
   "outputs": [
    {
     "name": "stdout",
     "output_type": "stream",
     "text": [
      "2592\n"
     ]
    }
   ],
   "source": [
    "for a in range(10):\n",
    "    for b in range(10):\n",
    "        for c in range(10):\n",
    "            for d in range(10):\n",
    "                n = 1000*a+100*b+10*c+d\n",
    "                if n==a**b*c**d:\n",
    "                    print(n)"
   ]
  },
  {
   "cell_type": "markdown",
   "id": "radio-seller",
   "metadata": {},
   "source": [
    "##  9. L'anno non speciale  <a class=\"anchor\" id=\"prob09\"></a>\n",
    "\n",
    "https://www.rimosco.it/picalendar/index.php?a=problem&p=15\n",
    "\n",
    "> Il 2022 è un anno speciale: si può scrivere come somma di numeri naturali consecutivi. 2022=504+505+506+507. Pensandoci, anche il 2021 è un anno speciale. 2021=26+27+28+...+68. Pensandoci ancora un po', anche il 2020 è speciale. Nel terzo millennio (tra il 2000 e il 3000) c'è un solo anno che non si può esprimere come somma di numeri naturali consecutivi. Quale?\n",
    "\n",
    "Il numero non può essere dispari: ogni numero dispari $N$ può essere scritto come la somma dei numeri consecutivi $(N-1)/2$ e $(N+1)/2$\n",
    "\n",
    "[Indice](#index)"
   ]
  },
  {
   "cell_type": "code",
   "execution_count": 14,
   "id": "female-pursuit",
   "metadata": {},
   "outputs": [
    {
     "name": "stdout",
     "output_type": "stream",
     "text": [
      "2022\n",
      "2021\n"
     ]
    }
   ],
   "source": [
    "mem_sum_m_n = {}\n",
    "\n",
    "def sum_m_n(n,m):\n",
    "    '''funzione per calcolare la somma dei numeri consecutivi tra n e m inclusi'''\n",
    "    if (n,m) in mem_sum_m_n.keys():\n",
    "        return mem_sum_m_n[(n,m)]\n",
    "    else:\n",
    "        s = (m+n)*(m-n+1)//2\n",
    "        mem_sum_m_n[(n,m)] = s\n",
    "        return s\n",
    "\n",
    "print(sum_m_n(504,507))\n",
    "print(sum_m_n(26,68))"
   ]
  },
  {
   "cell_type": "code",
   "execution_count": 15,
   "id": "public-outreach",
   "metadata": {},
   "outputs": [
    {
     "data": {
      "text/plain": [
       "(True, 31, 70)"
      ]
     },
     "execution_count": 15,
     "metadata": {},
     "output_type": "execute_result"
    }
   ],
   "source": [
    "def isSpecial(y):\n",
    "    '''funzione per verificare se il numero è \"speciale\"'''\n",
    "    if y%2==1: # numeri dispari\n",
    "        return True\n",
    "    # numeri pari\n",
    "    for n in range(1,y+1): \n",
    "        for m in range(n+1,y+1):\n",
    "            t = sum_m_n(n,m)\n",
    "            if t>y:\n",
    "                break\n",
    "            if y==t:\n",
    "                return True, n, m\n",
    "    return False\n",
    "            \n",
    "isSpecial(2020)"
   ]
  },
  {
   "cell_type": "code",
   "execution_count": 16,
   "id": "prostate-plymouth",
   "metadata": {},
   "outputs": [
    {
     "data": {
      "text/plain": [
       "[2048]"
      ]
     },
     "execution_count": 16,
     "metadata": {},
     "output_type": "execute_result"
    }
   ],
   "source": [
    "def solveProblem9(nmin=2000,nmax=3000):\n",
    "    return [ y for y in range(nmin,nmax+1,2) if not isSpecial(y) ] # itero solo sui numeri pari \n",
    "\n",
    "solveProblem9()"
   ]
  },
  {
   "cell_type": "markdown",
   "id": "large-hanging",
   "metadata": {},
   "source": [
    "### Soluzione analitica"
   ]
  },
  {
   "cell_type": "markdown",
   "id": "editorial-invention",
   "metadata": {},
   "source": [
    "Un numero _dispari_ è sempre speciale: ogni numero dispari $N$ può infatti essere scritto come la somma dei numeri consecutivi $(N-1)/2$ e $(N+1)/2$.\n",
    "\n",
    "Perché un numero $N$ _pari_ possa essere speciale, deve poter essere scritto come la somma di $M$ interi consecutivi, dove $M$ può essere pari o dispari. Nel caso $M$ sia pari, allora $N$ è divisibile per la somma del'intero più piccolo e quello più grande della sequenza di $M$ numeri, e questa somma è dispari per definizione. Se $M$ è dispari, allora $N$ è divisibile per $M$. In entrambi i casi, perché $N$ pari sia speciale è necessario che abbia almeno un fattore dispari.\n",
    "\n",
    "**Ne segue che le potenze di 2 non possono essere speciali.**\n",
    "\n",
    "Nell'esempio, l'unica potenzia di 2 tra 2000 e 3000 è $2^{11} = 2048$."
   ]
  },
  {
   "cell_type": "code",
   "execution_count": 17,
   "id": "structured-nitrogen",
   "metadata": {},
   "outputs": [
    {
     "data": {
      "text/plain": [
       "[2, 4, 8, 16, 32, 64, 128, 256, 512, 1024, 2048]"
      ]
     },
     "execution_count": 17,
     "metadata": {},
     "output_type": "execute_result"
    }
   ],
   "source": [
    "solveProblem9(2,3000)"
   ]
  },
  {
   "cell_type": "markdown",
   "id": "swiss-breathing",
   "metadata": {},
   "source": [
    "## 10. La torre di potenze  <a class=\"anchor\" id=\"prob10\"></a>\n",
    "\n",
    "https://www.rimosco.it/picalendar/index.php?a=problem&p=16\n",
    "\n",
    "> $9^{8^{7^{6^{5^{4^{3^{2^1}}}}}}}$ è un numero molto grande. Quali sono le sue ultime due cifre?\n",
    "\n",
    "Osservo che le ultime cifre di ogni potenza di 9 si ripetono con periodicità pari a 10, di ogni esponente precedente mi serve dunque solo propagare l'ultima cifra significativa.\n",
    "\n",
    "[Indice](#index)"
   ]
  },
  {
   "cell_type": "code",
   "execution_count": 18,
   "id": "alien-offer",
   "metadata": {},
   "outputs": [
    {
     "name": "stdout",
     "output_type": "stream",
     "text": [
      "9^( 0) =                    1  1\n",
      "9^( 1) =                    9  9\n",
      "9^( 2) =                   81 81\n",
      "9^( 3) =                  729 29\n",
      "9^( 4) =                 6561 61\n",
      "9^( 5) =                59049 49\n",
      "9^( 6) =               531441 41\n",
      "9^( 7) =              4782969 69\n",
      "9^( 8) =             43046721 21\n",
      "9^( 9) =            387420489 89\n",
      "9^(10) =           3486784401  1\n",
      "9^(11) =          31381059609  9\n",
      "9^(12) =         282429536481 81\n",
      "9^(13) =        2541865828329 29\n",
      "9^(14) =       22876792454961 61\n",
      "9^(15) =      205891132094649 49\n",
      "9^(16) =     1853020188851841 41\n",
      "9^(17) =    16677181699666569 69\n",
      "9^(18) =   150094635296999121 21\n",
      "9^(19) =  1350851717672992089 89\n",
      "9^(20) = 12157665459056928801  1\n"
     ]
    }
   ],
   "source": [
    "a = 9\n",
    "for n in range(0,21): # powers from 0 to 20\n",
    "    #digits = int(str(a**n)[-2:])\n",
    "    digits = a**n % 100\n",
    "    print(\"{:d}^({:2d}) = {:20d} {:2d}\".format(a,n,a**n,digits))"
   ]
  },
  {
   "cell_type": "markdown",
   "id": "distinguished-prefix",
   "metadata": {},
   "source": [
    "Osservo anche che l'ultima cifra di ogni potenza delle altre basi 2-8 si ripete con periodicità uguale o inferiore a 10, per cui mi basta propagare solo la cifra meno significativa del risultato dell'esponenziazione precedente.\n",
    "\n",
    "Partendo da questa osservazione, posso salvare i pattern delle ultime due cifre delle potenza di ogni base tra 1 e 9 per ogni esponente tra 0 e 9 (anche se per 2-8 mi basterebbe solo l'ultima!), e poi propagare soltanto le potenze dell'ultima cifra del risultato precedente:"
   ]
  },
  {
   "cell_type": "code",
   "execution_count": 19,
   "id": "central-better",
   "metadata": {},
   "outputs": [
    {
     "name": "stdout",
     "output_type": "stream",
     "text": [
      "2^(...1) = ...2\n",
      "3^(...2) = ...9\n",
      "4^(...9) = ...44\n",
      "5^(...4) = ...25\n",
      "6^(...5) = ...76\n",
      "7^(...6) = ...49\n",
      "8^(...9) = ...28\n",
      "9^(...8) = ...21\n"
     ]
    }
   ],
   "source": [
    "a = 1\n",
    "for n in range(2,10):\n",
    "    nn = str(n**a)[-2:]\n",
    "    print(\"{}^(...{}) = ...{}\".format(n,a,nn))\n",
    "    a = int(nn[-1])"
   ]
  },
  {
   "cell_type": "markdown",
   "id": "uniform-hopkins",
   "metadata": {},
   "source": [
    "## 11. La torre di potenze II  <a class=\"anchor\" id=\"prob11\"></a>\n",
    "\n",
    "https://www.rimosco.it/picalendar/index.php?a=problem&p=17\n",
    "\n",
    "> $98^{97^{96^{95^{...^{4^{3^{2^1}}}}}}}$ è un numero molto grande. Quali sono le sue ultime due cifre?\n",
    "\n",
    "Considerando le basi da 98 in giù, i pattern delle ultime due cifre delle possibili potenze si ripetono come già per le basi da 9 a 2, ma con una **periodicità a volte più grande di 10**. Siccome la periodicità delle ultime due cifre non può essere superiore a 100 la soluzione del problema precedente funziona a patto di propagare le ultime 2 cifre di ogni potenza, che di fatto corrisponde a farne il **modulo 100**.\n",
    "\n",
    "Posso ulteriormente semplificare il problema cercando una base per cui le ultime due cifre si ripetano con una periodicità pari a 1 (i.e. sempre le stesse), e, nel caso la periodicità segua alcuni elementi non periodici, verificando che l'esponente precedente sia più grande di queste cifre (ovvio se la base è grande e all'inizio della \"torre\").\n",
    "\n",
    "Nel caso specifico questa base è 90, la cui periodicità delle 2 cifre 00 inizia dall'esponente 2. Visto inoltre che la periodictà delle potenze di 91 è 10 con nessun elemento precedente, posso anche semplicemente partire dall'esponente esponente 0 per 91, visto che l'unica cifra significativa dell'esponente di 91 che che conta è l'ultima, ed è sempre 0 per tutte le potenze di 90 esclusa $90^0$ (che non può verificarsi nel problema in questione).\n",
    "\n",
    "[Indice](#index)"
   ]
  },
  {
   "cell_type": "code",
   "execution_count": 20,
   "id": "retained-allah",
   "metadata": {},
   "outputs": [
    {
     "name": "stdout",
     "output_type": "stream",
     "text": [
      "Base 98: power last 2 digits pattern cycle = 20 after 2 elements\n",
      "Base 97: power last 2 digits pattern cycle = 20 after 0 elements\n",
      "Base 96: power last 2 digits pattern cycle =  5 after 1 elements\n",
      "Base 95: power last 2 digits pattern cycle =  2 after 2 elements\n",
      "Base 94: power last 2 digits pattern cycle = 10 after 2 elements\n",
      "Base 93: power last 2 digits pattern cycle =  4 after 0 elements\n",
      "Base 92: power last 2 digits pattern cycle = 20 after 1 elements\n",
      "Base 91: power last 2 digits pattern cycle = 10 after 0 elements\n",
      "Base 90: power last 2 digits pattern cycle =  1 after 2 elements\n",
      "Found base with periodicity 1!\n"
     ]
    }
   ],
   "source": [
    "for a in range(98,1,-1):\n",
    "    n = 0\n",
    "    digits = []\n",
    "    while True:\n",
    "        pow_a_n = a**n % 100\n",
    "        if pow_a_n in digits:\n",
    "            print(\"Base {:2d}: power last 2 digits pattern cycle = {:2d} after {:d} elements\".format(a,len(digits)-digits.index(pow_a_n),digits.index(pow_a_n)))\n",
    "            break \n",
    "        digits.append(pow_a_n)\n",
    "        n += 1\n",
    "    if len(digits)-digits.index(pow_a_n)==1:\n",
    "        print(\"Found base with periodicity 1!\")\n",
    "        break"
   ]
  },
  {
   "cell_type": "markdown",
   "id": "radical-controversy",
   "metadata": {},
   "source": [
    "### Soluzione \"estesa\"\n",
    "\n",
    "Modifica della soluzione del problema 10 per tenere in conto le ultime due cifre di ogni esponenziazione:"
   ]
  },
  {
   "cell_type": "code",
   "execution_count": 21,
   "id": "republican-prague",
   "metadata": {},
   "outputs": [
    {
     "name": "stdout",
     "output_type": "stream",
     "text": [
      " 2^(... 1) = ... 2\n",
      " 3^(... 2) = ... 9\n",
      " 4^(... 9) = ...44\n",
      " 5^(...44) = ...25\n",
      " 6^(...25) = ...76\n",
      " 7^(...76) = ... 1\n",
      " 8^(... 1) = ... 8\n",
      " 9^(... 8) = ...21\n",
      "10^(...21) = ... 0\n",
      "11^(... 0) = ... 1\n",
      "12^(... 1) = ...12\n",
      "13^(...12) = ...81\n",
      "14^(...81) = ...64\n",
      "15^(...64) = ...25\n",
      "16^(...25) = ...76\n",
      "17^(...76) = ...81\n",
      "18^(...81) = ...68\n",
      "19^(...68) = ...41\n",
      "20^(...41) = ... 0\n",
      "21^(... 0) = ... 1\n",
      "22^(... 1) = ...22\n",
      "23^(...22) = ...29\n",
      "24^(...29) = ...24\n",
      "25^(...24) = ...25\n",
      "26^(...25) = ...76\n",
      "27^(...76) = ...61\n",
      "28^(...61) = ...28\n",
      "29^(...28) = ...61\n",
      "30^(...61) = ... 0\n",
      "31^(... 0) = ... 1\n",
      "32^(... 1) = ...32\n",
      "33^(...32) = ...61\n",
      "34^(...61) = ...84\n",
      "35^(...84) = ...25\n",
      "36^(...25) = ...76\n",
      "37^(...76) = ...41\n",
      "38^(...41) = ...88\n",
      "39^(...88) = ...81\n",
      "40^(...81) = ... 0\n",
      "41^(... 0) = ... 1\n",
      "42^(... 1) = ...42\n",
      "43^(...42) = ...49\n",
      "44^(...49) = ... 4\n",
      "45^(... 4) = ...25\n",
      "46^(...25) = ...76\n",
      "47^(...76) = ...21\n",
      "48^(...21) = ...48\n",
      "49^(...48) = ... 1\n",
      "50^(... 1) = ...50\n",
      "51^(...50) = ... 1\n",
      "52^(... 1) = ...52\n",
      "53^(...52) = ...41\n",
      "54^(...41) = ... 4\n",
      "55^(... 4) = ...25\n",
      "56^(...25) = ...76\n",
      "57^(...76) = ... 1\n",
      "58^(... 1) = ...58\n",
      "59^(...58) = ...21\n",
      "60^(...21) = ... 0\n",
      "61^(... 0) = ... 1\n",
      "62^(... 1) = ...62\n",
      "63^(...62) = ...69\n",
      "64^(...69) = ...84\n",
      "65^(...84) = ...25\n",
      "66^(...25) = ...76\n",
      "67^(...76) = ...81\n",
      "68^(...81) = ...68\n",
      "69^(...68) = ...41\n",
      "70^(...41) = ... 0\n",
      "71^(... 0) = ... 1\n",
      "72^(... 1) = ...72\n",
      "73^(...72) = ...21\n",
      "74^(...21) = ...24\n",
      "75^(...24) = ...25\n",
      "76^(...25) = ...76\n",
      "77^(...76) = ...61\n",
      "78^(...61) = ...28\n",
      "79^(...28) = ...61\n",
      "80^(...61) = ... 0\n",
      "81^(... 0) = ... 1\n",
      "82^(... 1) = ...82\n",
      "83^(...82) = ...89\n",
      "84^(...89) = ...64\n",
      "85^(...64) = ...25\n",
      "86^(...25) = ...76\n",
      "87^(...76) = ...41\n",
      "88^(...41) = ...88\n",
      "89^(...88) = ...81\n",
      "90^(...81) = ... 0\n",
      "91^(... 0) = ... 1\n",
      "92^(... 1) = ...92\n",
      "93^(...92) = ... 1\n",
      "94^(... 1) = ...94\n",
      "95^(...94) = ...25\n",
      "96^(...25) = ...76\n",
      "97^(...76) = ...21\n",
      "98^(...21) = ...48\n"
     ]
    }
   ],
   "source": [
    "a = 1\n",
    "for n in range(2,99):\n",
    "    nn = n**a % 100\n",
    "    print(\"{:2d}^(...{:2d}) = ...{:2d}\".format(n,a,nn))\n",
    "    a = nn"
   ]
  },
  {
   "cell_type": "markdown",
   "id": "recorded-gross",
   "metadata": {},
   "source": [
    "### Soluzione \"ottimizzata\"\n",
    "\n",
    "Parto dalla base 91 e con esponente 0, dopo aver osservato che la periodicità delle sue potenze è 10 e dunque dipende solo dall'ultima cifra dell'esponente precedente, e che le potenze di 90 finiscono sempre con 0 tranne quando l'esponente è 0, che è un caso che posso escludere per questo problema!"
   ]
  },
  {
   "cell_type": "code",
   "execution_count": 22,
   "id": "satisfactory-address",
   "metadata": {},
   "outputs": [
    {
     "name": "stdout",
     "output_type": "stream",
     "text": [
      "91^(... 0) = ... 1\n",
      "92^(... 1) = ...92\n",
      "93^(...92) = ... 1\n",
      "94^(... 1) = ...94\n",
      "95^(...94) = ...25\n",
      "96^(...25) = ...76\n",
      "97^(...76) = ...21\n",
      "98^(...21) = ...48\n"
     ]
    }
   ],
   "source": [
    "a = 0 \n",
    "for n in range(91,99):\n",
    "    nn = n**a % 100\n",
    "    print(\"{:2d}^(...{:2d}) = ...{:2d}\".format(n,a,nn))\n",
    "    a = nn"
   ]
  },
  {
   "cell_type": "markdown",
   "id": "basic-entry",
   "metadata": {},
   "source": [
    "## 12. Quadrati accatastati  <a class=\"anchor\" id=\"prob12\"></a>\n",
    "\n",
    "https://www.rimosco.it/picalendar/index.php?a=problem&p=18\n",
    "\n",
    "[Indice](#index)\n",
    "\n",
    "\n",
    "<img src=\"calenPIario/quadrati.png\" alt=\"\" width=\"400\" align=\"center\"/>\n",
    "\n",
    "<img src=\"calenPIario/calenPIario_2022-04-18.jpg\" alt=\"\" width=\"600\" align=\"center\"/>"
   ]
  },
  {
   "cell_type": "markdown",
   "id": "apart-shopper",
   "metadata": {},
   "source": [
    "## 13. Le sei piramidi  <a class=\"anchor\" id=\"prob13\"></a>\n",
    "\n",
    "https://www.rimosco.it/picalendar/index.php?a=problem&p=19\n",
    "\n",
    "> Si sceglie un punto all'interno di un cubo e lo si collega con i suoi sei vertici, formando sei piramidi aventi come basi le facce del cubo. I volumi di cinque delle sei piramidi sono 2, 5, 10, 11 e 14. Qual è il volume della sesta piramide?\n",
    "\n",
    "Volume piramide: $V = \\frac{1}{3} Bh$ ($B$ = base, $h$ = altezza)\n",
    "\n",
    "Ovunque sia piazzato il punto all'interno del cubo, la somma dei volumi di due piramide opposte è sempre:\n",
    "\n",
    "$V_1 + V_2 = \\frac{1}{3} B (h_1 + h_2) = \\frac{1}{3} B \\sqrt{B}$\n",
    "\n",
    "dove $B$ è la superficie di una faccia del cubo, $\\sqrt{B} = h_1 + h_2$ il suo lato, e $h_1$ e $h_2$ sono le altezze delle due piramidi.\n",
    "\n",
    "Dati i cinque valori forniti dal problema, devo dunque trovare due coppie la cui somma dia lo stesso risultato:\n",
    "\n",
    "- 2 + 14 = 16\n",
    "- 5 + 11 = 16\n",
    "\n",
    "Mi resta allora il valore 10, dal che deduco che **la sesta piramide deve avere volume 6** (perché 10 + 6 = 16).\n",
    "\n",
    "Il lato del cubo $l = \\sqrt{B}$ può essere calcolato come:\n",
    "\n",
    "$16 = \\frac{1}{3} B \\sqrt{B} \\to 48 = l^3 \\to l = \\sqrt[3]{48} = 2 \\sqrt[3]{6}$\n",
    "\n",
    "[Indice](#index)"
   ]
  },
  {
   "cell_type": "markdown",
   "id": "starting-commons",
   "metadata": {},
   "source": [
    "## 14. Quante combinazioni  <a class=\"anchor\" id=\"prob14\"></a>\n",
    "\n",
    "> Un lucchetto ha la combinazione di 4 cifre, da 0000 a 9999. Sappiamo che la somma delle prime due cifre è uguale alla somma delle altre due. Quante combinazioni soddisfano i requisiti?\n",
    "\n",
    "[Indice](#index)\n",
    "\n",
    "###  Soluzione di forza bruta "
   ]
  },
  {
   "cell_type": "code",
   "execution_count": 23,
   "id": "experienced-lingerie",
   "metadata": {},
   "outputs": [
    {
     "name": "stdout",
     "output_type": "stream",
     "text": [
      "670\n"
     ]
    }
   ],
   "source": [
    "c = 0\n",
    "for i in range(10000):\n",
    "    n = [ int(d) for d in str(i).rjust(4,'0') ]\n",
    "    if n[0]+n[1]==n[2]+n[3]:\n",
    "        c += 1\n",
    "print(c)"
   ]
  },
  {
   "cell_type": "markdown",
   "id": "central-testament",
   "metadata": {},
   "source": [
    "### Soluzione un po' più elegante\n",
    "\n",
    "Costruisco gli insiemi dei numeri tra 00 e 99 la cui somma delle cifre ha lo stesso valore, poi conto per ogni somma le possibili combinazioni che danno vita un numero di 4 cifre che soddisfa l'enunciato del problema, che è pari al quadrato del numero di numeri la cui somma delle cifre ha lo stesso valore (perché valgono tanto le combinazioni con la stessa coppia di numeri ma in posizioni diverse - e.g. 1221 e 2112 - quanto la combinazione che accoppi due volte lo stesso numero -- e.g. 1212)"
   ]
  },
  {
   "cell_type": "code",
   "execution_count": 24,
   "id": "opposed-bankruptcy",
   "metadata": {},
   "outputs": [],
   "source": [
    "from collections import defaultdict\n",
    "\n",
    "digitSum = defaultdict(list)\n",
    "\n",
    "for i in range(100):\n",
    "    s = i//10+i%10\n",
    "    digitSum[s].append(i)"
   ]
  },
  {
   "cell_type": "code",
   "execution_count": 25,
   "id": "alive-myrtle",
   "metadata": {},
   "outputs": [
    {
     "data": {
      "text/plain": [
       "defaultdict(list,\n",
       "            {0: [0],\n",
       "             1: [1, 10],\n",
       "             2: [2, 11, 20],\n",
       "             3: [3, 12, 21, 30],\n",
       "             4: [4, 13, 22, 31, 40],\n",
       "             5: [5, 14, 23, 32, 41, 50],\n",
       "             6: [6, 15, 24, 33, 42, 51, 60],\n",
       "             7: [7, 16, 25, 34, 43, 52, 61, 70],\n",
       "             8: [8, 17, 26, 35, 44, 53, 62, 71, 80],\n",
       "             9: [9, 18, 27, 36, 45, 54, 63, 72, 81, 90],\n",
       "             10: [19, 28, 37, 46, 55, 64, 73, 82, 91],\n",
       "             11: [29, 38, 47, 56, 65, 74, 83, 92],\n",
       "             12: [39, 48, 57, 66, 75, 84, 93],\n",
       "             13: [49, 58, 67, 76, 85, 94],\n",
       "             14: [59, 68, 77, 86, 95],\n",
       "             15: [69, 78, 87, 96],\n",
       "             16: [79, 88, 97],\n",
       "             17: [89, 98],\n",
       "             18: [99]})"
      ]
     },
     "execution_count": 25,
     "metadata": {},
     "output_type": "execute_result"
    }
   ],
   "source": [
    "digitSum"
   ]
  },
  {
   "cell_type": "code",
   "execution_count": 26,
   "id": "manufactured-attribute",
   "metadata": {},
   "outputs": [
    {
     "name": "stdout",
     "output_type": "stream",
     "text": [
      "670\n"
     ]
    }
   ],
   "source": [
    "c = 0\n",
    "for s in digitSum.keys():\n",
    "    l = len(digitSum[s])\n",
    "    c += l*l\n",
    "print(c)"
   ]
  },
  {
   "cell_type": "markdown",
   "id": "about-guitar",
   "metadata": {},
   "source": [
    "### Soluzione analitica\n",
    "\n",
    "Vista la distribuzione dei numeri le somma delle cui cifre da lo stesso risultato, la soluzione può essere riscritta analiticamente come:\n",
    "\n",
    "$\\sum_{i=1}^{10} i^2 + \\sum_{i=1}^{9} i^2 $\n",
    "\n",
    "Siccome:\n",
    "\n",
    "$\\sum_{i=1}^{n} i^2 = \\frac{n(n+1)(2n+1)}{6}$\n",
    "\n",
    "La soluzione analitica è dunque:\n",
    "\n",
    "$\\frac{10 \\cdot 11 \\cdot 21}{6} + \\frac{9 \\cdot 10 \\cdot 19}{6}$"
   ]
  },
  {
   "cell_type": "code",
   "execution_count": 27,
   "id": "fleet-hands",
   "metadata": {},
   "outputs": [
    {
     "data": {
      "text/plain": [
       "670"
      ]
     },
     "execution_count": 27,
     "metadata": {},
     "output_type": "execute_result"
    }
   ],
   "source": [
    "10*11*21//6 + 9*10*19//6"
   ]
  },
  {
   "cell_type": "code",
   "execution_count": 28,
   "id": "finnish-manchester",
   "metadata": {},
   "outputs": [
    {
     "data": {
      "text/plain": [
       "(670, 670)"
      ]
     },
     "execution_count": 28,
     "metadata": {},
     "output_type": "execute_result"
    }
   ],
   "source": [
    "def sumSquare(n):\n",
    "    return n*(n+1)*(2*n+1)//6\n",
    "\n",
    "def sumSquareLoop(n):\n",
    "    s = 0\n",
    "    for i in range(1,n+1):\n",
    "        s += i*i\n",
    "    return s\n",
    "\n",
    "sumSquare(10)+sumSquare(9), sumSquareLoop(10)+sumSquareLoop(9)"
   ]
  },
  {
   "cell_type": "markdown",
   "id": "revised-berkeley",
   "metadata": {},
   "source": [
    "## 15. Tom e Mary  <a class=\"anchor\" id=\"prob15\"></a>\n",
    "\n",
    "> Se sommi il quadrato dell'età di Tom all'età di Mary, ottieni 62. Ma se sommi il quadrato dell'età di Mary all'età di Tom, ottieni 176. Quanto vale la somma dell'età di Tom e dell'età di Mary?\n",
    "\n",
    "### Soluzione \"manuale\"\n",
    "\n",
    "$\\left\\{ \\begin{eqnarray} t^2 + m & = & 62 \\\\ t + m^2 & = & 176 \\\\ \\end{eqnarray} \\right.$\n",
    "\n",
    "Il sistema risulta in un'equazione di quarto grado, per esempio:\n",
    "\n",
    "$(176-m^2)^2 + m = 62 $\n",
    "\n",
    "$m^4 - 352 m^2 + m + 30914 = 0 $\n",
    "\n",
    "che non provo nemmeno a risolvere (e poi, come si risolvono le equazioni di quarto grado? Boh...), visto che delle quattro soluzioni ce ne sono alcune in cui almeno uno tra $m$ e $t$ è negativo, e a me interessano interi positivi visto l'enunciato del problema. Cerco allora \"a mano\" le soluzioni intere positive, considerando che devono verificarsi $t<\\sqrt{62}<8$ e $m<\\sqrt{176}<14$. Rapidamente trovo:\n",
    "\n",
    "$t = 7, m = 13 \\to t+m =20$\n",
    "\n",
    "### Soluzione di forza bruta per soluzioni intere positive"
   ]
  },
  {
   "cell_type": "code",
   "execution_count": 29,
   "id": "involved-convertible",
   "metadata": {},
   "outputs": [],
   "source": [
    "def M(t):\n",
    "    return 62 - t*t\n",
    "\n",
    "def T(m):\n",
    "    return 176 - m*m"
   ]
  },
  {
   "cell_type": "code",
   "execution_count": 30,
   "id": "exempt-findings",
   "metadata": {},
   "outputs": [
    {
     "name": "stdout",
     "output_type": "stream",
     "text": [
      "7 13 20\n"
     ]
    }
   ],
   "source": [
    "from math import sqrt \n",
    "\n",
    "for t in range(int(sqrt(62)),0,-1):\n",
    "    for m in range(int(sqrt(176)),0,-1):\n",
    "        if M(t)==m and T(m)==t:\n",
    "            print(t,m,t+m)"
   ]
  },
  {
   "cell_type": "markdown",
   "id": "nominated-speaker",
   "metadata": {},
   "source": [
    "### Soluzioni reali\n",
    "\n",
    "Ci sono altre tre solutioni reali con almeno uno dei valori negativo, che corrispondono alle intersezioni delle due parabole rappresentate della equazioni del sistema:"
   ]
  },
  {
   "cell_type": "code",
   "execution_count": 31,
   "id": "rental-appliance",
   "metadata": {},
   "outputs": [
    {
     "data": {
      "image/png": "[encoded data removed]",
      "text/plain": [
       "<Figure size 600x500 with 1 Axes>"
      ]
     },
     "metadata": {
      "needs_background": "light"
     },
     "output_type": "display_data"
    }
   ],
   "source": [
    "import matplotlib.pyplot as plt\n",
    "import numpy as np\n",
    "\n",
    "m = np.arange(-15.,16.,0.001)\n",
    "\n",
    "plt.figure(figsize=(6,5),dpi=100)\n",
    "\n",
    "plt.plot(m,T(m),'-')\n",
    "plt.plot(M(T(m)),T(m),'-')\n",
    "plt.xlim(-20.,65.)\n",
    "plt.ylim(-30.,190.)\n",
    "\n",
    "plt.xlabel('m')\n",
    "plt.ylabel('t')\n",
    "\n",
    "# find intersection indices\n",
    "idx = np.argwhere(np.diff( np.sign( M(T(m)) - m ) )).flatten() \n",
    "plt.plot(m[idx], T(m)[idx], 'ro')\n",
    "\n",
    "plt.axvline(x=0,color=\"gray\",linestyle=\"--\")\n",
    "plt.axhline(y=0,color=\"gray\",linestyle=\"--\")\n",
    "\n",
    "\n",
    "j = 0\n",
    "for i in idx:\n",
    "    s = \"(m, t)$_{{{}}}$ = ({:7.3f}, {:7.3f})\".format(j+1,round(m[i],3),round(T(m[i]),3))\n",
    "    plt.text(25,150-j*10,s)\n",
    "    j += 1\n",
    "\n",
    "plt.show()"
   ]
  },
  {
   "cell_type": "markdown",
   "id": "talented-mortgage",
   "metadata": {},
   "source": [
    "## 16. Un triangolo dentro a un quadrato  <a class=\"anchor\" id=\"prob16\"></a>\n",
    "\n",
    "https://www.rimosco.it/picalendar/index.php?a=problem&p=22\n",
    "\n",
    "[Indice](#index)\n",
    "\n",
    "<img src=\"calenPIario/trquad.png\" alt=\"\" width=\"300\"/>\n",
    "\n",
    "<img src=\"calenPIario/calenPIario_2022-04-29.jpg\" alt=\"\" width=\"700\" align=\"center\"/>"
   ]
  },
  {
   "cell_type": "markdown",
   "id": "parliamentary-carol",
   "metadata": {},
   "source": [
    "## 17. Un triangolo dentro a un quadrato II  <a class=\"anchor\" id=\"prob17\"></a>\n",
    "\n",
    "> Supponiamo che il lato del quadrato sia lungo 1. Quanto vale il perimetro del triangolo in basso a destra?\n",
    "\n",
    "<img src=\"calenPIario/quad2.png\" alt=\"\" width=\"300\"/>\n",
    "\n",
    "La risposta è banale (vedi lo schema della soluzione del problema precedente): il perimetro del triangolo in basso a destra a è uguale a 2 lati del quadrato!\n",
    "\n",
    "[Indice](#index)"
   ]
  },
  {
   "cell_type": "markdown",
   "id": "killing-holmes",
   "metadata": {},
   "source": [
    "## 18. Anagrammi <a class=\"anchor\" id=\"prob18\"></a>\n",
    "\n",
    "> Quanti sono gli anagrammi (anche privi di significato) della parola PIGRECO in cui non compaiono consonanti in posizioni consecutive?\n",
    "\n",
    "La parola PIGRECO ha 3 vocali (IEO) e 4 consonanti (PGRC). L'unica combinazione di consonanti C e vocali V che soddisfi l'enunciato del problema è:\n",
    "\n",
    "CVCVCVC\n",
    "\n",
    "Devo dunque trovare il numero di permutazioni delle 4 consonanti ($N_C$ = 4! = 24) e delle 3 vocali ($N_V$ = 3! = 6), e la solutione sarà il prodotto $N_C \\times N_V$ :\n",
    "\n",
    "**$N_C \\times N_V$ = 4! $\\times$ 3! = 144.**\n",
    "\n",
    "E adesso un paio di soluzioni di forza bruta solo per il gusto di farle..."
   ]
  },
  {
   "cell_type": "code",
   "execution_count": 32,
   "id": "public-heading",
   "metadata": {
    "scrolled": false
   },
   "outputs": [
    {
     "name": "stdout",
     "output_type": "stream",
     "text": [
      "144 anagrammi di PIGRECO in cui non compaiono consonanti in posizioni consecutive:\n",
      "\n",
      "CEGIPOR  CEGIROP  CEGOPIR  CEGORIP  CEPIGOR  CEPIROG  CEPOGIR  CEPORIG  CERIGOP\n",
      "CERIPOG  CEROGIP  CEROPIG  CIGEPOR  CIGEROP  CIGOPER  CIGOREP  CIPEGOR  CIPEROG\n",
      "CIPOGER  CIPOREG  CIREGOP  CIREPOG  CIROGEP  CIROPEG  COGEPIR  COGERIP  COGIPER\n",
      "COGIREP  COPEGIR  COPERIG  COPIGER  COPIREG  COREGIP  COREPIG  CORIGEP  CORIPEG\n",
      "GECIPOR  GECIROP  GECOPIR  GECORIP  GEPICOR  GEPIROC  GEPOCIR  GEPORIC  GERICOP\n",
      "GERIPOC  GEROCIP  GEROPIC  GICEPOR  GICEROP  GICOPER  GICOREP  GIPECOR  GIPEROC\n",
      "GIPOCER  GIPOREC  GIRECOP  GIREPOC  GIROCEP  GIROPEC  GOCEPIR  GOCERIP  GOCIPER\n",
      "GOCIREP  GOPECIR  GOPERIC  GOPICER  GOPIREC  GORECIP  GOREPIC  GORICEP  GORIPEC\n",
      "PECIGOR  PECIROG  PECOGIR  PECORIG  PEGICOR  PEGIROC  PEGOCIR  PEGORIC  PERICOG\n",
      "PERIGOC  PEROCIG  PEROGIC  PICEGOR  PICEROG  PICOGER  PICOREG  PIGECOR  PIGEROC\n",
      "PIGOCER  PIGOREC  PIRECOG  PIREGOC  PIROCEG  PIROGEC  POCEGIR  POCERIG  POCIGER\n",
      "POCIREG  POGECIR  POGERIC  POGICER  POGIREC  PORECIG  POREGIC  PORICEG  PORIGEC\n",
      "RECIGOP  RECIPOG  RECOGIP  RECOPIG  REGICOP  REGIPOC  REGOCIP  REGOPIC  REPICOG\n",
      "REPIGOC  REPOCIG  REPOGIC  RICEGOP  RICEPOG  RICOGEP  RICOPEG  RIGECOP  RIGEPOC\n",
      "RIGOCEP  RIGOPEC  RIPECOG  RIPEGOC  RIPOCEG  RIPOGEC  ROCEGIP  ROCEPIG  ROCIGEP\n",
      "ROCIPEG  ROGECIP  ROGEPIC  ROGICEP  ROGIPEC  ROPECIG  ROPEGIC  ROPICEG  ROPIGEC\n"
     ]
    }
   ],
   "source": [
    "from itertools import permutations\n",
    "\n",
    "name = \"PIGRECO\"\n",
    "cons = \"PGRC\"\n",
    "\n",
    "goodAnag = []\n",
    "for a in permutations(name,len(name)):\n",
    "    anag = \"\".join(a)\n",
    "    isGoodAnag = True\n",
    "    for i in range(1,len(anag)):\n",
    "        if anag[i] in cons and anag[i-1] in cons:\n",
    "            isGoodAnag = False\n",
    "            break\n",
    "    if isGoodAnag:\n",
    "        goodAnag.append(anag)\n",
    "\n",
    "print(\"{} anagrammi di PIGRECO in cui non compaiono consonanti in posizioni consecutive:\\n\".format(len(goodAnag)))\n",
    "\n",
    "cline = 1\n",
    "for ga in sorted(goodAnag):\n",
    "    if cline%9==0: \n",
    "        print(ga)\n",
    "    else:\n",
    "        print(ga, end=\"  \")\n",
    "    cline +=1"
   ]
  },
  {
   "cell_type": "code",
   "execution_count": 33,
   "id": "hawaiian-merchant",
   "metadata": {},
   "outputs": [
    {
     "name": "stdout",
     "output_type": "stream",
     "text": [
      "144 anagrammi di PIGRECO in cui non compaiono consonanti in posizioni consecutive:\n",
      "\n",
      "CEGIPOR  CEGIROP  CEGOPIR  CEGORIP  CEPIGOR  CEPIROG  CEPOGIR  CEPORIG  CERIGOP\n",
      "CERIPOG  CEROGIP  CEROPIG  CIGEPOR  CIGEROP  CIGOPER  CIGOREP  CIPEGOR  CIPEROG\n",
      "CIPOGER  CIPOREG  CIREGOP  CIREPOG  CIROGEP  CIROPEG  COGEPIR  COGERIP  COGIPER\n",
      "COGIREP  COPEGIR  COPERIG  COPIGER  COPIREG  COREGIP  COREPIG  CORIGEP  CORIPEG\n",
      "GECIPOR  GECIROP  GECOPIR  GECORIP  GEPICOR  GEPIROC  GEPOCIR  GEPORIC  GERICOP\n",
      "GERIPOC  GEROCIP  GEROPIC  GICEPOR  GICEROP  GICOPER  GICOREP  GIPECOR  GIPEROC\n",
      "GIPOCER  GIPOREC  GIRECOP  GIREPOC  GIROCEP  GIROPEC  GOCEPIR  GOCERIP  GOCIPER\n",
      "GOCIREP  GOPECIR  GOPERIC  GOPICER  GOPIREC  GORECIP  GOREPIC  GORICEP  GORIPEC\n",
      "PECIGOR  PECIROG  PECOGIR  PECORIG  PEGICOR  PEGIROC  PEGOCIR  PEGORIC  PERICOG\n",
      "PERIGOC  PEROCIG  PEROGIC  PICEGOR  PICEROG  PICOGER  PICOREG  PIGECOR  PIGEROC\n",
      "PIGOCER  PIGOREC  PIRECOG  PIREGOC  PIROCEG  PIROGEC  POCEGIR  POCERIG  POCIGER\n",
      "POCIREG  POGECIR  POGERIC  POGICER  POGIREC  PORECIG  POREGIC  PORICEG  PORIGEC\n",
      "RECIGOP  RECIPOG  RECOGIP  RECOPIG  REGICOP  REGIPOC  REGOCIP  REGOPIC  REPICOG\n",
      "REPIGOC  REPOCIG  REPOGIC  RICEGOP  RICEPOG  RICOGEP  RICOPEG  RIGECOP  RIGEPOC\n",
      "RIGOCEP  RIGOPEC  RIPECOG  RIPEGOC  RIPOCEG  RIPOGEC  ROCEGIP  ROCEPIG  ROCIGEP\n",
      "ROCIPEG  ROGECIP  ROGEPIC  ROGICEP  ROGIPEC  ROPECIG  ROPEGIC  ROPICEG  ROPIGEC\n"
     ]
    }
   ],
   "source": [
    "from itertools import permutations\n",
    "\n",
    "cons = \"PGRC\"\n",
    "vocs = \"IEO\"\n",
    "\n",
    "goodAnag = [ C[0]+\"\".join([ v+c for v,c in zip(V,C[1:]) ]) \n",
    "            for C in permutations(cons,len(cons)) \n",
    "            for V in permutations(vocs,len(vocs)) ]\n",
    "\n",
    "print(\"{} anagrammi di PIGRECO in cui non compaiono consonanti in posizioni consecutive:\\n\".format(len(goodAnag)))\n",
    "\n",
    "cline = 1\n",
    "for ga in sorted(goodAnag):\n",
    "    if cline%9==0: \n",
    "        print(ga)\n",
    "    else:\n",
    "        print(ga, end=\"  \")\n",
    "    cline +=1"
   ]
  },
  {
   "cell_type": "markdown",
   "id": "average-working",
   "metadata": {},
   "source": [
    "## 19. Il milionario <a class=\"anchor\" id=\"prob19\"></a>\n",
    "\n",
    "https://www.rimosco.it/picalendar/index.php?a=problem&p=25\n",
    "\n",
    "> Un anziano milionario matematico ha deciso di lasciare a ognuno dei suoi eredi una quantità di monete d'oro che sia una potenza di 7 (incluso $7^0$). Inoltre non ci devono essere sette o più persone che ricevono la stessa cifra. Sapendo che il capitale del matematico ammonta a un milione di monete, quanti possono essere, al più, i pretendenti all'eredità?\n",
    "\n",
    "Siccome posso avere fino a 6 persone che ricevono una cifra pari a una potenza di 7, in sostanza il problema mi sta chiedendo di esprimere la cifra 1.000.000 in base 7, e di sommarne le cifre.\n",
    "\n",
    "[Indice](#index)"
   ]
  },
  {
   "cell_type": "code",
   "execution_count": 34,
   "id": "consolidated-scanning",
   "metadata": {},
   "outputs": [],
   "source": [
    "def intToBase(number,newbase):\n",
    "    result = ''\n",
    "    while number:\n",
    "        result += str(number%newbase)\n",
    "        number //= newbase\n",
    "    return result[::-1]"
   ]
  },
  {
   "cell_type": "code",
   "execution_count": 35,
   "id": "literary-attempt",
   "metadata": {},
   "outputs": [
    {
     "data": {
      "text/plain": [
       "'11333311'"
      ]
     },
     "execution_count": 35,
     "metadata": {},
     "output_type": "execute_result"
    }
   ],
   "source": [
    "intToBase(1_000_000,7)"
   ]
  },
  {
   "cell_type": "code",
   "execution_count": 36,
   "id": "robust-genesis",
   "metadata": {},
   "outputs": [
    {
     "name": "stdout",
     "output_type": "stream",
     "text": [
      "16\n"
     ]
    }
   ],
   "source": [
    "print(sum([int(d) for d in intToBase(1_000_000,7)]))"
   ]
  },
  {
   "cell_type": "markdown",
   "id": "portuguese-vermont",
   "metadata": {},
   "source": [
    "## 20. I due cerchi uguali <a class=\"anchor\" id=\"prob20\"></a>\n",
    "\n",
    "https://www.rimosco.it/picalendar/index.php?a=problem&p=16\n",
    "\n",
    "> Il triangolo ha dimensioni 21, 28, 35. Quanto vale il raggio delle circonferenze (che sono uguali)?\n",
    "> (Da un sangaku giapponese)\n",
    "\n",
    "[Indice](#index)\n",
    "\n",
    "<img src=\"calenPIario/sangaku.png\" alt=\"\" width=\"400\"/>\n",
    "\n",
    "<img src=\"calenPIario/calenPIario_2022-05-11.jpg\" alt=\"\" width=\"700\" align=\"center\"/>"
   ]
  },
  {
   "cell_type": "markdown",
   "id": "prescribed-strategy",
   "metadata": {},
   "source": [
    "## 21. Una divisione intera <a class=\"anchor\" id=\"prob21\"></a>\n",
    "\n",
    "https://www.rimosco.it/picalendar/index.php?a=problem&p=27\n",
    "\n",
    "> Per quanti numeri interi la seguente espressione fornisce un numero intero?\n",
    ">\n",
    "> $n/(n−314)$\n",
    "\n",
    "[Indice](#index)\n",
    "\n",
    "**La risposta corretta dovrebbe essere 8, perché a casa mia i __numeri interi__ contengono anche lo 0 e i gli interi negativi!** \n",
    "\n",
    "Posso intanto eliminare gli interi negativi, perché per $n<0$ il denominatore sarà sempre maggiore del numeratore dando un risultato razionale minore di 1. Tra gli interi positivi, $n$ non più essere maggiore di 628 = 2 $\\times$ 314, per cui il risultato è 2. Per valori maggiori il rapporto tende a 1, che ovviamente non viene mai raggiunto per nessun valore intero di $n$:\n",
    "\n",
    "$\\lim_{n\\to \\infty} \\frac{n}{n-314} = 1 $\n",
    "\n",
    "Sono dunque soluzioni intere:"
   ]
  },
  {
   "cell_type": "code",
   "execution_count": 37,
   "id": "anonymous-gateway",
   "metadata": {},
   "outputs": [
    {
     "name": "stdout",
     "output_type": "stream",
     "text": [
      "   0    0\n",
      " 157   -1\n",
      " 312 -156\n",
      " 313 -313\n",
      " 315  315\n",
      " 316  158\n",
      " 471    3\n",
      " 628    2\n",
      "Risultato: 8\n"
     ]
    }
   ],
   "source": [
    "R = []\n",
    "for n in range(0,628+1):\n",
    "    if n!=314:\n",
    "        r = n/(n-314)\n",
    "        if r==n//(n-314):\n",
    "            print(\"{:4d} {:4d}\".format(n,int(r)))\n",
    "            R.append(int(r))\n",
    "print(\"Risultato:\",len(R))"
   ]
  },
  {
   "cell_type": "markdown",
   "id": "brilliant-ladder",
   "metadata": {},
   "source": [
    "**Il sito però dichiara 8 come soluzione errata** , dal che suppongo che implicitamente assumano che le soluzione negative siano da scartare, così come 0 (MA COME!?! VERGOGNA!). In questo caso la risposta \"corretta\" è 4, che il sito considera giusta. "
   ]
  },
  {
   "cell_type": "markdown",
   "id": "sticky-patrick",
   "metadata": {},
   "source": [
    "## 22. Il trapezio <a class=\"anchor\" id=\"prob22\"></a>\n",
    "\n",
    "https://www.rimosco.it/picalendar/index.php?a=problem&p=28\n",
    "\n",
    "> Quanto vale l'area del trapezio?\n",
    "\n",
    "[Indice](#index)\n",
    "\n",
    "<img src=\"calenPIario/trapezio.png\" alt=\"\" width=\"400\"/>\n",
    "\n",
    "<img src=\"calenPIario/calenPIario_2022-05-17.jpg\" alt=\"\" width=\"700\" align=\"center\"/>\n",
    "\n",
    "La soluzione proposta qui sotto non viene accettata come valida, ma sospetto di nuovo un **triste e grossolano errore** del sito (come conferma Zar su frenf.it)\n",
    "\n",
    "[Indice](#index)"
   ]
  },
  {
   "cell_type": "markdown",
   "id": "outer-writing",
   "metadata": {},
   "source": [
    "## 23. Triangolo dentro triangolo <a class=\"anchor\" id=\"prob23\"></a>\n",
    "\n",
    "https://www.rimosco.it/picalendar/index.php?a=problem&p=29\n",
    "\n",
    "> L'area del triangolo grande vale 65940. Quanto vale l'area del triangolo piccolo, colorato in blu?\n",
    "\n",
    "[Indice](#index)\n",
    "\n",
    "<img src=\"calenPIario/rapportoaree.png\" alt=\"\" width=\"400\"/>\n",
    "\n",
    "<img src=\"calenPIario/calenPIario_2022-05-20.jpg\" alt=\"\" width=\"600\" align=\"center\"/>"
   ]
  },
  {
   "cell_type": "markdown",
   "id": "incorrect-journalist",
   "metadata": {},
   "source": [
    "## 24. I numeri strani <a class=\"anchor\" id=\"prob24\"></a>\n",
    "\n",
    "https://www.rimosco.it/picalendar/index.php?a=problem&p=30\n",
    "\n",
    "> Scriviamo i numeri naturali in base 10 e definiamo i numeri strani con la seguente legge:\n",
    "> - Un numero di una sola cifra è strano se e solo se è primo.\n",
    "> - Un numero primo di almeno due cifre è strano se e solo se sono strani i due numeri ottenuto sopprimendo da esso una volta la prima e una volta l'ultima cifra.\n",
    "> Trovare tutti i numeri strani, e fornire come risposta il numero che si ottiene accostando tutti i numeri strani ordinati in ordine crescente.\n",
    "\n",
    "[Indice](#index)\n",
    "\n",
    "Soluzione: parto dai numeri primi da 1 cifra (2,3,5,7) e costruisco i numeri strani in maniera iterativa, fermandomi quando non riesco a costruirne di più lunghi. Osservo che **non esistono numeri strani con più di tre cifre** (il che vuol dire che avrei potuto risolvere il problema a mano!)."
   ]
  },
  {
   "cell_type": "code",
   "execution_count": 38,
   "id": "descending-helen",
   "metadata": {},
   "outputs": [],
   "source": [
    "def isPrime(n):\n",
    "    if n == 1:\n",
    "        return False\n",
    "    i = 2\n",
    "    # loop from 2 to int(sqrt(x))\n",
    "    while i*i <= n:\n",
    "        # Check if i divides x without leaving a remainder\n",
    "        if n % i == 0:\n",
    "            # n has a factor in between 2 and sqrt(n), so it is not a prime\n",
    "            return False\n",
    "        i += 1\n",
    "    return True"
   ]
  },
  {
   "cell_type": "code",
   "execution_count": 39,
   "id": "resident-radical",
   "metadata": {},
   "outputs": [
    {
     "name": "stdout",
     "output_type": "stream",
     "text": [
      "[2, 3, 5, 7]\n",
      "[2, 3, 5, 7, 23, 37, 53, 73]\n",
      "[2, 3, 5, 7, 23, 37, 53, 73, 373]\n",
      "235723375373373\n"
     ]
    }
   ],
   "source": [
    "strange1 = [2,3,5,7]\n",
    "strange = list(strange1)\n",
    "\n",
    "def isStrange(n):\n",
    "    if len(str(n))==1:\n",
    "        if n in strange:\n",
    "            return True\n",
    "        else:\n",
    "            return False\n",
    "    else:\n",
    "        return isPrime(n) and isStrange(int(str(n)[1:])) and isStrange(int(str(n)[:-1]))\n",
    "\n",
    "while True:\n",
    "    print(strange)\n",
    "    newstrange = list(strange)\n",
    "    for s in strange:\n",
    "        for s1 in strange1:\n",
    "            for p in [ int(\"\".join([ str(s), str(s1) ])), int(\"\".join([ str(s1), str(s) ])) ]:\n",
    "                if isStrange(p) and p not in newstrange:\n",
    "                    newstrange.append(p)\n",
    "    newstrange = sorted(newstrange)\n",
    "    if len(newstrange)==len(strange):\n",
    "        break\n",
    "    else:\n",
    "        strange = list(newstrange)\n",
    "\n",
    "print(\"\".join([str(n) for n in strange]))"
   ]
  },
  {
   "cell_type": "markdown",
   "id": "exempt-copper",
   "metadata": {},
   "source": [
    "## 25. Poligoni regolari <a class=\"anchor\" id=\"prob25\"></a>\n",
    "\n",
    "https://www.rimosco.it/picalendar/index.php?a=problem&p=31\n",
    "\n",
    "> Quanti sono i poligoni regolari (di almeno 3 lati) aventi gli angoli interni che misurano un numero intero di gradi sessagesimali?\n",
    "\n",
    "[Indice](#index)\n",
    "\n",
    "L'angolo di un poligono regolare on $n$ lati vale:\n",
    "\n",
    "$\\alpha = \\frac{n-2}{n} 180^{\\mathrm{o}}$"
   ]
  },
  {
   "cell_type": "code",
   "execution_count": 40,
   "id": "southeast-cathedral",
   "metadata": {},
   "outputs": [
    {
     "name": "stdout",
     "output_type": "stream",
     "text": [
      "  n alpha\n",
      "  3    60\n",
      "  4    90\n",
      "  5   108\n",
      "  6   120\n",
      "  8   135\n",
      "  9   140\n",
      " 10   144\n",
      " 12   150\n",
      " 15   156\n",
      " 18   160\n",
      " 20   162\n",
      " 24   165\n",
      " 30   168\n",
      " 36   170\n",
      " 40   171\n",
      " 45   172\n",
      " 60   174\n",
      " 72   175\n",
      " 90   176\n",
      "120   177\n",
      "180   178\n",
      "360   179\n",
      "Risposta = 22\n"
     ]
    }
   ],
   "source": [
    "c = 0\n",
    "print(\"  n alpha\")\n",
    "for n in range(3,10000):\n",
    "    a = ((n-2)/n)*180\n",
    "    if a-int(a)==0:\n",
    "        print(\"{:3d} {:5d}\".format(n,int(a)))\n",
    "        c+=1\n",
    "print(\"Risposta =\",c)"
   ]
  },
  {
   "cell_type": "markdown",
   "id": "powerful-phase",
   "metadata": {},
   "source": [
    "Posso anche trovare la risposa \"a mano\":\n",
    "\n",
    "$\\alpha = \\frac{(n-2)}{n} 180 = (n-2)\\frac{180}{n}$\n",
    "\n",
    "Soluzioni intere sarano i **divisori interi di 180**, e anche quei valori di $n$ **pari** per cui il rapporto $\\frac{180}{n}$ risulti in un numero $k$ **la cui parte decimale è 0.5**, perché in questo caso $n-2$ è ancora pari, e **$(n-2)k$ è intero**."
   ]
  },
  {
   "cell_type": "code",
   "execution_count": 41,
   "id": "postal-southeast",
   "metadata": {},
   "outputs": [
    {
     "data": {
      "text/plain": [
       "22"
      ]
     },
     "execution_count": 41,
     "metadata": {},
     "output_type": "execute_result"
    }
   ],
   "source": [
    "nsides = [ n for n in range(3,360+1) if 180%n==0 or 180/n-180//n==0.5 ]\n",
    "len(nsides)"
   ]
  },
  {
   "cell_type": "code",
   "execution_count": 42,
   "id": "suburban-glance",
   "metadata": {},
   "outputs": [
    {
     "data": {
      "text/plain": [
       "[3, 4, 5, 6, 9, 10, 12, 15, 18, 20, 30, 36, 45, 60, 90, 180]"
      ]
     },
     "execution_count": 42,
     "metadata": {},
     "output_type": "execute_result"
    }
   ],
   "source": [
    "divs_int = [ n for n in range(3,360+1) if 180%n==0 ]\n",
    "divs_int"
   ]
  },
  {
   "cell_type": "code",
   "execution_count": 43,
   "id": "indonesian-junior",
   "metadata": {},
   "outputs": [
    {
     "data": {
      "text/plain": [
       "[8, 24, 40, 72, 120, 360]"
      ]
     },
     "execution_count": 43,
     "metadata": {},
     "output_type": "execute_result"
    }
   ],
   "source": [
    "divs_half = [ n for n in range(3,360+1) if 180/n-180//n==0.5 ]\n",
    "divs_half"
   ]
  },
  {
   "cell_type": "markdown",
   "id": "raising-waste",
   "metadata": {},
   "source": [
    "Su suggerimento di Zar, un approccio decisamente più elegante è:\n",
    "\n",
    "$\\alpha = \\frac{(n-2)}{n} 180 = 180 - \\frac{2}{n} 180 = = 180 - \\frac{360}{n}$\n",
    "\n",
    "Per trovare le soluzione intere mi basta dunque cercare i **divisori interi di 360**:"
   ]
  },
  {
   "cell_type": "code",
   "execution_count": 44,
   "id": "analyzed-vector",
   "metadata": {},
   "outputs": [
    {
     "data": {
      "text/plain": [
       "22"
      ]
     },
     "execution_count": 44,
     "metadata": {},
     "output_type": "execute_result"
    }
   ],
   "source": [
    "nsides = [ n for n in range(3,360+1) if 360%n==0 ]\n",
    "len(nsides)"
   ]
  },
  {
   "cell_type": "markdown",
   "id": "breeding-construction",
   "metadata": {},
   "source": [
    "## 26. Numeri con tanti divisori <a class=\"anchor\" id=\"prob26\"></a>\n",
    "\n",
    "https://www.rimosco.it/picalendar/index.php?a=problem&p=32\n",
    "\n",
    "[Indice](#index)\n",
    "\n",
    "> Qual è il più piccolo numero con 100 divisori?\n",
    "\n",
    "### Brute-force con _sympy_"
   ]
  },
  {
   "cell_type": "code",
   "execution_count": 45,
   "id": "fitted-chapter",
   "metadata": {},
   "outputs": [
    {
     "name": "stdout",
     "output_type": "stream",
     "text": [
      "45360\n"
     ]
    }
   ],
   "source": [
    "from sympy import divisors\n",
    "\n",
    "n = 1\n",
    "while True:\n",
    "    divs = divisors(n)\n",
    "    if len(divs)==100:\n",
    "        print(n)\n",
    "        break\n",
    "    n += 1"
   ]
  },
  {
   "cell_type": "markdown",
   "id": "enhanced-horizontal",
   "metadata": {},
   "source": [
    "### Brute-force con una funzione per trovare tutti i divisori di un numero\n",
    "\n",
    "Inizio col cercare i fattori primi del numero in questione, poi applico l'idea che i fattori di ogni divisore di un numero devono essere un sottoinsieme dei fattori del numero stesso, per cui posso calcolarne i divisori trovando tutte le combinazioni possibili dei suoi fattori primi. \n",
    "\n",
    "La mia soluzione è meno efficiente di quella di sympy se uso la funzione `factor(n)` implementato in precedenza, ma **migliora parecchio se la modifico usando `yield` invece che salvare e restituire la lista completa**:"
   ]
  },
  {
   "cell_type": "code",
   "execution_count": 46,
   "id": "nuclear-lindsay",
   "metadata": {},
   "outputs": [],
   "source": [
    "from collections import Counter\n",
    "from itertools import product\n",
    "from functools import reduce\n",
    "from operator import mul\n",
    "\n",
    "def yieldFactors(n):\n",
    "    i = 2\n",
    "    while i*i<=n:\n",
    "        if n%i == 0:\n",
    "            n/=i\n",
    "            yield i\n",
    "        else:\n",
    "            i+=1\n",
    "    if n>1:\n",
    "        yield int(n)\n",
    "\n",
    "def findDivisors(n):\n",
    "    if n==1:\n",
    "        return [1]\n",
    "    # get prime factors\n",
    "    f = yieldFactors(n)\n",
    "    # count factor multiplicity\n",
    "    fmult = Counter(f)\n",
    "    # compute all allowed powers of factors\n",
    "    powers = [ [f**i for i in range(c+1)] for f,c in fmult.items() ]\n",
    "    # return all possible combinations of factor powers    \n",
    "    return sorted([ int( reduce(mul,it,1) ) for it in [ pp for pp in product(*powers) ]])\n",
    "\n",
    "def countDivisors(n):\n",
    "    return reduce( mul, [ ei+1 for ei in Counter(yieldFactors(n)).values() ], 1 )"
   ]
  },
  {
   "cell_type": "code",
   "execution_count": 47,
   "id": "collectible-capital",
   "metadata": {},
   "outputs": [
    {
     "name": "stdout",
     "output_type": "stream",
     "text": [
      "45360\n"
     ]
    }
   ],
   "source": [
    "n = 1\n",
    "while True:\n",
    "    #ndivs = len(findDivisors(n))\n",
    "    ndivs = countDivisors(n)\n",
    "    if ndivs==100:\n",
    "        print(n)\n",
    "        break\n",
    "    n += 1"
   ]
  },
  {
   "cell_type": "markdown",
   "id": "responsible-johnston",
   "metadata": {},
   "source": [
    "### Soluzione usando la funzione $d(n)$\n",
    "\n",
    "Posso anche risolvere osservando che, se un numero è esprimibile come:\n",
    "\n",
    "$n = \\Pi_i f_i^{e_i}$\n",
    "\n",
    "dove $f_i$ sono i fattori primi del numero, e $e_i$ le loro relative potenze, allora il numero di divisori di $n$ è:\n",
    "\n",
    "$d(n) = \\Pi_i (e_i+1)$\n",
    "\n",
    "(vedi per esempio [qui](https://en.wikipedia.org/wiki/Divisor_function#Formulas_at_prime_powers)).\n",
    "\n",
    "Posso allora partire dai fattori di 100 per calcolare gli esponenti $e_i$:"
   ]
  },
  {
   "cell_type": "code",
   "execution_count": 48,
   "id": "annual-sally",
   "metadata": {},
   "outputs": [
    {
     "data": {
      "text/plain": [
       "[1, 1, 4, 4]"
      ]
     },
     "execution_count": 48,
     "metadata": {},
     "output_type": "execute_result"
    }
   ],
   "source": [
    "ei = [ e-1 for e in yieldFactors(100) ]\n",
    "ei"
   ]
  },
  {
   "cell_type": "markdown",
   "id": "neutral-valuation",
   "metadata": {},
   "source": [
    "e comporre il minimo numero con 100 divisori usando i primi fattori primi, e assegnando quelli più piccoli ai fattori $e_i$ più grandi:"
   ]
  },
  {
   "cell_type": "code",
   "execution_count": 49,
   "id": "wrong-luxury",
   "metadata": {},
   "outputs": [
    {
     "data": {
      "text/plain": [
       "45360"
      ]
     },
     "execution_count": 49,
     "metadata": {},
     "output_type": "execute_result"
    }
   ],
   "source": [
    "from functools import reduce\n",
    "from operator import mul\n",
    "\n",
    "fi = [2,3,5,7]\n",
    "\n",
    "reduce(mul, [ f**e for f,e in zip(fi,sorted(ei,reverse=True)) ] , 1)    "
   ]
  },
  {
   "cell_type": "markdown",
   "id": "revolutionary-restaurant",
   "metadata": {},
   "source": [
    "### Generica funzione per calcolare il più piccolo numero con $N$ divisori\n",
    "\n",
    "https://stackoverflow.com/questions/31270226/how-to-calculate-smallest-number-with-certain-number-of-divisors\n",
    "https://stackoverflow.com/questions/8861994/algorithm-for-finding-smallest-number-with-given-number-of-factors\n",
    "https://www.primepuzzles.net/problems/prob_019.htm"
   ]
  },
  {
   "cell_type": "code",
   "execution_count": 50,
   "id": "random-frost",
   "metadata": {},
   "outputs": [],
   "source": [
    "from operator import mul\n",
    "from itertools import permutations\n",
    "\n",
    "def generatePrimes():\n",
    "    \"\"\" Generate an infinite sequence of prime numbers.\"\"\"\n",
    "    D = {}\n",
    "    q = 2\n",
    "    while True:\n",
    "        if q not in D:\n",
    "            yield q\n",
    "            D[q * q] = [q]\n",
    "        else:\n",
    "            for p in D[q]:\n",
    "                D.setdefault(p + q, []).append(p)\n",
    "            del D[q]\n",
    "        q += 1\n",
    "\n",
    "def partitions(lst):\n",
    "    if lst:\n",
    "        for i in range(1, len(lst) + 1):\n",
    "            for p in partitions(lst[i:]):\n",
    "                yield [lst[:i]] + p\n",
    "    else:\n",
    "        yield []\n",
    "\n",
    "def partitions_and_permutations(data):\n",
    "    return {tuple(sorted(reduce(mul, lst) for lst in partition))\n",
    "           for permutation in permutations(data)\n",
    "           for partition in partitions(permutation)}\n",
    "\n",
    "def smallestNdivisors(N):\n",
    "    '''Return smallest number with N divisors'''\n",
    "    '''Not very effcient for large numbers!'''\n",
    "    n = []\n",
    "    for p in partitions_and_permutations(list(yieldFactors(N))):\n",
    "        n.append(reduce(mul,[f**e for f,e in zip(generatePrimes(),sorted([e-1 for e in p],reverse=True))],1))\n",
    "    return min(n)"
   ]
  },
  {
   "cell_type": "code",
   "execution_count": 51,
   "id": "suited-thomas",
   "metadata": {},
   "outputs": [
    {
     "data": {
      "text/plain": [
       "45360"
      ]
     },
     "execution_count": 51,
     "metadata": {},
     "output_type": "execute_result"
    }
   ],
   "source": [
    "smallestNdivisors(100)"
   ]
  },
  {
   "cell_type": "code",
   "execution_count": 52,
   "id": "popular-landing",
   "metadata": {},
   "outputs": [
    {
     "data": {
      "text/plain": [
       "120"
      ]
     },
     "execution_count": 52,
     "metadata": {},
     "output_type": "execute_result"
    }
   ],
   "source": [
    "smallestNdivisors(16) # it should be 120!"
   ]
  },
  {
   "cell_type": "code",
   "execution_count": 53,
   "id": "numeric-freeze",
   "metadata": {},
   "outputs": [
    {
     "data": {
      "text/plain": [
       "810810000"
      ]
     },
     "execution_count": 53,
     "metadata": {},
     "output_type": "execute_result"
    }
   ],
   "source": [
    "smallestNdivisors(1000)"
   ]
  },
  {
   "cell_type": "markdown",
   "id": "comparable-prayer",
   "metadata": {},
   "source": [
    "### Plot  della funzione del numero di divisori $d(n)$"
   ]
  },
  {
   "cell_type": "code",
   "execution_count": 54,
   "id": "designed-partner",
   "metadata": {},
   "outputs": [
    {
     "data": {
      "text/plain": [
       "Text(0, 0.5, '$d(n)$')"
      ]
     },
     "execution_count": 54,
     "metadata": {},
     "output_type": "execute_result"
    },
    {
     "data": {
      "image/png": "[encoded data removed]",
      "text/plain": [
       "<Figure size 800x600 with 1 Axes>"
      ]
     },
     "metadata": {
      "needs_background": "light"
     },
     "output_type": "display_data"
    }
   ],
   "source": [
    "import numpy as np\n",
    "import matplotlib.pyplot as plt\n",
    "\n",
    "d = np.vectorize(countDivisors)\n",
    "n = np.arange(1,1000,1)\n",
    "\n",
    "plt.figure(figsize=(8,6),dpi=100)\n",
    "plt.plot(n,d(n),'r.')\n",
    "plt.xlabel('$n$')\n",
    "plt.ylabel('$d(n)$')"
   ]
  },
  {
   "cell_type": "markdown",
   "id": "adopted-today",
   "metadata": {},
   "source": [
    "### Divisor summatory function\n",
    "\n",
    "https://en.wikipedia.org/wiki/Divisor_summatory_function"
   ]
  },
  {
   "cell_type": "code",
   "execution_count": 55,
   "id": "visible-north",
   "metadata": {},
   "outputs": [],
   "source": [
    "# memoized recursive implementaton for speed\n",
    "\n",
    "Dmem = {}\n",
    "\n",
    "def D(x):\n",
    "    if x==1:\n",
    "        return 1\n",
    "    if x in Dmem.keys():\n",
    "        return Dmem[x]\n",
    "    else:\n",
    "        Dmem[x] = countDivisors(x) + D(x-1)\n",
    "        return Dmem[x]\n",
    "    \n",
    "Dv = np.vectorize(D)"
   ]
  },
  {
   "cell_type": "code",
   "execution_count": 56,
   "id": "german-clearance",
   "metadata": {},
   "outputs": [
    {
     "data": {
      "text/plain": [
       "[<matplotlib.lines.Line2D at 0x10ecd7250>]"
      ]
     },
     "execution_count": 56,
     "metadata": {},
     "output_type": "execute_result"
    },
    {
     "data": {
      "image/png": "[encoded data removed]",
      "text/plain": [
       "<Figure size 800x600 with 1 Axes>"
      ]
     },
     "metadata": {
      "needs_background": "light"
     },
     "output_type": "display_data"
    }
   ],
   "source": [
    "plt.figure(figsize=(8,6),dpi=100)\n",
    "plt.xlabel('n')\n",
    "plt.ylabel('D(n)')\n",
    "plt.plot(n,Dv(n),'r.')"
   ]
  },
  {
   "cell_type": "markdown",
   "id": "hollywood-observer",
   "metadata": {},
   "source": [
    "### Euler–Mascheroni constant"
   ]
  },
  {
   "cell_type": "code",
   "execution_count": 57,
   "id": "cheap-adams",
   "metadata": {},
   "outputs": [
    {
     "data": {
      "text/plain": [
       "0.5772156308481158"
      ]
     },
     "execution_count": 57,
     "metadata": {},
     "output_type": "execute_result"
    }
   ],
   "source": [
    "from math import gamma\n",
    "\n",
    "gamma_approx = (1.-gamma(1+1.e-8))*1.e14 *1.e-6\n",
    "gamma_approx"
   ]
  },
  {
   "cell_type": "code",
   "execution_count": 58,
   "id": "straight-fellow",
   "metadata": {},
   "outputs": [
    {
     "data": {
      "text/latex": [
       "$\\displaystyle 0.577215664901533$"
      ],
      "text/plain": [
       "0.577215664901533"
      ]
     },
     "execution_count": 58,
     "metadata": {},
     "output_type": "execute_result"
    }
   ],
   "source": [
    "from sympy import EulerGamma\n",
    "\n",
    "gamma = EulerGamma.evalf()\n",
    "gamma"
   ]
  },
  {
   "cell_type": "markdown",
   "id": "ultimate-california",
   "metadata": {},
   "source": [
    "### Divisor summatory function minus the trailing terms"
   ]
  },
  {
   "cell_type": "code",
   "execution_count": 59,
   "id": "expected-opera",
   "metadata": {},
   "outputs": [],
   "source": [
    "n = np.arange(1,10000,1)\n",
    "Dmtt = Dv(n)-n*np.log(n)-n*(2*gamma-1)"
   ]
  },
  {
   "cell_type": "code",
   "execution_count": 60,
   "id": "continued-egypt",
   "metadata": {},
   "outputs": [
    {
     "data": {
      "text/plain": [
       "[<matplotlib.lines.Line2D at 0x10f443be0>]"
      ]
     },
     "execution_count": 60,
     "metadata": {},
     "output_type": "execute_result"
    },
    {
     "data": {
      "image/png": "[encoded data removed]",
      "text/plain": [
       "<Figure size 800x600 with 1 Axes>"
      ]
     },
     "metadata": {
      "needs_background": "light"
     },
     "output_type": "display_data"
    }
   ],
   "source": [
    "plt.figure(figsize=(8,6),dpi=100)\n",
    "plt.xlabel('n')\n",
    "plt.ylabel('$D(n) - n \\log(n) - n(2\\gamma-1)$')\n",
    "plt.plot(n,Dmtt,'r.')"
   ]
  },
  {
   "cell_type": "markdown",
   "id": "efficient-rating",
   "metadata": {},
   "source": [
    "## 27. Contando lati e diagonali <a class=\"anchor\" id=\"prob27\"></a>\n",
    "\n",
    "https://www.rimosco.it/picalendar/index.php?a=problem&p=33\n",
    "\n",
    "[Indice](#index)\n",
    "\n",
    "> In un poligono regolare il cubo del numero dei lati è uguale al quadrato del numero delle diagonali. Qual è il numero dei lati?\n",
    "\n",
    "Il numero delle diagonali di un poligono regolare di $n$ lati è:\n",
    "\n",
    "$\\frac{n(n-3)}{2}$\n",
    "\n",
    "Il problema richiede dunque di risolvere l'equazione:\n",
    "\n",
    "$[\\frac{n(n-3)}{2}]^2 = n^3$"
   ]
  },
  {
   "cell_type": "code",
   "execution_count": 61,
   "id": "fifth-advancement",
   "metadata": {},
   "outputs": [
    {
     "name": "stdout",
     "output_type": "stream",
     "text": [
      "[0, 1, 9]\n"
     ]
    }
   ],
   "source": [
    "from sympy import Eq, Symbol, solve\n",
    "\n",
    "n = Symbol('n')\n",
    "eqn = Eq( (n*(n-3)/2)**2-n**3 , 0.)\n",
    "\n",
    "print(solve(eqn))"
   ]
  },
  {
   "cell_type": "markdown",
   "id": "chubby-excitement",
   "metadata": {},
   "source": [
    "**La soluzione è dunque $n=9$ (0 e 1 non valgono come numero di lati di poligono regolare, per cui deve essere $n \\geq 3$).**\n",
    "\n",
    "L'equazione di può facilmente risolvere a mano:\n",
    "\n",
    "<img src=\"calenPIario/calenPIario_2022-06-01.jpg\" alt=\"\" width=\"600\" align=\"center\"/>"
   ]
  },
  {
   "cell_type": "markdown",
   "id": "occupational-extra",
   "metadata": {},
   "source": [
    "## 28. Anagrammi II <a class=\"anchor\" id=\"prob28\"></a>\n",
    "\n",
    "https://www.rimosco.it/picalendar/index.php?a=problem&p=34\n",
    "\n",
    "[Indice](#index)\n",
    "\n",
    "> Scriviamo tutti gli anagrammi, anche quelli privi di significato, della parola PIGRECO in ordine alfabetico. In che posizione si trova PIGRECO?\n",
    "\n",
    "Arrivo tardissimo, avrei pure un'idea di come risolvere la cosa con carta e penna, ma per oggi andrà benissimo la forza bruta:"
   ]
  },
  {
   "cell_type": "code",
   "execution_count": 62,
   "id": "extraordinary-defensive",
   "metadata": {},
   "outputs": [
    {
     "name": "stdout",
     "output_type": "stream",
     "text": [
      "4029\n"
     ]
    }
   ],
   "source": [
    "from itertools import permutations\n",
    "name = \"PIGRECO\"\n",
    "anag = sorted([ \"\".join(a) for a in permutations(name,len(name)) ])\n",
    "print(anag.index(name)+1)"
   ]
  },
  {
   "cell_type": "markdown",
   "id": "catholic-edwards",
   "metadata": {},
   "source": [
    "Il giorno dopo, avendo trovato un po' di tempo, formulo una soluzione un po' più elegante che conta tutte le combinazioni di lettere possibili prima di PIGRECO in ordine alfabetico:"
   ]
  },
  {
   "cell_type": "code",
   "execution_count": 63,
   "id": "posted-elite",
   "metadata": {},
   "outputs": [
    {
     "name": "stdout",
     "output_type": "stream",
     "text": [
      "4029\n"
     ]
    }
   ],
   "source": [
    "from math import factorial\n",
    "\n",
    "name = \"PIGRECO\"\n",
    "letters = sorted(name)\n",
    "\n",
    "c = 0\n",
    "n = len(name)\n",
    "for l in name:\n",
    "    i = letters.index(l)\n",
    "    c += i*factorial(n-1)\n",
    "    n -= 1\n",
    "    letters.pop(i)\n",
    "c +=1\n",
    "print(c)"
   ]
  },
  {
   "cell_type": "markdown",
   "id": "capital-richmond",
   "metadata": {},
   "source": [
    "La versione del problema di Zar chiede:\n",
    "    \n",
    "> Quale parola si trova in posizione 721-esima?"
   ]
  },
  {
   "cell_type": "code",
   "execution_count": 64,
   "id": "legitimate-sigma",
   "metadata": {},
   "outputs": [
    {
     "name": "stdout",
     "output_type": "stream",
     "text": [
      "720\n",
      "['C', 'E', 'G', 'I', 'O', 'P', 'R']\n"
     ]
    }
   ],
   "source": [
    "from math import factorial\n",
    "print(factorial(6))\n",
    "\n",
    "name = \"PIGRECO\"\n",
    "letters = sorted(name)\n",
    "print(letters)"
   ]
  },
  {
   "cell_type": "markdown",
   "id": "hollywood-texture",
   "metadata": {},
   "source": [
    "I primi 6! = 710 anagrammi iniziano con la C, il 721 sarà il primo che inizia con la E, seguito dalle altre lettere in ordine alfabetico, dunque:\n",
    "\n",
    "**ECGIOPR**\n",
    "\n",
    "Verifica generando gli anagrammi:"
   ]
  },
  {
   "cell_type": "code",
   "execution_count": 65,
   "id": "smoking-dayton",
   "metadata": {},
   "outputs": [
    {
     "name": "stdout",
     "output_type": "stream",
     "text": [
      "ECGIOPR\n"
     ]
    }
   ],
   "source": [
    "from itertools import permutations\n",
    "name = \"PIGRECO\"\n",
    "anag = sorted([ \"\".join(a) for a in permutations(name,len(name)) ])\n",
    "print(anag[721-1])"
   ]
  },
  {
   "cell_type": "markdown",
   "id": "matched-thumbnail",
   "metadata": {},
   "source": [
    "## 29. Quattordicesime potenze <a class=\"anchor\" id=\"prob29\"></a>\n",
    "\n",
    "https://www.rimosco.it/picalendar/index.php?a=problem&p=35\n",
    "\n",
    "[Indice](#index)\n",
    "\n",
    "> Quanto vale la somma delle quattordicesime potenze delle soluzioni dell'equazione $x^7-x-1=0$?\n",
    "\n",
    "È il 7 giugno 2022, sono all'aereoporto di Podgorica (sono stato qui per la discussione di una tesi di dottorato di cui ero referee, discussione che ha avuto luogo stamattina, il viaggio di andata è stato complicato, ma quello di ritorno si preannuncia peggio), sto finalmente per decollare verso Vienna dopo che il volo è stato ritardato per un fortunale che ha bloccato l'areoporto di Vienna, ma **il problema non è di nuovo uscito in orario** (Zar vergogna!), ed è apparso proprio mentre mi chiedono di spegnere la connessione. \n",
    "\n",
    "Ho giusto il tempo per una **soluzione numerica** tirata giù (e scriverò questo commento dopo):"
   ]
  },
  {
   "cell_type": "code",
   "execution_count": 66,
   "id": "pressed-homeless",
   "metadata": {},
   "outputs": [
    {
     "name": "stdout",
     "output_type": "stream",
     "text": [
      "x_1 =  1.112776 + i *  0.000000\n",
      "x_2 = -0.809858 + i * -0.262870\n",
      "x_3 = -0.809858 + i *  0.262870\n",
      "x_4 = -0.363624 + i * -0.952561\n",
      "x_5 = -0.363624 + i *  0.952561\n",
      "x_6 =  0.617093 + i * -0.900865\n",
      "x_7 =  0.617093 + i *  0.900865\n",
      "\n",
      "\\sum_{i=1}^{7} x_i**14 = (7+0j)\n"
     ]
    }
   ],
   "source": [
    "from sympy import Eq, Symbol, solve\n",
    "\n",
    "x = Symbol('x')\n",
    "eqn = Eq( x**7-x-1 , 0.)\n",
    "sols = solve(eqn)\n",
    "\n",
    "c = 0\n",
    "n = 1\n",
    "xi = []\n",
    "for s in sols:\n",
    "    t = s.eval_approx(20).as_real_imag()\n",
    "    print(\"x_{} = {:9.6f} + i * {:9.6f}\".format(n,float(t[0]),float(t[1])))\n",
    "    n += 1\n",
    "    xi.append(float(t[0])+float(t[1])*1j)\n",
    "    c += xi[-1]**14\n",
    "\n",
    "print(\"\\n\\sum_{i=1}^{7} x_i**14 =\",c)"
   ]
  },
  {
   "cell_type": "markdown",
   "id": "given-appliance",
   "metadata": {},
   "source": [
    "La soluzione è dunque **7**. Yes! Al perché sia proprio 7 penserò più tardi...\n",
    "\n",
    "---"
   ]
  },
  {
   "cell_type": "markdown",
   "id": "norwegian-reservoir",
   "metadata": {},
   "source": [
    "_Dopo aver sottommesso la soluzione, con calma, sull'aereo:_\n",
    "\n",
    "### Identità di Newton\n",
    "\n",
    "Dato un polinomio di grado $n$:\n",
    "\n",
    "$P(x) = a_n x^n + a_{n-1} x^{n-1} + ... + a_2 x^2 + a_1 x + a_0$\n",
    "\n",
    "siano $x_i$ le $n$ radici di $P(x) = 0$.\n",
    "\n",
    "Definisco la somma $P_k$:\n",
    "\n",
    "$P_k = \\sum_{i=0}^{n} x_i^k$\n",
    "\n",
    "Valgono allora le [identità di Newton](https://en.wikipedia.org/wiki/Newton%27s_identities):\n",
    "\n",
    "$a_n P_1 + a_{n-1} = 0$\n",
    "\n",
    "$a_n P_2 + a_{n-1} P_1 + 2 a_{n-2}= 0$\n",
    "\n",
    "$a_n P_2 + a_{n-1} P_1 + a_{n-2} P_2 + 3 a_{n-3}= 0$\n",
    "\n",
    "$...$"
   ]
  },
  {
   "cell_type": "markdown",
   "id": "satisfactory-footwear",
   "metadata": {},
   "source": [
    "### Identità di Newton applicate al problema 29\n",
    "\n",
    "$P(x) = x^7 - x - 1$\n",
    "\n",
    "$a_7 = 1, a_1 = a_0 = -1$\n",
    "\n",
    "Tutti gli altri fattori $a_i = 0$ per $i=2,3,4,5,6$.\n",
    "\n",
    "Posso riscrivere l'equazione come:\n",
    "\n",
    "$x^7 = x + 1$\n",
    "\n",
    "da cui:\n",
    "\n",
    "$x^{14} = (x + 1)^2 = x^2 + 2x + 1$\n",
    "\n",
    "che è soddisfatta dalle 7 radici $x_i$ dell'equazione. Vale dunque:\n",
    "\n",
    "$\\sum_{i=1}^7 x_i^{14} = \\sum_{i=1}^7 x^2 + 2 \\sum_{i=1}^7 x + 7 = P_2 + 2 P_1 + 7$\n",
    "\n",
    "$P_1 = -\\frac{a_{n-1}}{a_n} = -\\frac{a_{6}}{a_7} = 0$ perché $a_{6}=0$;\n",
    "\n",
    "$P_2 = -\\frac{a_{n-1}P_1+2 a_{n-2}}{a_n} = -\\frac{a_{6}P_1+2 a_{5}}{a_7} = 0$ perché $a_{6}=0$, $P_1=0$ e $a_{5}=0$;\n",
    "\n",
    "da cui:\n",
    "\n",
    "$\\sum_i x_i^{14} = 7$ \n",
    "\n",
    "(q.e.d.)"
   ]
  },
  {
   "cell_type": "code",
   "execution_count": 67,
   "id": "printable-efficiency",
   "metadata": {},
   "outputs": [
    {
     "name": "stdout",
     "output_type": "stream",
     "text": [
      "  n     P_n\n",
      "  1    0 + i 0\n",
      "  2    0 + i 0\n",
      "  3    0 + i 0\n",
      "  4    0 + i 0\n",
      "  5    0 + i 0\n",
      "  6    6 + i 0\n",
      "  7    7 + i 0\n",
      "  8    0 + i 0\n",
      "  9    0 + i 0\n",
      " 10    0 + i 0\n",
      " 11    0 + i 0\n",
      " 12    6 + i 0\n",
      " 13   13 + i 0\n",
      " 14    7 + i 0\n",
      " 15    0 + i 0\n",
      " 16    0 + i 0\n",
      " 17    0 + i 0\n",
      " 18    6 + i 0\n",
      " 19   19 + i 0\n",
      " 20   20 + i 0\n",
      " 21    7 + i 0\n"
     ]
    }
   ],
   "source": [
    "print(\"  n     P_n\")\n",
    "for n in range(1,22):\n",
    "    s = sum([ x**n for x in xi])\n",
    "    print(\"{:3d} {:4.0f} + i {:1.0f}\".format(n,s.real,s.imag))"
   ]
  },
  {
   "cell_type": "markdown",
   "id": "wanted-focus",
   "metadata": {},
   "source": [
    "## 30. Solo 20 centesimi  <a class=\"anchor\" id=\"prob30\"></a>\n",
    "\n",
    "https://www.rimosco.it/picalendar/index.php?a=problem&p=36\n",
    "\n",
    "[Indice](#index)\n",
    "\n",
    "> Ho a disposizione monete da 1, 2, 5, 10 e 20 centesimi di euro. Un modo per avere esattamente 20 centesimi è avere 3 monete da 1 centesimo, 1 moneta da 2 centesimi e 3 monete da 5 centesimi. Quanti sono tutti i possibili modi di avere 20 centesimi?\n",
    "\n",
    "Il quesito è uguale al [problema 31 di Projet Euler](https://projecteuler.net/problem=31), che avevo già risolto con un funzione ricursiva. Sotto i miei appunti dalla soluzione di Projet Euler, ispirata da [questa pagina](https://algorithmist.com/wiki/Coin_change).\n",
    "\n",
    "_Solution can be found by summing solutions that do not contain m-th coin and solutions that contain at least one m-th coin of `Sm` value. I define define a recursive function:_\n",
    "\n",
    "_`countCoins(S[], m, n)`_\n",
    "\n",
    "_returning as sum of `countCoins(S[], m-1, n)` + `countCoins(S[], m, n-Sm)`, where `Sm` is the value of the m-th coin. The function will need a few \"bottom\" returns returning 1 for when single coing value is reached, and 0 for when the single coin value is smaller then the desided value._"
   ]
  },
  {
   "cell_type": "code",
   "execution_count": 68,
   "id": "capable-michigan",
   "metadata": {},
   "outputs": [],
   "source": [
    "def countCoins(S, m, n): \n",
    "    '''\n",
    "    Returns count of ways we can sum S[0...m-1] coins to get sum n \n",
    "    S = list of coin values\n",
    "    m = how many coin values to use\n",
    "    n = total value to obtain\n",
    "    '''\n",
    "    \n",
    "    # If n is 0 then there is 1 solution (do not include any coin) \n",
    "    if n == 0: \n",
    "        return 1\n",
    "  \n",
    "    # If n is less than 0 then no solution exists \n",
    "    if n < 0: \n",
    "        return 0\n",
    "    \n",
    "    # If there are no coins available anymore and n is still greater than 0, then no solution exists\n",
    "    if m<=0 and n>=0: \n",
    "        return 0\n",
    "  \n",
    "    # Recursive solution:\n",
    "    # Sum of solutions including S[m-1] and solutions excluding S[m-1]\n",
    "    return countCoins(S, m-1, n) + countCoins(S, m, n-S[m-1])"
   ]
  },
  {
   "cell_type": "code",
   "execution_count": 69,
   "id": "buried-scratch",
   "metadata": {},
   "outputs": [
    {
     "name": "stdout",
     "output_type": "stream",
     "text": [
      "41\n"
     ]
    }
   ],
   "source": [
    "coinvalues = [1, 2, 5, 10, 20]\n",
    "print(countCoins(coinvalues, len(coinvalues), 20)) "
   ]
  },
  {
   "cell_type": "markdown",
   "id": "innocent-engine",
   "metadata": {},
   "source": [
    "## 31. Multipli di 5  <a class=\"anchor\" id=\"prob31\"></a>\n",
    "\n",
    "https://www.rimosco.it/picalendar/index.php?a=problem&p=37\n",
    "\n",
    "[Indice](#index)\n",
    "\n",
    "> Sia $p(n) = 1^n + 2^n + 3^n + 4^n + 5^n$. Per quanti valori di n compresi tra 1 e 100 (estremi inclusi) $p(n)$ è multiplo di 5?\n",
    "\n",
    "Il problema sembra banale da risolversi per forza bruta, ma il risultato che ho dato non viene accettato: o ho fatto un errore grossolano io, oppure c'è  l'ennesimo problema nel sito :-("
   ]
  },
  {
   "cell_type": "code",
   "execution_count": 70,
   "id": "absolute-matter",
   "metadata": {},
   "outputs": [
    {
     "name": "stdout",
     "output_type": "stream",
     "text": [
      "75\n"
     ]
    }
   ],
   "source": [
    "print( sum([1 for n in range(1,101) if sum( [i**n for i in range(1,6)] )%5==0]) )"
   ]
  },
  {
   "cell_type": "markdown",
   "id": "adverse-elephant",
   "metadata": {},
   "source": [
    "È interessante notare che i vari termini della funzione $p(n)$ hanno periodicità rispetto all'essere multipli di 5, che risulta in una periodicità della loro somma mod 5 (e ovviamente il termine $1^n$ ¡e sempre uguale a 1, e il termine $5^n$ è irrilevante perché sempre multiplo di 5): sono multipli di 5 tutte le potenze $n$ tranne i multipli di 4, da cui il fatto che 3/4 delle potenze considerate sono soluzione del problema (nell'ipotesi che il valore massimo di $n$ sia multiplo di 4)."
   ]
  },
  {
   "cell_type": "code",
   "execution_count": 71,
   "id": "forward-provincial",
   "metadata": {},
   "outputs": [
    {
     "name": "stdout",
     "output_type": "stream",
     "text": [
      " 1 [1, 2, 3, 4, 0] 0\n",
      " 2 [1, 4, 4, 1, 0] 0\n",
      " 3 [1, 3, 2, 4, 0] 0\n",
      " 4 [1, 1, 1, 1, 0] 4\n",
      " 5 [1, 2, 3, 4, 0] 0\n",
      " 6 [1, 4, 4, 1, 0] 0\n",
      " 7 [1, 3, 2, 4, 0] 0\n",
      " 8 [1, 1, 1, 1, 0] 4\n",
      " 9 [1, 2, 3, 4, 0] 0\n",
      "10 [1, 4, 4, 1, 0] 0\n",
      "11 [1, 3, 2, 4, 0] 0\n",
      "12 [1, 1, 1, 1, 0] 4\n",
      "13 [1, 2, 3, 4, 0] 0\n",
      "14 [1, 4, 4, 1, 0] 0\n",
      "15 [1, 3, 2, 4, 0] 0\n",
      "16 [1, 1, 1, 1, 0] 4\n",
      "17 [1, 2, 3, 4, 0] 0\n",
      "18 [1, 4, 4, 1, 0] 0\n",
      "19 [1, 3, 2, 4, 0] 0\n",
      "20 [1, 1, 1, 1, 0] 4\n"
     ]
    }
   ],
   "source": [
    "for n in range(1,21):\n",
    "    pi = [ (i**n)%5 for i in range(1,6)] \n",
    "    print(\"{:2d} {} {}\".format(n, pi, sum(pi)%5 ) )"
   ]
  },
  {
   "cell_type": "markdown",
   "id": "floating-production",
   "metadata": {},
   "source": [
    "## 32.  Un polinomio misterioso <a class=\"anchor\" id=\"prob32\"></a>\n",
    "\n",
    "https://www.rimosco.it/picalendar/index.php?a=problem&p=37\n",
    "\n",
    "[Indice](#index)\n",
    "\n",
    "> $p(x)$ è un polinomio misterioso di grado 999, tale che $p(1)=1$, $p(2)=1/2$, $p(3)=1/3$, ... $p(1000)=1/1000$. \n",
    "Quanto vale $p(1001)$?\n",
    "\n",
    "<img src=\"calenPIario/calenPIario_2022-06-16.jpg\" alt=\"\" width=\"600\" align=\"center\"/>"
   ]
  },
  {
   "cell_type": "code",
   "execution_count": 72,
   "id": "otherwise-alfred",
   "metadata": {},
   "outputs": [],
   "source": [
    "from math import factorial\n",
    "from functools import reduce\n",
    "from operator import mul\n",
    "\n",
    "def f(x):\n",
    "    return -1 * reduce(mul,[ x-i for i in range(1,1001) ]) / factorial(1000)"
   ]
  },
  {
   "cell_type": "code",
   "execution_count": 73,
   "id": "acknowledged-producer",
   "metadata": {},
   "outputs": [
    {
     "data": {
      "text/plain": [
       "-1.0"
      ]
     },
     "execution_count": 73,
     "metadata": {},
     "output_type": "execute_result"
    }
   ],
   "source": [
    "f(0)"
   ]
  },
  {
   "cell_type": "code",
   "execution_count": 74,
   "id": "institutional-memorial",
   "metadata": {},
   "outputs": [],
   "source": [
    "def p(x):\n",
    "    return (f(x)+1)/x"
   ]
  },
  {
   "cell_type": "code",
   "execution_count": 75,
   "id": "swedish-receipt",
   "metadata": {},
   "outputs": [
    {
     "name": "stdout",
     "output_type": "stream",
     "text": [
      "1 1.0\n",
      "2 0.5\n",
      "3 0.3333333333333333\n",
      "4 0.25\n",
      "5 0.2\n",
      "6 0.16666666666666666\n",
      "7 0.14285714285714285\n",
      "8 0.125\n",
      "9 0.1111111111111111\n",
      "10 0.1\n"
     ]
    }
   ],
   "source": [
    "for x in range(1,11):\n",
    "    print(x,p(x))"
   ]
  },
  {
   "cell_type": "code",
   "execution_count": 76,
   "id": "grand-comparison",
   "metadata": {},
   "outputs": [
    {
     "data": {
      "text/plain": [
       "0.001"
      ]
     },
     "execution_count": 76,
     "metadata": {},
     "output_type": "execute_result"
    }
   ],
   "source": [
    "p(1000)"
   ]
  },
  {
   "cell_type": "code",
   "execution_count": 77,
   "id": "israeli-financing",
   "metadata": {},
   "outputs": [
    {
     "data": {
      "text/plain": [
       "0.0"
      ]
     },
     "execution_count": 77,
     "metadata": {},
     "output_type": "execute_result"
    }
   ],
   "source": [
    "p(1001)"
   ]
  },
  {
   "cell_type": "code",
   "execution_count": 78,
   "id": "color-guatemala",
   "metadata": {},
   "outputs": [
    {
     "data": {
      "text/plain": [
       "-0.998003992015968"
      ]
     },
     "execution_count": 78,
     "metadata": {},
     "output_type": "execute_result"
    }
   ],
   "source": [
    "p(1002)"
   ]
  },
  {
   "cell_type": "code",
   "execution_count": 79,
   "id": "southwest-indonesia",
   "metadata": {},
   "outputs": [
    {
     "data": {
      "text/plain": [
       "-500.0"
      ]
     },
     "execution_count": 79,
     "metadata": {},
     "output_type": "execute_result"
    }
   ],
   "source": [
    "p(1003)"
   ]
  },
  {
   "cell_type": "code",
   "execution_count": 80,
   "id": "three-longitude",
   "metadata": {},
   "outputs": [],
   "source": [
    "# Custom implementation of Vieta's formula to account for very large numbers \n",
    "# that cannot be represented by floats\n",
    "# https://en.wikipedia.org/wiki/Vieta%27s_formulas\n",
    "\n",
    "def VietaFormula(roots):\n",
    "    # polynomial degre\n",
    "    n = len(roots) \n",
    "    # polynomiak coefficient array, from lowest power a_0 to highest a_n\n",
    "    coeff = [0]*(n+1)\n",
    "    coeff[n] = 1\n",
    "    for i in range(1,n+1):\n",
    "        for j in range(n-i-1, n):\n",
    "            coeff[j] += -1*roots[i-1]*coeff[j+1]\n",
    "    return coeff"
   ]
  },
  {
   "cell_type": "code",
   "execution_count": 81,
   "id": "valued-gentleman",
   "metadata": {},
   "outputs": [
    {
     "data": {
      "text/plain": [
       "(array([-6., 11., -6.,  1.]), [-6, 11, -6, 1])"
      ]
     },
     "execution_count": 81,
     "metadata": {},
     "output_type": "execute_result"
    }
   ],
   "source": [
    "roots = [1,2,3]\n",
    "\n",
    "from numpy.polynomial import polynomial as P\n",
    "\n",
    "P.polyfromroots(roots), VietaFormula(roots)"
   ]
  },
  {
   "cell_type": "code",
   "execution_count": 82,
   "id": "intended-variety",
   "metadata": {},
   "outputs": [],
   "source": [
    "from math import factorial\n",
    "\n",
    "c = factorial(1000)\n",
    "roots = [i for i in range(1,1001)]\n",
    "an = VietaFormula(roots)\n",
    "\n",
    "def f2(x):\n",
    "    xn = [ x**n for n in range(0,1001) ]\n",
    "    return -1*sum([ ai*xi for ai,xi in zip(an,xn) ])/c\n",
    "\n",
    "def p2(x):\n",
    "    return (f2(x)+1)/x\n",
    "\n",
    "def p3(x):\n",
    "    xn = [ x**n for n in range(0,1000) ]\n",
    "    return -sum([ ai*xi for ai,xi in zip(an[1:],xn) ])/c"
   ]
  },
  {
   "cell_type": "code",
   "execution_count": 83,
   "id": "invisible-complex",
   "metadata": {},
   "outputs": [
    {
     "name": "stdout",
     "output_type": "stream",
     "text": [
      "1000     0.001000     0.001000     0.001000\n",
      "1001     0.000000     0.000000     0.000000\n",
      "1002    -0.998004    -0.998004    -0.998004\n",
      "1003  -500.000000  -500.000000  -500.000000\n"
     ]
    }
   ],
   "source": [
    "for n in range (1000,1004):\n",
    "    print(\"{:d} {:12.6f} {:12.6f} {:12.6f}\".format(n,p(n),p2(n),p3(n)))"
   ]
  },
  {
   "cell_type": "markdown",
   "id": "favorite-channel",
   "metadata": {},
   "source": [
    "## 33. Dieci cifre tutte diverse <a class=\"anchor\" id=\"prob33\"></a>\n",
    "\n",
    "https://www.rimosco.it/picalendar/index.php?a=problem&p=39\n",
    "\n",
    "[Indice](#index)\n",
    "\n",
    "> Trovare un numero naturale di dieci cifre abcdefghij tutte diverse tale che \n",
    "> \n",
    "> - a è divisibile per 1\n",
    "> - ab è divisibile per 2\n",
    "> - abc è divisibile per 3\n",
    "> - abcd è divisibile per 4\n",
    "> - abcde è divisibile per 5\n",
    "> - abcdef è divisibile per 6\n",
    "> - abcdefg è divisibile per 7\n",
    "> - abcdefgh è divisibile per 8\n",
    "> - abcdefghi è divisibile per 9\n",
    "> - abcdefghij è divisibile per 10\n",
    "\n",
    "j=0 (e dunque posso saltarlo) e di conseguenza e=5, per il resto implemento una ricerca iterativa ispirata a una [BFS](https://en.wikipedia.org/wiki/Breadth-first_search):"
   ]
  },
  {
   "cell_type": "code",
   "execution_count": 84,
   "id": "reduced-employment",
   "metadata": {},
   "outputs": [
    {
     "name": "stdout",
     "output_type": "stream",
     "text": [
      "L N_sol\n",
      "-------\n",
      "1 9\n",
      "2 32\n",
      "3 80\n",
      "4 88\n",
      "5 68\n",
      "6 20\n",
      "7 11\n",
      "8 1\n",
      "9 1\n",
      "-------\n",
      "Soluzione = 3816547290\n"
     ]
    }
   ],
   "source": [
    "digits = [ i for i in range(1,10) ]\n",
    "\n",
    "i = 1\n",
    "numbers = list(digits)\n",
    "print(\"L N_sol\\n-------\")\n",
    "print(i,len(numbers))\n",
    "\n",
    "while i<9:\n",
    "    i += 1\n",
    "    newnumbers = []\n",
    "    for h in numbers:\n",
    "        for t in digits:\n",
    "            _h = str(h)\n",
    "            _t = str(t)\n",
    "            if _t not in _h:\n",
    "                _n = _h+_t\n",
    "                n = int(_n)\n",
    "                if n%i==0: # i or len(_n) is the number of digits of the current number\n",
    "                    newnumbers.append(n)\n",
    "    numbers = list(newnumbers)\n",
    "    print(i,len(numbers))\n",
    "\n",
    "# at step 8 numbers already have only one solution!\n",
    "# Multipling times 10 to get the last digit j right:\n",
    "\n",
    "print(\"-------\\nSoluzione =\",numbers[0]*10)"
   ]
  },
  {
   "cell_type": "markdown",
   "id": "supreme-dress",
   "metadata": {},
   "source": [
    "## 34. ACS <a class=\"anchor\" id=\"prob34\"></a>\n",
    "\n",
    "https://www.rimosco.it/picalendar/index.php?a=problem&p=40\n",
    "\n",
    "[Indice](#index)\n",
    "\n",
    "> Esistono due soli triangoli isosceli non equilateri con questa proprietà: almeno uno dei loro angoli misura x gradi e il rapporto tra la lunghezza del lato maggiore e la lunghezza del lato minore vale $\\frac{1+\\sqrt{5}}{2}$. Quanto vale x?\n",
    "\n",
    "<img src=\"calenPIario/calenPIario_2022-06-22.jpg\" alt=\"\" width=\"600\" align=\"center\"/>\n",
    "\n",
    "I triangoli in questione sono i cosiddetti [triangolo aureo e gnomone aureo](https://en.wikipedia.org/wiki/Golden_triangle_\\(mathematics\\) ). \n",
    "\n",
    "Nel caso l'angolo $x$ sia al vertice (triangolo aureo):\n",
    "\n",
    "$\\varphi = \\frac{1+\\sqrt{5}}{2} $\n",
    "\n",
    "$x = 2 \\cdot \\textrm{sin}^{-1} \\left( \\frac{1}{2\\varphi} \\right) = 36^{o}$"
   ]
  },
  {
   "cell_type": "code",
   "execution_count": 85,
   "id": "recent-chuck",
   "metadata": {},
   "outputs": [
    {
     "name": "stdout",
     "output_type": "stream",
     "text": [
      "x = 36.0 deg\n"
     ]
    }
   ],
   "source": [
    "from math import degrees, asin, acos, sqrt\n",
    "\n",
    "phi = (1+sqrt(5))/2 # golden ratio\n",
    "\n",
    "x = 2.*degrees(asin(1/(2*phi)))\n",
    "\n",
    "print(\"x = {} deg\".format(x))"
   ]
  },
  {
   "cell_type": "markdown",
   "id": "assumed-thanks",
   "metadata": {},
   "source": [
    "Nel caso invece dello gnomone aureo, dove $x$ sono i due angoli alla base:\n",
    "\n",
    "$x = \\textrm{cos}^{-1} \\left( \\frac{\\varphi}{2} \\right) = 36^{o}$"
   ]
  },
  {
   "cell_type": "code",
   "execution_count": 86,
   "id": "restricted-clinton",
   "metadata": {},
   "outputs": [
    {
     "name": "stdout",
     "output_type": "stream",
     "text": [
      "x = 36.0 deg\n"
     ]
    }
   ],
   "source": [
    "x = degrees(acos(phi/2))\n",
    "\n",
    "print(\"x = {} deg\".format(x))"
   ]
  },
  {
   "cell_type": "markdown",
   "id": "welcome-literature",
   "metadata": {},
   "source": [
    "## 35. Le mie iniziali <a class=\"anchor\" id=\"prob35\"></a>\n",
    "\n",
    "https://www.rimosco.it/picalendar/index.php?a=problem&p=41\n",
    "\n",
    "[Indice](#index)\n",
    "\n",
    "> $a,b,c,d$ sono quattro numeri positivi tali che $a+b+c+d=5$. Quanto vale, al massimo, $a b^2 c^3 d^4$?\n",
    "\n",
    "Trasformo il problema in una questione di minimizzazione, che posso risolvere numericamente (perché non ho voglia di minimizzare a mano una funzione di 3 variabili!):"
   ]
  },
  {
   "cell_type": "code",
   "execution_count": 87,
   "id": "clinical-terminology",
   "metadata": {},
   "outputs": [
    {
     "name": "stdout",
     "output_type": "stream",
     "text": [
      "Optimization terminated successfully.\n",
      "         Current function value: -27.000000\n",
      "         Iterations: 134\n",
      "         Function evaluations: 258\n",
      "\n",
      "Soluzione = 27.0 => a = 0.5, b = 1.0, c = 1.5, d = 2.0\n"
     ]
    }
   ],
   "source": [
    "from scipy.optimize import fmin\n",
    "\n",
    "def ft(x,s=5):\n",
    "    return -1.* ( x[0]*x[1]**2*x[2]**3*(s-x[0]-x[1]-x[2])**4 )\n",
    "\n",
    "x0 = [1., 1., 1.]\n",
    "xmax = fmin(ft, x0, xtol=1e-10)\n",
    "\n",
    "print(\"\\nSoluzione = {:4.1f} => \".format( -ft(xmax) ), end=\"\")\n",
    "print(\"a = {:2.1f}, b = {:2.1f}, c = {:2.1f}, d = {:2.1f}\".format(xmax[0],xmax[1],xmax[2],5-sum(xmax)))\n",
    "#, xmax,   )"
   ]
  },
  {
   "cell_type": "markdown",
   "id": "loaded-amino",
   "metadata": {},
   "source": [
    "## 36. Finale <a class=\"anchor\" id=\"prob36\"></a>\n",
    "\n",
    "https://www.rimosco.it/picalendar/index.php?a=problem&p=42\n",
    "\n",
    "[Indice](#index)\n",
    "\n",
    "> Quanto vale al minimo l'espressione\n",
    ">\n",
    "> $\\sqrt{x^2 −2x+17 }+ \\sqrt{x^2−2xy+y^2+49}+\\sqrt{y^2−18y+97}$\n",
    ">\n",
    "> dove $x$ e $y$ sono numeri reali?"
   ]
  },
  {
   "cell_type": "code",
   "execution_count": 88,
   "id": "expected-functionality",
   "metadata": {},
   "outputs": [],
   "source": [
    "import numpy as np\n",
    "\n",
    "def f(x,y):\n",
    "    return np.sqrt(x**2-2*x+17) + np.sqrt(x**2-2*x*y+y**2+49) + np.sqrt(y**2-18*y+97)"
   ]
  },
  {
   "cell_type": "code",
   "execution_count": 89,
   "id": "varied-interpretation",
   "metadata": {},
   "outputs": [
    {
     "name": "stdout",
     "output_type": "stream",
     "text": [
      "Optimization terminated successfully.\n",
      "         Current function value: 17.000000\n",
      "         Iterations: 117\n",
      "         Function evaluations: 246\n",
      "\n",
      "Soluzione = 17.0 per [x,y] = [3.13333336 6.86666659]\n"
     ]
    }
   ],
   "source": [
    "from scipy.optimize import fmin\n",
    "\n",
    "def _f(X):\n",
    "    x,y = X\n",
    "    return f(x,y)\n",
    "\n",
    "X0 = [0., 0.]\n",
    "Xmin = fmin(_f, X0, xtol=1e-10)\n",
    "\n",
    "print(\"\\nSoluzione = {} per [x,y] = {}\".format(_f(Xmin),Xmin))"
   ]
  },
  {
   "cell_type": "code",
   "execution_count": 91,
   "id": "annoying-pocket",
   "metadata": {},
   "outputs": [
    {
     "data": {
      "image/png": "[encoded data removed]",
      "text/plain": [
       "<Figure size 1080x504 with 2 Axes>"
      ]
     },
     "metadata": {
      "needs_background": "light"
     },
     "output_type": "display_data"
    }
   ],
   "source": [
    "import matplotlib.pyplot as plt\n",
    "import matplotlib.cm as cm\n",
    "\n",
    "x = np.linspace(-20,30,50)\n",
    "y = np.linspace(-20,30,50)\n",
    "X,Y = np.meshgrid(x,y)\n",
    "\n",
    "fvec = np.vectorize(f)\n",
    "Z = fvec(X,Y)\n",
    "\n",
    "fig = plt.figure(figsize=(15,7))\n",
    "\n",
    "ax1 = fig.add_subplot(121, projection='3d')\n",
    "ax1.plot_surface(X, Y, Z, cmap=cm.jet)\n",
    "ax1.set_xlabel('x')\n",
    "ax1.set_ylabel('y')\n",
    "ax1.set_zlabel('f(x,y)')\n",
    "\n",
    "ax2 = fig.add_subplot(122)\n",
    "ax2.contour(X, Y, Z)\n",
    "plt.plot(Xmin[0],Xmin[1], 'ro', markersize=14)\n",
    "ax2.set_xlabel('x')\n",
    "ax2.set_ylabel('y')\n",
    "\n",
    "plt.show()"
   ]
  },
  {
   "cell_type": "code",
   "execution_count": null,
   "id": "exceptional-prevention",
   "metadata": {},
   "outputs": [],
   "source": []
  }
 ],
 "metadata": {
  "kernelspec": {
   "display_name": "Python 3",
   "language": "python",
   "name": "python3"
  },
  "language_info": {
   "codemirror_mode": {
    "name": "ipython",
    "version": 3
   },
   "file_extension": ".py",
   "mimetype": "text/x-python",
   "name": "python",
   "nbconvert_exporter": "python",
   "pygments_lexer": "ipython3",
   "version": "3.9.13"
  }
 },
 "nbformat": 4,
 "nbformat_minor": 5
}
