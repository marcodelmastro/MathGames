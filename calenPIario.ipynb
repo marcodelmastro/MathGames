{
 "cells": [
  {
   "cell_type": "markdown",
   "id": "absolute-smile",
   "metadata": {},
   "source": [
    "# calenPIario\n",
    "\n",
    "https://maddmaths.simai.eu/calenPIario/\n",
    "\n",
    "https://www.rimosco.it/picalendar/index.php?a=home"
   ]
  },
  {
   "cell_type": "markdown",
   "id": "satisfactory-equality",
   "metadata": {},
   "source": [
    "## 1. Quadrati più cubi\n",
    "https://www.rimosco.it/picalendar/index.php?a=problem&p=5"
   ]
  },
  {
   "cell_type": "code",
   "execution_count": 7,
   "id": "engaging-electricity",
   "metadata": {},
   "outputs": [
    {
     "name": "stdout",
     "output_type": "stream",
     "text": [
      "996\n"
     ]
    }
   ],
   "source": [
    "print(sorted([i**2+j**3 for i in range(1,int(1000**(1/2)+1)) for j in range(1,int(1000**(1/3)+1)) if i**2+j**3<1000])[-1])"
   ]
  },
  {
   "cell_type": "markdown",
   "id": "spectacular-friend",
   "metadata": {},
   "source": [
    "## 2. Un disegno con tanti incroci\n",
    "\n",
    "https://www.rimosco.it/picalendar/index.php?a=problem&p=8\n",
    "\n",
    "* 2 circles = 2 intersections --> N circles = 2 * N * (N-1)/2 intersections\n",
    "* 1 line + 1 circle = 2 intersections --> M line + N circles = 2 * M * N intersections\n",
    "* 1 intersections between every pair of M lines --> M * (M-1)/2"
   ]
  },
  {
   "cell_type": "code",
   "execution_count": 2,
   "id": "chinese-things",
   "metadata": {},
   "outputs": [
    {
     "name": "stdout",
     "output_type": "stream",
     "text": [
      "29\n",
      "36\n"
     ]
    }
   ],
   "source": [
    "def intersections(Ncircles,Nlines):\n",
    "    return int(2*Ncircles*(Ncircles-1)/2 + 2*Nlines*Ncircles + Nlines*(Nlines-1)/2)\n",
    "\n",
    "print(intersections(4,2))\n",
    "print(intersections(3,4))"
   ]
  },
  {
   "cell_type": "markdown",
   "id": "further-piano",
   "metadata": {},
   "source": [
    "## 3. Cancellando cifre\n",
    "\n",
    "https://www.rimosco.it/picalendar/index.php?a=problem&p=9\n",
    "\n",
    "La risposta (trovata a mano) è 99999785960.\n",
    "\n",
    "Qui sotto un tentatico di brute forcing giusto per il gusto di provarci... :-)"
   ]
  },
  {
   "cell_type": "code",
   "execution_count": 38,
   "id": "international-pottery",
   "metadata": {},
   "outputs": [
    {
     "name": "stdout",
     "output_type": "stream",
     "text": [
      "123456789101112131415161718192021222324252627282930313233343536373839404142434445464748495051525354555657585960\n"
     ]
    }
   ],
   "source": [
    "numbers = \"\".join([ str(i) for i in range(1,61) ])\n",
    "print(numbers)"
   ]
  },
  {
   "cell_type": "code",
   "execution_count": 40,
   "id": "prompt-brother",
   "metadata": {},
   "outputs": [],
   "source": [
    "# Full lenght would take forever to converge, here's a proof-of-principle with a shorter string\n",
    "numbers = \"999995051525354555657585960\" "
   ]
  },
  {
   "cell_type": "code",
   "execution_count": 43,
   "id": "entertaining-mailing",
   "metadata": {},
   "outputs": [
    {
     "name": "stdout",
     "output_type": "stream",
     "text": [
      "*** 99999785960\n",
      "--- 75.10025906562805 s ---\n"
     ]
    }
   ],
   "source": [
    "from itertools import product\n",
    "import time\n",
    "\n",
    "start_time = time.time()\n",
    "\n",
    "vmax = 0\n",
    "for mask in product(*[[1,0]]*len(numbers)):\n",
    "    if sum(mask)==11:\n",
    "        v = int(\"\".join([ d for d,m in zip(numbers,mask) if m==1 ]))\n",
    "        if v>vmax:\n",
    "            vmax=v\n",
    "            #print(v)\n",
    "\n",
    "print(\"***\",vmax)\n",
    "print(\"--- %s s ---\" % (time.time() - start_time))"
   ]
  },
  {
   "cell_type": "code",
   "execution_count": 11,
   "id": "lucky-fundamental",
   "metadata": {},
   "outputs": [
    {
     "name": "stdout",
     "output_type": "stream",
     "text": [
      "99999785960\n"
     ]
    }
   ],
   "source": [
    "# Very clever brute force by ilbibi https://pastebin.com/vk9nSAFn\n",
    "\n",
    "def check(s,i):\n",
    "    idx=0 # begin by search from beginning of s string\n",
    "    for ii in str(i): # loop over digitsof tried value, search their presence in s *in order*\n",
    "        try:\n",
    "            # https://docs.python.org/2.7/library/string.html#string.index\n",
    "            # second argument of index() defined position where sto start looking for substring\n",
    "            idx=s.index(ii,idx)+1 # search for next digit begins in substring after last found digit!\n",
    "        except ValueError:\n",
    "            return False \n",
    "    return True\n",
    "\n",
    "s=\"\".join([str(a) for a in range(1,61)])\n",
    "\n",
    "start=99999999999\n",
    "while not check(s,start):\n",
    "    start=start-1\n",
    "print(start)"
   ]
  },
  {
   "cell_type": "markdown",
   "id": "extra-savannah",
   "metadata": {},
   "source": [
    "## 4. Pulci che passeggiano\n",
    "\n",
    "https://www.rimosco.it/picalendar/index.php?a=problem&p=10\n",
    "\n",
    "Un problema scopiazzato dal problema 28 di Project Euler :-("
   ]
  },
  {
   "cell_type": "code",
   "execution_count": 1,
   "id": "level-complement",
   "metadata": {},
   "outputs": [
    {
     "data": {
      "text/plain": [
       "71965531"
      ]
     },
     "execution_count": 1,
     "metadata": {},
     "output_type": "execute_result"
    }
   ],
   "source": [
    "def value(steps=4242):\n",
    "    count = 1\n",
    "    n = 1\n",
    "    side = 1 \n",
    "    increment = 2 # increment of number on four diagonals for a given spyral layer\n",
    "    while True:\n",
    "        side += 2 # square side\n",
    "        # generates elements on diagonals\n",
    "        for i in range(4):\n",
    "            n += increment\n",
    "            # compute element on right horizontal branch \n",
    "            if i == 0:\n",
    "                j = n-count\n",
    "                if count==steps:\n",
    "                    return j\n",
    "                count +=1\n",
    "        increment += 2 # new spyral layer\n",
    "        \n",
    "value(4242)"
   ]
  },
  {
   "cell_type": "code",
   "execution_count": 2,
   "id": "fundamental-perth",
   "metadata": {},
   "outputs": [
    {
     "data": {
      "text/plain": [
       "16347871"
      ]
     },
     "execution_count": 2,
     "metadata": {},
     "output_type": "execute_result"
    }
   ],
   "source": [
    "value(2022)"
   ]
  },
  {
   "cell_type": "code",
   "execution_count": null,
   "id": "suspended-baseline",
   "metadata": {},
   "outputs": [],
   "source": []
  }
 ],
 "metadata": {
  "kernelspec": {
   "display_name": "Python 3",
   "language": "python",
   "name": "python3"
  },
  "language_info": {
   "codemirror_mode": {
    "name": "ipython",
    "version": 3
   },
   "file_extension": ".py",
   "mimetype": "text/x-python",
   "name": "python",
   "nbconvert_exporter": "python",
   "pygments_lexer": "ipython3",
   "version": "3.9.10"
  }
 },
 "nbformat": 4,
 "nbformat_minor": 5
}
