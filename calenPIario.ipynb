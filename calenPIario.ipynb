{
 "cells": [
  {
   "cell_type": "markdown",
   "id": "absolute-smile",
   "metadata": {},
   "source": [
    "# calenPIario\n",
    "\n",
    "https://maddmaths.simai.eu/calenPIario/\n",
    "\n",
    "https://www.rimosco.it/picalendar/index.php?a=home\n",
    "\n",
    "## Indice <a class=\"anchor\" id=\"index\"></a>\n",
    "\n",
    "* [1. Quadrati più cubi](#prob01)\n",
    "* [2. Un disegno con tanti incroci](#prob02)\n",
    "* [3. Cancellando cifre](#prob03)\n",
    "* [4. Pulci che passeggiano](#prob04)\n",
    "* [5. La busta misteriosa](#prob05)\n",
    "* [6. La sala P ](#prob06)\n",
    "* [7. Il Libro ](#prob07)\n",
    "* [8. Problemi di apici](#prob08)\n",
    "* [9. L'anno non speciale ](#prob09)\n",
    "* [10. La torre di potenze ](#prob10)\n",
    "* [11. La torre di potenze II](#prob11)\n",
    "* [12. Quadrati accatastati](#prob12)\n",
    "* [13. Le sei piramidi](#prob13)\n",
    "* [14. Quante combinazioni](#prob14)\n",
    "* [15. Tom e Mary](#prob15)\n",
    "* [16. Un triangolo dentro a un quadrato](#prob16)\n",
    "* [17. Un triangolo dentro a un quadrato II](#prob17)\n",
    "* [18. Anagrammi](#prob18)\n",
    "* [19. Il milionario](#prob19)\n",
    "* [20. I due cerchi uguali](#prob20)\n",
    "* [21. Una divisione intera](#prob21)\n",
    "* [23. Il trapezio](#prob22)\n",
    "* [23. Triangolo dentro triangolo](#prob23)\n",
    "* [24. I numeri strani](#prob24)\n",
    "* [25. Poligoni regolari ](#prob25)\n",
    "* [26. Numeri con tanti divisori](#prob26)"
   ]
  },
  {
   "cell_type": "markdown",
   "id": "satisfactory-equality",
   "metadata": {},
   "source": [
    "## 1. Quadrati più cubi <a class=\"anchor\" id=\"prob01\"></a>\n",
    "\n",
    "https://www.rimosco.it/picalendar/index.php?a=problem&p=5\n",
    "\n",
    "> Il numero 1000 ha questa caratteristica: può essere scritto come somma di un quadrato più un cubo, perché \n",
    "$1000 = 28^2 + 6^3$. Qual è il più grande numero minore di 1000 che ha la stessa proprietà, cioè che può essere scritto come somma di un quadrato più un cubo? I quadrati e i cubi devono essere interi positivi.\n",
    "\n",
    "[Indice](#index)"
   ]
  },
  {
   "cell_type": "code",
   "execution_count": 1,
   "id": "engaging-electricity",
   "metadata": {},
   "outputs": [
    {
     "name": "stdout",
     "output_type": "stream",
     "text": [
      "996\n"
     ]
    }
   ],
   "source": [
    "print(sorted([i**2+j**3 for i in range(1,int(1000**(1/2)+1)) for j in range(1,int(1000**(1/3)+1)) if i**2+j**3<1000])[-1])"
   ]
  },
  {
   "cell_type": "markdown",
   "id": "spectacular-friend",
   "metadata": {},
   "source": [
    "## 2. Un disegno con tanti incroci <a class=\"anchor\" id=\"prob02\"></a>\n",
    "\n",
    "https://www.rimosco.it/picalendar/index.php?a=problem&p=8\n",
    "\n",
    "> Quante intersezioni si possono ottenere disegnando opportunamente 4 circonferenze e 2 rette?\n",
    "\n",
    "* 2 circles = 2 intersections --> N circles = 2 * N * (N-1)/2 intersections\n",
    "* 1 line + 1 circle = 2 intersections --> M line + N circles = 2 * M * N intersections\n",
    "* 1 intersections between every pair of M lines --> M * (M-1)/2\n",
    "\n",
    "[Indice](#index)"
   ]
  },
  {
   "cell_type": "code",
   "execution_count": 2,
   "id": "chinese-things",
   "metadata": {},
   "outputs": [
    {
     "name": "stdout",
     "output_type": "stream",
     "text": [
      "29\n",
      "36\n"
     ]
    }
   ],
   "source": [
    "def intersections(Ncircles,Nlines):\n",
    "    return int(2*Ncircles*(Ncircles-1)/2 + 2*Nlines*Ncircles + Nlines*(Nlines-1)/2)\n",
    "\n",
    "print(intersections(4,2))\n",
    "print(intersections(3,4))"
   ]
  },
  {
   "cell_type": "markdown",
   "id": "further-piano",
   "metadata": {},
   "source": [
    "## 3. Cancellando cifre <a class=\"anchor\" id=\"prob03\"></a>\n",
    "\n",
    "https://www.rimosco.it/picalendar/index.php?a=problem&p=9\n",
    "\n",
    "> si inizia scrivendo in ordine i numeri da 1 a 60, uno a fianco all'altro - 1 2 3 4 ... 57 58 59 60 - Il problema richiede di cancellarne 100 in modo che il numero che si ottiene compattando le cifre rimaste senza spostarle sia il maggiore possibile.\n",
    "\n",
    "La mia risposta (trovata a mano) è 99999785960.\n",
    "\n",
    "Qui sotto una solutione brute force molto elegante di _ilbibi_ (https://pastebin.com/vk9nSAFn)\n",
    "\n",
    "[Indice](#index)"
   ]
  },
  {
   "cell_type": "code",
   "execution_count": 3,
   "id": "lucky-fundamental",
   "metadata": {},
   "outputs": [
    {
     "name": "stdout",
     "output_type": "stream",
     "text": [
      "99999785960\n"
     ]
    }
   ],
   "source": [
    "def check(s,i):\n",
    "    idx=0 # begin by search from beginning of s string\n",
    "    for ii in str(i): # loop over digitsof tried value, search their presence in s *in order*\n",
    "        try:\n",
    "            # https://docs.python.org/2.7/library/string.html#string.index\n",
    "            # second argument of index() defined position where sto start looking for substring\n",
    "            idx=s.index(ii,idx)+1 # search for next digit begins in substring after last found digit!\n",
    "        except ValueError:\n",
    "            return False \n",
    "    return True\n",
    "\n",
    "s=\"\".join([str(a) for a in range(1,61)])\n",
    "\n",
    "start=99999999999\n",
    "while not check(s,start):\n",
    "    start=start-1\n",
    "print(start)"
   ]
  },
  {
   "cell_type": "markdown",
   "id": "extra-savannah",
   "metadata": {},
   "source": [
    "## 4. Pulci che passeggiano <a class=\"anchor\" id=\"prob04\"></a>\n",
    "\n",
    "https://www.rimosco.it/picalendar/index.php?a=problem&p=10\n",
    "\n",
    "> Una pulce si muove all'interno di una scacchiera infinita creando una sorta di spirale, come in figura, e numerando progressivamente tutte le caselle che incontra. Una seconda pulce, invece, partendo dalla casella che contiene il numero 1, si sposta facendo 2022 passi verso destra. Quale numero conterrà la casella su cui arriva proprio dopo 2022 passi?\n",
    "\n",
    "<img src=\"calenPIario/immaginepulce.png\" alt=\"\" width=\"300\" align=\"center\"/>\n",
    "\n",
    "Un problema scopiazzato dal problema 28 di Project Euler :-(\n",
    "\n",
    "[Indice](#index)"
   ]
  },
  {
   "cell_type": "code",
   "execution_count": 4,
   "id": "level-complement",
   "metadata": {},
   "outputs": [
    {
     "data": {
      "text/plain": [
       "71965531"
      ]
     },
     "execution_count": 4,
     "metadata": {},
     "output_type": "execute_result"
    }
   ],
   "source": [
    "def value(steps=4242):\n",
    "    count = 1\n",
    "    n = 1\n",
    "    side = 1 \n",
    "    increment = 2 # increment of number on four diagonals for a given spyral layer\n",
    "    while True:\n",
    "        side += 2 # square side\n",
    "        # generates elements on diagonals\n",
    "        for i in range(4):\n",
    "            n += increment\n",
    "            # compute element on right horizontal branch \n",
    "            if i == 0:\n",
    "                j = n-count\n",
    "                if count==steps:\n",
    "                    return j\n",
    "                count +=1\n",
    "        increment += 2 # new spyral layer\n",
    "        \n",
    "value(4242)"
   ]
  },
  {
   "cell_type": "code",
   "execution_count": 5,
   "id": "fundamental-perth",
   "metadata": {},
   "outputs": [
    {
     "data": {
      "text/plain": [
       "16347871"
      ]
     },
     "execution_count": 5,
     "metadata": {},
     "output_type": "execute_result"
    }
   ],
   "source": [
    "value(2022)"
   ]
  },
  {
   "cell_type": "markdown",
   "id": "grand-deputy",
   "metadata": {},
   "source": [
    "## 5. La busta misteriosa <a class=\"anchor\" id=\"prob05\"></a>\n",
    "\n",
    "https://www.rimosco.it/picalendar/index.php?a=problem&p=11\n",
    "\n",
    "> Bussa tante volte quanti pi ci sono nel punto di domanda.\n",
    "\n",
    "[Indice](#index)\n",
    "\n",
    "<img src=\"calenPIario/immaginequadrato.png\" alt=\"\" width=\"300\" align=\"center\"/>\n",
    "\n",
    "![Soluzione](calenPIario/calenPIario_2022-03-26.jpg)"
   ]
  },
  {
   "cell_type": "markdown",
   "id": "attractive-chaos",
   "metadata": {},
   "source": [
    "## 6. La sala P <a class=\"anchor\" id=\"prob06\"></a>\n",
    "\n",
    "https://www.rimosco.it/picalendar/index.php?a=problem&p=12\n",
    "\n",
    ">Tra tutte le possibili soluzioni intere di $x^2-y^2=3141$ scegli quella in cui $x$ e $y$ sono positivi, e $x+y$\n",
    "ha il valore minore. Quanto vale $x+y$?\n",
    "\n",
    "[Indice](#index)\n",
    "\n",
    "Si tratta di un'equazione equivalente a un'equazione di Pell:\n",
    "\n",
    "https://en.wikipedia.org/wiki/Pell's_equation\n",
    "\n",
    "per la cui soluzione esistono algoritmi intelligenti (e complessi nel caso generico).\n",
    "\n",
    "Iniziamo con la soluzione di forza bruta per portare a casa il punto:"
   ]
  },
  {
   "cell_type": "code",
   "execution_count": 6,
   "id": "needed-yellow",
   "metadata": {},
   "outputs": [
    {
     "data": {
      "text/plain": [
       "349"
      ]
     },
     "execution_count": 6,
     "metadata": {},
     "output_type": "execute_result"
    }
   ],
   "source": [
    "def bruteForceProblem6(M):\n",
    "    return min([ x+y for x in range(M//2) for y in range(M//2) if x**2-y**2-M==0 ])\n",
    "    \n",
    "bruteForceProblem6(3141)"
   ]
  },
  {
   "cell_type": "markdown",
   "id": "virgin-adaptation",
   "metadata": {},
   "source": [
    "Passando invece alla soluzione analitica, posso riscrivere l'equazione come:\n",
    "\n",
    "$x^2-y^2 = M$\n",
    "\n",
    "$(x+y)(x-y) = M$\n",
    "\n",
    "da cui segue che $(x+y)=a$ e $(x-y)=b$ devono essere fattori di M, da cui:\n",
    "\n",
    "$x = \\frac{a+b}{2}$\n",
    "\n",
    "$y = \\frac{a-b}{2}$\n",
    "\n",
    "Posso dunque trovare tutte le soluzioni $(x,y)$ dell'equazione $x^2-y^2 = M$ partendo da ogni possibile coppia $(a,b)$ di fattori di $M$."
   ]
  },
  {
   "cell_type": "code",
   "execution_count": 7,
   "id": "dying-premises",
   "metadata": {},
   "outputs": [],
   "source": [
    "def factor(n):\n",
    "    \"\"\"Returns all prime factors of a positive integer. Returns n if prime\"\"\"\n",
    "    factors = []\n",
    "    d = 2 # begin by attempting to divide by 2\n",
    "    while n > 1:\n",
    "        while n % d == 0: # check if I can divide n by d, if so store factor and repeat with quotient\n",
    "            factors.append(d)\n",
    "            n /= d\n",
    "        d = d + 1 # increase divident\n",
    "    return factors"
   ]
  },
  {
   "cell_type": "code",
   "execution_count": 8,
   "id": "hidden-general",
   "metadata": {},
   "outputs": [
    {
     "name": "stdout",
     "output_type": "stream",
     "text": [
      "[(1571, 1570), (525, 522), (179, 170)]\n",
      "(179, 170) --> x + y = 349\n"
     ]
    }
   ],
   "source": [
    "def solveProblem6(M):\n",
    "    sols = []\n",
    "    for a in set([1]+factor(M)): # also consider the factors 1 and M\n",
    "        b = M//a\n",
    "        x = (a+b)//2\n",
    "        y = abs((a-b))//2\n",
    "        sols.append((x,y))\n",
    "    return sols\n",
    "\n",
    "sols = solveProblem6(3141)\n",
    "print(sols)\n",
    "\n",
    "s0 = min(sols,key=sum)\n",
    "print(s0,\"--> x + y =\",sum(s0))"
   ]
  },
  {
   "cell_type": "markdown",
   "id": "compact-ecuador",
   "metadata": {},
   "source": [
    "## 7. Il Libro <a class=\"anchor\" id=\"prob07\"></a>\n",
    "\n",
    "https://www.rimosco.it/picalendar/index.php?a=problem&p=13\n",
    "\n",
    "> I numeri da 1 a 3141 (estremi compresi) sono scritti in ordine su un cerchio. Partendo da 1, si cerchia un numero saltando di 225 in 225 (1, 226, 451, 676, e così via, proseguendo lungo il cerchio). Si va avanti finché non si raggiunge un numero che è già stato cerchiato. Quando questo accade, quanti sono i numeri che non sono stati cerchiati?\n",
    "\n",
    "[Indice](#index)"
   ]
  },
  {
   "cell_type": "code",
   "execution_count": 9,
   "id": "abstract-engineering",
   "metadata": {},
   "outputs": [
    {
     "data": {
      "text/plain": [
       "2792"
      ]
     },
     "execution_count": 9,
     "metadata": {},
     "output_type": "execute_result"
    }
   ],
   "source": [
    "def solveProblem7BruteForce(n=3141,d=225):\n",
    "    numbers = [i for i in range(1,n+1)]\n",
    "    p = 0\n",
    "    circled = []\n",
    "    while True:\n",
    "        if numbers[p] in circled:\n",
    "            break\n",
    "        circled.append(numbers[p])\n",
    "        p = (p+d)%len(numbers)\n",
    "    return len(numbers)-len(circled)\n",
    "\n",
    "solveProblem7BruteForce(3141,225)"
   ]
  },
  {
   "cell_type": "markdown",
   "id": "decent-palmer",
   "metadata": {},
   "source": [
    "### Soluzione analitica\n",
    "\n",
    "Se $d$ è un divisore di $n$, troverò un numero cerchiaro dopo 1 giro, dopo averne cerchiati $n/d$.\n",
    "\n",
    "Altrimenti mi serviranno $g = \\textrm{MCD}(n,d)$ giri per trovare un numero già cerchiato, dopo i quali $n/g$ numeri saranno stati cerchiati.\n",
    "\n",
    "Se $n$ e $d$ sono primi tra loro, tutti i numeri verranno cerchiati."
   ]
  },
  {
   "cell_type": "code",
   "execution_count": 10,
   "id": "received-mobile",
   "metadata": {},
   "outputs": [
    {
     "data": {
      "text/plain": [
       "2792"
      ]
     },
     "execution_count": 10,
     "metadata": {},
     "output_type": "execute_result"
    }
   ],
   "source": [
    "from math import gcd\n",
    "\n",
    "def solveProblem7(n=3141,d=225):\n",
    "    g = gcd(n,d)\n",
    "    return n-n//g\n",
    "\n",
    "solveProblem7(3141,225)"
   ]
  },
  {
   "cell_type": "code",
   "execution_count": 11,
   "id": "hired-alias",
   "metadata": {},
   "outputs": [
    {
     "name": "stdout",
     "output_type": "stream",
     "text": [
      "3141 220 1 0 0\n",
      "3141 221 1 0 0\n",
      "3141 222 3 2094 2094\n",
      "3141 223 1 0 0\n",
      "3141 224 1 0 0\n",
      "3141 225 9 2792 2792\n",
      "3141 226 1 0 0\n",
      "3141 227 1 0 0\n",
      "3141 228 3 2094 2094\n",
      "3141 229 1 0 0\n"
     ]
    }
   ],
   "source": [
    "n = 3141\n",
    "for d in range(220,230):\n",
    "    print(n,d,gcd(n,d),solveProblem7BruteForce(n,d),solveProblem7(n,d))"
   ]
  },
  {
   "cell_type": "markdown",
   "id": "coordinate-eclipse",
   "metadata": {},
   "source": [
    "# 8. Problemi di apici  <a class=\"anchor\" id=\"prob08\"></a>\n",
    "\n",
    "https://www.rimosco.it/picalendar/index.php?a=problem&p=14\n",
    "\n",
    "> Stavo scrivendo al computer un testo, e volevo scrivere il numero $2^a 9^b$, ma ho dimenticato gli apici e ho scritto il numero di quattro cifre $2a9b$. Però mi è andata bene: il numero scrtto in maniera errata è comunque uguale a quello che volevo scrivere come prodotto di due potenze. Qual è questo numero?\n",
    "\n",
    "[Indice](#index)"
   ]
  },
  {
   "cell_type": "code",
   "execution_count": 12,
   "id": "imperial-layer",
   "metadata": {},
   "outputs": [
    {
     "data": {
      "text/plain": [
       "2592"
      ]
     },
     "execution_count": 12,
     "metadata": {},
     "output_type": "execute_result"
    }
   ],
   "source": [
    "def solveProblem8():\n",
    "    for a in range(10):\n",
    "        for b in range(10):\n",
    "            #n = int(\"2{}9{}\".format(a,b))\n",
    "            n = 2000+a*100+90+b\n",
    "            if n==2**a*9**b:\n",
    "                return n\n",
    "\n",
    "solveProblem8()"
   ]
  },
  {
   "cell_type": "markdown",
   "id": "committed-tamil",
   "metadata": {},
   "source": [
    "Caso generico $a^b c^d = abcd$"
   ]
  },
  {
   "cell_type": "code",
   "execution_count": 13,
   "id": "illegal-width",
   "metadata": {},
   "outputs": [
    {
     "name": "stdout",
     "output_type": "stream",
     "text": [
      "2592\n"
     ]
    }
   ],
   "source": [
    "for a in range(10):\n",
    "    for b in range(10):\n",
    "        for c in range(10):\n",
    "            for d in range(10):\n",
    "                n = 1000*a+100*b+10*c+d\n",
    "                if n==a**b*c**d:\n",
    "                    print(n)"
   ]
  },
  {
   "cell_type": "markdown",
   "id": "radio-seller",
   "metadata": {},
   "source": [
    "##  9. L'anno non speciale  <a class=\"anchor\" id=\"prob09\"></a>\n",
    "\n",
    "https://www.rimosco.it/picalendar/index.php?a=problem&p=15\n",
    "\n",
    "> Il 2022 è un anno speciale: si può scrivere come somma di numeri naturali consecutivi. 2022=504+505+506+507. Pensandoci, anche il 2021 è un anno speciale. 2021=26+27+28+...+68. Pensandoci ancora un po', anche il 2020 è speciale. Nel terzo millennio (tra il 2000 e il 3000) c'è un solo anno che non si può esprimere come somma di numeri naturali consecutivi. Quale?\n",
    "\n",
    "Il numero non può essere dispari: ogni numero dispari $N$ può essere scritto come la somma dei numeri consecutivi $(N-1)/2$ e $(N+1)/2$\n",
    "\n",
    "[Indice](#index)"
   ]
  },
  {
   "cell_type": "code",
   "execution_count": 14,
   "id": "female-pursuit",
   "metadata": {},
   "outputs": [
    {
     "name": "stdout",
     "output_type": "stream",
     "text": [
      "2022\n",
      "2021\n"
     ]
    }
   ],
   "source": [
    "mem_sum_m_n = {}\n",
    "\n",
    "def sum_m_n(n,m):\n",
    "    '''funzione per calcolare la somma dei numeri consecutivi tra n e m inclusi'''\n",
    "    if (n,m) in mem_sum_m_n.keys():\n",
    "        return mem_sum_m_n[(n,m)]\n",
    "    else:\n",
    "        s = (m+n)*(m-n+1)//2\n",
    "        mem_sum_m_n[(n,m)] = s\n",
    "        return s\n",
    "\n",
    "print(sum_m_n(504,507))\n",
    "print(sum_m_n(26,68))"
   ]
  },
  {
   "cell_type": "code",
   "execution_count": 15,
   "id": "public-outreach",
   "metadata": {},
   "outputs": [
    {
     "data": {
      "text/plain": [
       "(True, 31, 70)"
      ]
     },
     "execution_count": 15,
     "metadata": {},
     "output_type": "execute_result"
    }
   ],
   "source": [
    "def isSpecial(y):\n",
    "    '''funzione per verificare se il numero è \"speciale\"'''\n",
    "    if y%2==1: # numeri dispari\n",
    "        return True\n",
    "    # numeri pari\n",
    "    for n in range(1,y+1): \n",
    "        for m in range(n+1,y+1):\n",
    "            t = sum_m_n(n,m)\n",
    "            if t>y:\n",
    "                break\n",
    "            if y==t:\n",
    "                return True, n, m\n",
    "    return False\n",
    "            \n",
    "isSpecial(2020)"
   ]
  },
  {
   "cell_type": "code",
   "execution_count": 16,
   "id": "prostate-plymouth",
   "metadata": {},
   "outputs": [
    {
     "data": {
      "text/plain": [
       "[2048]"
      ]
     },
     "execution_count": 16,
     "metadata": {},
     "output_type": "execute_result"
    }
   ],
   "source": [
    "def solveProblem9(nmin=2000,nmax=3000):\n",
    "    return [ y for y in range(nmin,nmax+1,2) if not isSpecial(y) ] # itero solo sui numeri pari \n",
    "\n",
    "solveProblem9()"
   ]
  },
  {
   "cell_type": "markdown",
   "id": "large-hanging",
   "metadata": {},
   "source": [
    "### Soluzione analitica"
   ]
  },
  {
   "cell_type": "markdown",
   "id": "editorial-invention",
   "metadata": {},
   "source": [
    "Un numero _dispari_ è sempre speciale: ogni numero dispari $N$ può infatti essere scritto come la somma dei numeri consecutivi $(N-1)/2$ e $(N+1)/2$.\n",
    "\n",
    "Perché un numero $N$ _pari_ possa essere speciale, deve poter essere scritto come la somma di $M$ interi consecutivi, dove $M$ può essere pari o dispari. Nel caso $M$ sia pari, allora $N$ è divisibile per la somma del'intero più piccolo e quello più grande della sequenza di $M$ numeri, e questa somma è dispari per definizione. Se $M$ è dispari, allora $N$ è divisibile per $M$. In entrambi i casi, perché $N$ pari sia speciale è necessario che abbia almeno un fattore dispari.\n",
    "\n",
    "**Ne segue che le potenze di 2 non possono essere speciali.**\n",
    "\n",
    "Nell'esempio, l'unica potenzia di 2 tra 2000 e 3000 è $2^{11} = 2048$."
   ]
  },
  {
   "cell_type": "code",
   "execution_count": 17,
   "id": "structured-nitrogen",
   "metadata": {},
   "outputs": [
    {
     "data": {
      "text/plain": [
       "[2, 4, 8, 16, 32, 64, 128, 256, 512, 1024, 2048]"
      ]
     },
     "execution_count": 17,
     "metadata": {},
     "output_type": "execute_result"
    }
   ],
   "source": [
    "solveProblem9(2,3000)"
   ]
  },
  {
   "cell_type": "markdown",
   "id": "swiss-breathing",
   "metadata": {},
   "source": [
    "## 10. La torre di potenze  <a class=\"anchor\" id=\"prob10\"></a>\n",
    "\n",
    "https://www.rimosco.it/picalendar/index.php?a=problem&p=16\n",
    "\n",
    "> $9^{8^{7^{6^{5^{4^{3^{2^1}}}}}}}$ è un numero molto grande. Quali sono le sue ultime due cifre?\n",
    "\n",
    "Osservo che le ultime cifre di ogni potenza di 9 si ripetono con periodicità pari a 10, di ogni esponente precedente mi serve dunque solo propagare l'ultima cifra significativa.\n",
    "\n",
    "[Indice](#index)"
   ]
  },
  {
   "cell_type": "code",
   "execution_count": 18,
   "id": "alien-offer",
   "metadata": {},
   "outputs": [
    {
     "name": "stdout",
     "output_type": "stream",
     "text": [
      "9^( 0) =                    1  1\n",
      "9^( 1) =                    9  9\n",
      "9^( 2) =                   81 81\n",
      "9^( 3) =                  729 29\n",
      "9^( 4) =                 6561 61\n",
      "9^( 5) =                59049 49\n",
      "9^( 6) =               531441 41\n",
      "9^( 7) =              4782969 69\n",
      "9^( 8) =             43046721 21\n",
      "9^( 9) =            387420489 89\n",
      "9^(10) =           3486784401  1\n",
      "9^(11) =          31381059609  9\n",
      "9^(12) =         282429536481 81\n",
      "9^(13) =        2541865828329 29\n",
      "9^(14) =       22876792454961 61\n",
      "9^(15) =      205891132094649 49\n",
      "9^(16) =     1853020188851841 41\n",
      "9^(17) =    16677181699666569 69\n",
      "9^(18) =   150094635296999121 21\n",
      "9^(19) =  1350851717672992089 89\n",
      "9^(20) = 12157665459056928801  1\n"
     ]
    }
   ],
   "source": [
    "a = 9\n",
    "for n in range(0,21): # powers from 0 to 20\n",
    "    #digits = int(str(a**n)[-2:])\n",
    "    digits = a**n % 100\n",
    "    print(\"{:d}^({:2d}) = {:20d} {:2d}\".format(a,n,a**n,digits))"
   ]
  },
  {
   "cell_type": "markdown",
   "id": "distinguished-prefix",
   "metadata": {},
   "source": [
    "Osservo anche che l'ultima cifra di ogni potenza delle altre basi 2-8 si ripete con periodicità uguale o inferiore a 10, per cui mi basta propagare solo la cifra meno significativa del risultato dell'esponenziazione precedente.\n",
    "\n",
    "Partendo da questa osservazione, posso salvare i pattern delle ultime due cifre delle potenza di ogni base tra 1 e 9 per ogni esponente tra 0 e 9 (anche se per 2-8 mi basterebbe solo l'ultima!), e poi propagare soltanto le potenze dell'ultima cifra del risultato precedente:"
   ]
  },
  {
   "cell_type": "code",
   "execution_count": 19,
   "id": "central-better",
   "metadata": {},
   "outputs": [
    {
     "name": "stdout",
     "output_type": "stream",
     "text": [
      "2^(...1) = ...2\n",
      "3^(...2) = ...9\n",
      "4^(...9) = ...44\n",
      "5^(...4) = ...25\n",
      "6^(...5) = ...76\n",
      "7^(...6) = ...49\n",
      "8^(...9) = ...28\n",
      "9^(...8) = ...21\n"
     ]
    }
   ],
   "source": [
    "a = 1\n",
    "for n in range(2,10):\n",
    "    nn = str(n**a)[-2:]\n",
    "    print(\"{}^(...{}) = ...{}\".format(n,a,nn))\n",
    "    a = int(nn[-1])"
   ]
  },
  {
   "cell_type": "markdown",
   "id": "uniform-hopkins",
   "metadata": {},
   "source": [
    "## 11. La torre di potenze II  <a class=\"anchor\" id=\"prob11\"></a>\n",
    "\n",
    "https://www.rimosco.it/picalendar/index.php?a=problem&p=17\n",
    "\n",
    "> $98^{97^{96^{95^{...^{4^{3^{2^1}}}}}}}$ è un numero molto grande. Quali sono le sue ultime due cifre?\n",
    "\n",
    "Considerando le basi da 98 in giù, i pattern delle ultime due cifre delle possibili potenze si ripetono come già per le basi da 9 a 2, ma con una **periodicità a volte più grande di 10**. Siccome la periodicità delle ultime due cifre non può essere superiore a 100 la soluzione del problema precedente funziona a patto di propagare le ultime 2 cifre di ogni potenza, che di fatto corrisponde a farne il **modulo 100**.\n",
    "\n",
    "Posso ulteriormente semplificare il problema cercando una base per cui le ultime due cifre si ripetano con una periodicità pari a 1 (i.e. sempre le stesse), e, nel caso la periodicità segua alcuni elementi non periodici, verificando che l'esponente precedente sia più grande di queste cifre (ovvio se la base è grande e all'inizio della \"torre\").\n",
    "\n",
    "Nel caso specifico questa base è 90, la cui periodicità delle 2 cifre 00 inizia dall'esponente 2. Visto inoltre che la periodictà delle potenze di 91 è 10 con nessun elemento precedente, posso anche semplicemente partire dall'esponente esponente 0 per 91, visto che l'unica cifra significativa dell'esponente di 91 che che conta è l'ultima, ed è sempre 0 per tutte le potenze di 90 esclusa $90^0$ (che non può verificarsi nel problema in questione).\n",
    "\n",
    "[Indice](#index)"
   ]
  },
  {
   "cell_type": "code",
   "execution_count": 20,
   "id": "retained-allah",
   "metadata": {},
   "outputs": [
    {
     "name": "stdout",
     "output_type": "stream",
     "text": [
      "Base 98: power last 2 digits pattern cycle = 20 after 2 elements\n",
      "Base 97: power last 2 digits pattern cycle = 20 after 0 elements\n",
      "Base 96: power last 2 digits pattern cycle =  5 after 1 elements\n",
      "Base 95: power last 2 digits pattern cycle =  2 after 2 elements\n",
      "Base 94: power last 2 digits pattern cycle = 10 after 2 elements\n",
      "Base 93: power last 2 digits pattern cycle =  4 after 0 elements\n",
      "Base 92: power last 2 digits pattern cycle = 20 after 1 elements\n",
      "Base 91: power last 2 digits pattern cycle = 10 after 0 elements\n",
      "Base 90: power last 2 digits pattern cycle =  1 after 2 elements\n",
      "Found base with periodicity 1!\n"
     ]
    }
   ],
   "source": [
    "for a in range(98,1,-1):\n",
    "    n = 0\n",
    "    digits = []\n",
    "    while True:\n",
    "        pow_a_n = a**n % 100\n",
    "        if pow_a_n in digits:\n",
    "            print(\"Base {:2d}: power last 2 digits pattern cycle = {:2d} after {:d} elements\".format(a,len(digits)-digits.index(pow_a_n),digits.index(pow_a_n)))\n",
    "            break \n",
    "        digits.append(pow_a_n)\n",
    "        n += 1\n",
    "    if len(digits)-digits.index(pow_a_n)==1:\n",
    "        print(\"Found base with periodicity 1!\")\n",
    "        break"
   ]
  },
  {
   "cell_type": "markdown",
   "id": "radical-controversy",
   "metadata": {},
   "source": [
    "### Soluzione \"estesa\"\n",
    "\n",
    "Modifica della soluzione del problema 10 per tenere in conto le ultime due cifre di ogni esponenziazione:"
   ]
  },
  {
   "cell_type": "code",
   "execution_count": 21,
   "id": "republican-prague",
   "metadata": {},
   "outputs": [
    {
     "name": "stdout",
     "output_type": "stream",
     "text": [
      " 2^(... 1) = ... 2\n",
      " 3^(... 2) = ... 9\n",
      " 4^(... 9) = ...44\n",
      " 5^(...44) = ...25\n",
      " 6^(...25) = ...76\n",
      " 7^(...76) = ... 1\n",
      " 8^(... 1) = ... 8\n",
      " 9^(... 8) = ...21\n",
      "10^(...21) = ... 0\n",
      "11^(... 0) = ... 1\n",
      "12^(... 1) = ...12\n",
      "13^(...12) = ...81\n",
      "14^(...81) = ...64\n",
      "15^(...64) = ...25\n",
      "16^(...25) = ...76\n",
      "17^(...76) = ...81\n",
      "18^(...81) = ...68\n",
      "19^(...68) = ...41\n",
      "20^(...41) = ... 0\n",
      "21^(... 0) = ... 1\n",
      "22^(... 1) = ...22\n",
      "23^(...22) = ...29\n",
      "24^(...29) = ...24\n",
      "25^(...24) = ...25\n",
      "26^(...25) = ...76\n",
      "27^(...76) = ...61\n",
      "28^(...61) = ...28\n",
      "29^(...28) = ...61\n",
      "30^(...61) = ... 0\n",
      "31^(... 0) = ... 1\n",
      "32^(... 1) = ...32\n",
      "33^(...32) = ...61\n",
      "34^(...61) = ...84\n",
      "35^(...84) = ...25\n",
      "36^(...25) = ...76\n",
      "37^(...76) = ...41\n",
      "38^(...41) = ...88\n",
      "39^(...88) = ...81\n",
      "40^(...81) = ... 0\n",
      "41^(... 0) = ... 1\n",
      "42^(... 1) = ...42\n",
      "43^(...42) = ...49\n",
      "44^(...49) = ... 4\n",
      "45^(... 4) = ...25\n",
      "46^(...25) = ...76\n",
      "47^(...76) = ...21\n",
      "48^(...21) = ...48\n",
      "49^(...48) = ... 1\n",
      "50^(... 1) = ...50\n",
      "51^(...50) = ... 1\n",
      "52^(... 1) = ...52\n",
      "53^(...52) = ...41\n",
      "54^(...41) = ... 4\n",
      "55^(... 4) = ...25\n",
      "56^(...25) = ...76\n",
      "57^(...76) = ... 1\n",
      "58^(... 1) = ...58\n",
      "59^(...58) = ...21\n",
      "60^(...21) = ... 0\n",
      "61^(... 0) = ... 1\n",
      "62^(... 1) = ...62\n",
      "63^(...62) = ...69\n",
      "64^(...69) = ...84\n",
      "65^(...84) = ...25\n",
      "66^(...25) = ...76\n",
      "67^(...76) = ...81\n",
      "68^(...81) = ...68\n",
      "69^(...68) = ...41\n",
      "70^(...41) = ... 0\n",
      "71^(... 0) = ... 1\n",
      "72^(... 1) = ...72\n",
      "73^(...72) = ...21\n",
      "74^(...21) = ...24\n",
      "75^(...24) = ...25\n",
      "76^(...25) = ...76\n",
      "77^(...76) = ...61\n",
      "78^(...61) = ...28\n",
      "79^(...28) = ...61\n",
      "80^(...61) = ... 0\n",
      "81^(... 0) = ... 1\n",
      "82^(... 1) = ...82\n",
      "83^(...82) = ...89\n",
      "84^(...89) = ...64\n",
      "85^(...64) = ...25\n",
      "86^(...25) = ...76\n",
      "87^(...76) = ...41\n",
      "88^(...41) = ...88\n",
      "89^(...88) = ...81\n",
      "90^(...81) = ... 0\n",
      "91^(... 0) = ... 1\n",
      "92^(... 1) = ...92\n",
      "93^(...92) = ... 1\n",
      "94^(... 1) = ...94\n",
      "95^(...94) = ...25\n",
      "96^(...25) = ...76\n",
      "97^(...76) = ...21\n",
      "98^(...21) = ...48\n"
     ]
    }
   ],
   "source": [
    "a = 1\n",
    "for n in range(2,99):\n",
    "    nn = n**a % 100\n",
    "    print(\"{:2d}^(...{:2d}) = ...{:2d}\".format(n,a,nn))\n",
    "    a = nn"
   ]
  },
  {
   "cell_type": "markdown",
   "id": "recorded-gross",
   "metadata": {},
   "source": [
    "### Soluzione \"ottimizzata\"\n",
    "\n",
    "Parto dalla base 91 e con esponente 0, dopo aver osservato che la periodicità delle sue potenze è 10 e dunque dipende solo dall'ultima cifra dell'esponente precedente, e che le potenze di 90 finiscono sempre con 0 tranne quando l'esponente è 0, che è un caso che posso escludere per questo problema!"
   ]
  },
  {
   "cell_type": "code",
   "execution_count": 22,
   "id": "satisfactory-address",
   "metadata": {},
   "outputs": [
    {
     "name": "stdout",
     "output_type": "stream",
     "text": [
      "91^(... 0) = ... 1\n",
      "92^(... 1) = ...92\n",
      "93^(...92) = ... 1\n",
      "94^(... 1) = ...94\n",
      "95^(...94) = ...25\n",
      "96^(...25) = ...76\n",
      "97^(...76) = ...21\n",
      "98^(...21) = ...48\n"
     ]
    }
   ],
   "source": [
    "a = 0 \n",
    "for n in range(91,99):\n",
    "    nn = n**a % 100\n",
    "    print(\"{:2d}^(...{:2d}) = ...{:2d}\".format(n,a,nn))\n",
    "    a = nn"
   ]
  },
  {
   "cell_type": "markdown",
   "id": "basic-entry",
   "metadata": {},
   "source": [
    "## 12. Quadrati accatastati  <a class=\"anchor\" id=\"prob12\"></a>\n",
    "\n",
    "https://www.rimosco.it/picalendar/index.php?a=problem&p=18\n",
    "\n",
    "[Indice](#index)\n",
    "\n",
    "\n",
    "<img src=\"calenPIario/quadrati.png\" alt=\"\" width=\"400\" align=\"center\"/>\n",
    "\n",
    "<img src=\"calenPIario/calenPIario_2022-04-18.jpg\" alt=\"\" width=\"600\" align=\"center\"/>"
   ]
  },
  {
   "cell_type": "markdown",
   "id": "apart-shopper",
   "metadata": {},
   "source": [
    "## 13. Le sei piramidi  <a class=\"anchor\" id=\"prob13\"></a>\n",
    "\n",
    "https://www.rimosco.it/picalendar/index.php?a=problem&p=19\n",
    "\n",
    "> Si sceglie un punto all'interno di un cubo e lo si collega con i suoi sei vertici, formando sei piramidi aventi come basi le facce del cubo. I volumi di cinque delle sei piramidi sono 2, 5, 10, 11 e 14. Qual è il volume della sesta piramide?\n",
    "\n",
    "Volume piramide: $V = \\frac{1}{3} Bh$ ($B$ = base, $h$ = altezza)\n",
    "\n",
    "Ovunque sia piazzato il punto all'interno del cubo, la somma dei volumi di due piramide opposte è sempre:\n",
    "\n",
    "$V_1 + V_2 = \\frac{1}{3} B (h_1 + h_2) = \\frac{1}{3} B \\sqrt{B}$\n",
    "\n",
    "dove $B$ è la superficie di una faccia del cubo, $\\sqrt{B} = h_1 + h_2$ il suo lato, e $h_1$ e $h_2$ sono le altezze delle due piramidi.\n",
    "\n",
    "Dati i cinque valori forniti dal problema, devo dunque trovare due coppie la cui somma dia lo stesso risultato:\n",
    "\n",
    "- 2 + 14 = 16\n",
    "- 5 + 11 = 16\n",
    "\n",
    "Mi resta allora il valore 10, dal che deduco che **la sesta piramide deve avere volume 6** (perché 10 + 6 = 16).\n",
    "\n",
    "Il lato del cubo $l = \\sqrt{B}$ può essere calcolato come:\n",
    "\n",
    "$16 = \\frac{1}{3} B \\sqrt{B} \\to 48 = l^3 \\to l = \\sqrt[3]{48} = 2 \\sqrt[3]{6}$\n",
    "\n",
    "[Indice](#index)"
   ]
  },
  {
   "cell_type": "markdown",
   "id": "starting-commons",
   "metadata": {},
   "source": [
    "## 14. Quante combinazioni  <a class=\"anchor\" id=\"prob14\"></a>\n",
    "\n",
    "> Un lucchetto ha la combinazione di 4 cifre, da 0000 a 9999. Sappiamo che la somma delle prime due cifre è uguale alla somma delle altre due. Quante combinazioni soddisfano i requisiti?\n",
    "\n",
    "[Indice](#index)\n",
    "\n",
    "###  Soluzione di forza bruta "
   ]
  },
  {
   "cell_type": "code",
   "execution_count": 23,
   "id": "experienced-lingerie",
   "metadata": {},
   "outputs": [
    {
     "name": "stdout",
     "output_type": "stream",
     "text": [
      "670\n"
     ]
    }
   ],
   "source": [
    "c = 0\n",
    "for i in range(10000):\n",
    "    n = [ int(d) for d in str(i).rjust(4,'0') ]\n",
    "    if n[0]+n[1]==n[2]+n[3]:\n",
    "        c += 1\n",
    "print(c)"
   ]
  },
  {
   "cell_type": "markdown",
   "id": "central-testament",
   "metadata": {},
   "source": [
    "### Soluzione un po' più elegante\n",
    "\n",
    "Costruisco gli insiemi dei numeri tra 00 e 99 la cui somma delle cifre ha lo stesso valore, poi conto per ogni somma le possibili combinazioni che danno vita un numero di 4 cifre che soddisfa l'enunciato del problema, che è pari al quadrato del numero di numeri la cui somma delle cifre ha lo stesso valore (perché valgono tanto le combinazioni con la stessa coppia di numeri ma in posizioni diverse - e.g. 1221 e 2112 - quanto la combinazione che accoppi due volte lo stesso numero -- e.g. 1212)"
   ]
  },
  {
   "cell_type": "code",
   "execution_count": 24,
   "id": "opposed-bankruptcy",
   "metadata": {},
   "outputs": [],
   "source": [
    "from collections import defaultdict\n",
    "\n",
    "digitSum = defaultdict(list)\n",
    "\n",
    "for i in range(100):\n",
    "    s = i//10+i%10\n",
    "    digitSum[s].append(i)"
   ]
  },
  {
   "cell_type": "code",
   "execution_count": 25,
   "id": "alive-myrtle",
   "metadata": {},
   "outputs": [
    {
     "data": {
      "text/plain": [
       "defaultdict(list,\n",
       "            {0: [0],\n",
       "             1: [1, 10],\n",
       "             2: [2, 11, 20],\n",
       "             3: [3, 12, 21, 30],\n",
       "             4: [4, 13, 22, 31, 40],\n",
       "             5: [5, 14, 23, 32, 41, 50],\n",
       "             6: [6, 15, 24, 33, 42, 51, 60],\n",
       "             7: [7, 16, 25, 34, 43, 52, 61, 70],\n",
       "             8: [8, 17, 26, 35, 44, 53, 62, 71, 80],\n",
       "             9: [9, 18, 27, 36, 45, 54, 63, 72, 81, 90],\n",
       "             10: [19, 28, 37, 46, 55, 64, 73, 82, 91],\n",
       "             11: [29, 38, 47, 56, 65, 74, 83, 92],\n",
       "             12: [39, 48, 57, 66, 75, 84, 93],\n",
       "             13: [49, 58, 67, 76, 85, 94],\n",
       "             14: [59, 68, 77, 86, 95],\n",
       "             15: [69, 78, 87, 96],\n",
       "             16: [79, 88, 97],\n",
       "             17: [89, 98],\n",
       "             18: [99]})"
      ]
     },
     "execution_count": 25,
     "metadata": {},
     "output_type": "execute_result"
    }
   ],
   "source": [
    "digitSum"
   ]
  },
  {
   "cell_type": "code",
   "execution_count": 26,
   "id": "manufactured-attribute",
   "metadata": {},
   "outputs": [
    {
     "name": "stdout",
     "output_type": "stream",
     "text": [
      "670\n"
     ]
    }
   ],
   "source": [
    "c = 0\n",
    "for s in digitSum.keys():\n",
    "    l = len(digitSum[s])\n",
    "    c += l*l\n",
    "print(c)"
   ]
  },
  {
   "cell_type": "markdown",
   "id": "about-guitar",
   "metadata": {},
   "source": [
    "### Soluzione analitica\n",
    "\n",
    "Vista la distribuzione dei numeri le somma delle cui cifre da lo stesso risultato, la soluzione può essere riscritta analiticamente come:\n",
    "\n",
    "$\\sum_{i=1}^{10} i^2 + \\sum_{i=1}^{9} i^2 $\n",
    "\n",
    "Siccome:\n",
    "\n",
    "$\\sum_{i=1}^{n} i^2 = \\frac{n(n+1)(2n+1)}{6}$\n",
    "\n",
    "La soluzione analitica è dunque:\n",
    "\n",
    "$\\frac{10 \\cdot 11 \\cdot 21}{6} + \\frac{9 \\cdot 10 \\cdot 19}{6}$"
   ]
  },
  {
   "cell_type": "code",
   "execution_count": 27,
   "id": "fleet-hands",
   "metadata": {},
   "outputs": [
    {
     "data": {
      "text/plain": [
       "670"
      ]
     },
     "execution_count": 27,
     "metadata": {},
     "output_type": "execute_result"
    }
   ],
   "source": [
    "10*11*21//6 + 9*10*19//6"
   ]
  },
  {
   "cell_type": "code",
   "execution_count": 28,
   "id": "finnish-manchester",
   "metadata": {},
   "outputs": [
    {
     "data": {
      "text/plain": [
       "(670, 670)"
      ]
     },
     "execution_count": 28,
     "metadata": {},
     "output_type": "execute_result"
    }
   ],
   "source": [
    "def sumSquare(n):\n",
    "    return n*(n+1)*(2*n+1)//6\n",
    "\n",
    "def sumSquareLoop(n):\n",
    "    s = 0\n",
    "    for i in range(1,n+1):\n",
    "        s += i*i\n",
    "    return s\n",
    "\n",
    "sumSquare(10)+sumSquare(9), sumSquareLoop(10)+sumSquareLoop(9)"
   ]
  },
  {
   "cell_type": "markdown",
   "id": "revised-berkeley",
   "metadata": {},
   "source": [
    "## 15. Tom e Mary  <a class=\"anchor\" id=\"prob15\"></a>\n",
    "\n",
    "> Se sommi il quadrato dell'età di Tom all'età di Mary, ottieni 62. Ma se sommi il quadrato dell'età di Mary all'età di Tom, ottieni 176. Quanto vale la somma dell'età di Tom e dell'età di Mary?\n",
    "\n",
    "### Soluzione \"manuale\"\n",
    "\n",
    "$\\left\\{ \\begin{eqnarray} t^2 + m & = & 62 \\\\ t + m^2 & = & 176 \\\\ \\end{eqnarray} \\right.$\n",
    "\n",
    "Il sistema risulta in un'equazione di quarto grado, per esempio:\n",
    "\n",
    "$(176-m^2)^2 + m = 62 $\n",
    "\n",
    "$m^4 - 352 m^2 + m + 30914 = 0 $\n",
    "\n",
    "che non provo nemmeno a risolvere (e poi, come si risolvono le equazioni di quarto grado? Boh...), visto che delle quattro soluzioni ce ne sono alcune in cui almeno uno tra $m$ e $t$ è negativo, e a me interessano interi positivi visto l'enunciato del problema. Cerco allora \"a mano\" le soluzioni intere positive, considerando che devono verificarsi $t<\\sqrt{62}<8$ e $m<\\sqrt{176}<14$. Rapidamente trovo:\n",
    "\n",
    "$t = 7, m = 13 \\to t+m =20$\n",
    "\n",
    "### Soluzione di forza bruta per soluzioni intere positive"
   ]
  },
  {
   "cell_type": "code",
   "execution_count": 29,
   "id": "involved-convertible",
   "metadata": {},
   "outputs": [],
   "source": [
    "def M(t):\n",
    "    return 62 - t*t\n",
    "\n",
    "def T(m):\n",
    "    return 176 - m*m"
   ]
  },
  {
   "cell_type": "code",
   "execution_count": 30,
   "id": "exempt-findings",
   "metadata": {},
   "outputs": [
    {
     "name": "stdout",
     "output_type": "stream",
     "text": [
      "7 13 20\n"
     ]
    }
   ],
   "source": [
    "from math import sqrt \n",
    "\n",
    "for t in range(int(sqrt(62)),0,-1):\n",
    "    for m in range(int(sqrt(176)),0,-1):\n",
    "        if M(t)==m and T(m)==t:\n",
    "            print(t,m,t+m)"
   ]
  },
  {
   "cell_type": "markdown",
   "id": "nominated-speaker",
   "metadata": {},
   "source": [
    "### Soluzioni reali\n",
    "\n",
    "Ci sono altre tre solutioni reali con almeno uno dei valori negativo, che corrispondono alle intersezioni delle due parabole rappresentate della equazioni del sistema:"
   ]
  },
  {
   "cell_type": "code",
   "execution_count": 31,
   "id": "rental-appliance",
   "metadata": {},
   "outputs": [
    {
     "data": {
      "image/png": "[encoded data removed]",
      "text/plain": [
       "<Figure size 600x500 with 1 Axes>"
      ]
     },
     "metadata": {
      "needs_background": "light"
     },
     "output_type": "display_data"
    }
   ],
   "source": [
    "import matplotlib.pyplot as plt\n",
    "import numpy as np\n",
    "\n",
    "m = np.arange(-15.,16.,0.001)\n",
    "\n",
    "plt.figure(figsize=(6,5),dpi=100)\n",
    "\n",
    "plt.plot(m,T(m),'-')\n",
    "plt.plot(M(T(m)),T(m),'-')\n",
    "plt.xlim(-20.,65.)\n",
    "plt.ylim(-30.,190.)\n",
    "\n",
    "plt.xlabel('m')\n",
    "plt.ylabel('t')\n",
    "\n",
    "# find intersection indices\n",
    "idx = np.argwhere(np.diff( np.sign( M(T(m)) - m ) )).flatten() \n",
    "plt.plot(m[idx], T(m)[idx], 'ro')\n",
    "\n",
    "plt.axvline(x=0,color=\"gray\",linestyle=\"--\")\n",
    "plt.axhline(y=0,color=\"gray\",linestyle=\"--\")\n",
    "\n",
    "\n",
    "j = 0\n",
    "for i in idx:\n",
    "    s = \"(m, t)$_{{{}}}$ = ({:7.3f}, {:7.3f})\".format(j+1,round(m[i],3),round(T(m[i]),3))\n",
    "    plt.text(25,150-j*10,s)\n",
    "    j += 1\n",
    "\n",
    "plt.show()"
   ]
  },
  {
   "cell_type": "markdown",
   "id": "talented-mortgage",
   "metadata": {},
   "source": [
    "## 16. Un triangolo dentro a un quadrato  <a class=\"anchor\" id=\"prob16\"></a>\n",
    "\n",
    "https://www.rimosco.it/picalendar/index.php?a=problem&p=22\n",
    "\n",
    "[Indice](#index)\n",
    "\n",
    "<img src=\"calenPIario/trquad.png\" alt=\"\" width=\"300\"/>\n",
    "\n",
    "<img src=\"calenPIario/calenPIario_2022-04-29.jpg\" alt=\"\" width=\"700\" align=\"center\"/>"
   ]
  },
  {
   "cell_type": "markdown",
   "id": "parliamentary-carol",
   "metadata": {},
   "source": [
    "## 17. Un triangolo dentro a un quadrato II  <a class=\"anchor\" id=\"prob17\"></a>\n",
    "\n",
    "> Supponiamo che il lato del quadrato sia lungo 1. Quanto vale il perimetro del triangolo in basso a destra?\n",
    "\n",
    "<img src=\"calenPIario/quad2.png\" alt=\"\" width=\"300\"/>\n",
    "\n",
    "La risposta è banale (vedi lo schema della soluzione del problema precedente): il perimetro del triangolo in basso a destra a è uguale a 2 lati del quadrato!\n",
    "\n",
    "[Indice](#index)"
   ]
  },
  {
   "cell_type": "markdown",
   "id": "killing-holmes",
   "metadata": {},
   "source": [
    "## 18. Anagrammi <a class=\"anchor\" id=\"prob18\"></a>\n",
    "\n",
    "> Quanti sono gli anagrammi (anche privi di significato) della parola PIGRECO in cui non compaiono consonanti in posizioni consecutive?\n",
    "\n",
    "La parola PIGRECO ha 3 vocali (IEO) e 4 consonanti (PGRC). L'unica combinazione di consonanti C e vocali V che soddisfi l'enunciato del problema è:\n",
    "\n",
    "CVCVCVC\n",
    "\n",
    "Devo dunque trovare il numero di permutazioni delle 4 consonanti ($N_C$ = 4! = 24) e delle 3 vocali ($N_V$ = 3! = 6), e la solutione sarà il prodotto $N_C \\times N_V$ :\n",
    "\n",
    "**$N_C \\times N_V$ = 4! $\\times$ 3! = 144.**\n",
    "\n",
    "E adesso un paio di soluzioni di forza bruta solo per il gusto di farle..."
   ]
  },
  {
   "cell_type": "code",
   "execution_count": 32,
   "id": "public-heading",
   "metadata": {
    "scrolled": false
   },
   "outputs": [
    {
     "name": "stdout",
     "output_type": "stream",
     "text": [
      "144 anagrammi di PIGRECO in cui non compaiono consonanti in posizioni consecutive:\n",
      "\n",
      "CEGIPOR  CEGIROP  CEGOPIR  CEGORIP  CEPIGOR  CEPIROG  CEPOGIR  CEPORIG  CERIGOP\n",
      "CERIPOG  CEROGIP  CEROPIG  CIGEPOR  CIGEROP  CIGOPER  CIGOREP  CIPEGOR  CIPEROG\n",
      "CIPOGER  CIPOREG  CIREGOP  CIREPOG  CIROGEP  CIROPEG  COGEPIR  COGERIP  COGIPER\n",
      "COGIREP  COPEGIR  COPERIG  COPIGER  COPIREG  COREGIP  COREPIG  CORIGEP  CORIPEG\n",
      "GECIPOR  GECIROP  GECOPIR  GECORIP  GEPICOR  GEPIROC  GEPOCIR  GEPORIC  GERICOP\n",
      "GERIPOC  GEROCIP  GEROPIC  GICEPOR  GICEROP  GICOPER  GICOREP  GIPECOR  GIPEROC\n",
      "GIPOCER  GIPOREC  GIRECOP  GIREPOC  GIROCEP  GIROPEC  GOCEPIR  GOCERIP  GOCIPER\n",
      "GOCIREP  GOPECIR  GOPERIC  GOPICER  GOPIREC  GORECIP  GOREPIC  GORICEP  GORIPEC\n",
      "PECIGOR  PECIROG  PECOGIR  PECORIG  PEGICOR  PEGIROC  PEGOCIR  PEGORIC  PERICOG\n",
      "PERIGOC  PEROCIG  PEROGIC  PICEGOR  PICEROG  PICOGER  PICOREG  PIGECOR  PIGEROC\n",
      "PIGOCER  PIGOREC  PIRECOG  PIREGOC  PIROCEG  PIROGEC  POCEGIR  POCERIG  POCIGER\n",
      "POCIREG  POGECIR  POGERIC  POGICER  POGIREC  PORECIG  POREGIC  PORICEG  PORIGEC\n",
      "RECIGOP  RECIPOG  RECOGIP  RECOPIG  REGICOP  REGIPOC  REGOCIP  REGOPIC  REPICOG\n",
      "REPIGOC  REPOCIG  REPOGIC  RICEGOP  RICEPOG  RICOGEP  RICOPEG  RIGECOP  RIGEPOC\n",
      "RIGOCEP  RIGOPEC  RIPECOG  RIPEGOC  RIPOCEG  RIPOGEC  ROCEGIP  ROCEPIG  ROCIGEP\n",
      "ROCIPEG  ROGECIP  ROGEPIC  ROGICEP  ROGIPEC  ROPECIG  ROPEGIC  ROPICEG  ROPIGEC\n"
     ]
    }
   ],
   "source": [
    "from itertools import permutations\n",
    "\n",
    "name = \"PIGRECO\"\n",
    "cons = \"PGRC\"\n",
    "\n",
    "goodAnag = []\n",
    "for a in permutations(name,len(name)):\n",
    "    anag = \"\".join(a)\n",
    "    isGoodAnag = True\n",
    "    for i in range(1,len(anag)):\n",
    "        if anag[i] in cons and anag[i-1] in cons:\n",
    "            isGoodAnag = False\n",
    "            break\n",
    "    if isGoodAnag:\n",
    "        goodAnag.append(anag)\n",
    "\n",
    "print(\"{} anagrammi di PIGRECO in cui non compaiono consonanti in posizioni consecutive:\\n\".format(len(goodAnag)))\n",
    "\n",
    "cline = 1\n",
    "for ga in sorted(goodAnag):\n",
    "    if cline%9==0: \n",
    "        print(ga)\n",
    "    else:\n",
    "        print(ga, end=\"  \")\n",
    "    cline +=1"
   ]
  },
  {
   "cell_type": "code",
   "execution_count": 33,
   "id": "hawaiian-merchant",
   "metadata": {},
   "outputs": [
    {
     "name": "stdout",
     "output_type": "stream",
     "text": [
      "144 anagrammi di PIGRECO in cui non compaiono consonanti in posizioni consecutive:\n",
      "\n",
      "CEGIPOR  CEGIROP  CEGOPIR  CEGORIP  CEPIGOR  CEPIROG  CEPOGIR  CEPORIG  CERIGOP\n",
      "CERIPOG  CEROGIP  CEROPIG  CIGEPOR  CIGEROP  CIGOPER  CIGOREP  CIPEGOR  CIPEROG\n",
      "CIPOGER  CIPOREG  CIREGOP  CIREPOG  CIROGEP  CIROPEG  COGEPIR  COGERIP  COGIPER\n",
      "COGIREP  COPEGIR  COPERIG  COPIGER  COPIREG  COREGIP  COREPIG  CORIGEP  CORIPEG\n",
      "GECIPOR  GECIROP  GECOPIR  GECORIP  GEPICOR  GEPIROC  GEPOCIR  GEPORIC  GERICOP\n",
      "GERIPOC  GEROCIP  GEROPIC  GICEPOR  GICEROP  GICOPER  GICOREP  GIPECOR  GIPEROC\n",
      "GIPOCER  GIPOREC  GIRECOP  GIREPOC  GIROCEP  GIROPEC  GOCEPIR  GOCERIP  GOCIPER\n",
      "GOCIREP  GOPECIR  GOPERIC  GOPICER  GOPIREC  GORECIP  GOREPIC  GORICEP  GORIPEC\n",
      "PECIGOR  PECIROG  PECOGIR  PECORIG  PEGICOR  PEGIROC  PEGOCIR  PEGORIC  PERICOG\n",
      "PERIGOC  PEROCIG  PEROGIC  PICEGOR  PICEROG  PICOGER  PICOREG  PIGECOR  PIGEROC\n",
      "PIGOCER  PIGOREC  PIRECOG  PIREGOC  PIROCEG  PIROGEC  POCEGIR  POCERIG  POCIGER\n",
      "POCIREG  POGECIR  POGERIC  POGICER  POGIREC  PORECIG  POREGIC  PORICEG  PORIGEC\n",
      "RECIGOP  RECIPOG  RECOGIP  RECOPIG  REGICOP  REGIPOC  REGOCIP  REGOPIC  REPICOG\n",
      "REPIGOC  REPOCIG  REPOGIC  RICEGOP  RICEPOG  RICOGEP  RICOPEG  RIGECOP  RIGEPOC\n",
      "RIGOCEP  RIGOPEC  RIPECOG  RIPEGOC  RIPOCEG  RIPOGEC  ROCEGIP  ROCEPIG  ROCIGEP\n",
      "ROCIPEG  ROGECIP  ROGEPIC  ROGICEP  ROGIPEC  ROPECIG  ROPEGIC  ROPICEG  ROPIGEC\n"
     ]
    }
   ],
   "source": [
    "from itertools import permutations\n",
    "\n",
    "cons = \"PGRC\"\n",
    "vocs = \"IEO\"\n",
    "\n",
    "goodAnag = [ C[0]+\"\".join([ v+c for v,c in zip(V,C[1:]) ]) \n",
    "            for C in permutations(cons,len(cons)) \n",
    "            for V in permutations(vocs,len(vocs)) ]\n",
    "\n",
    "print(\"{} anagrammi di PIGRECO in cui non compaiono consonanti in posizioni consecutive:\\n\".format(len(goodAnag)))\n",
    "\n",
    "cline = 1\n",
    "for ga in sorted(goodAnag):\n",
    "    if cline%9==0: \n",
    "        print(ga)\n",
    "    else:\n",
    "        print(ga, end=\"  \")\n",
    "    cline +=1"
   ]
  },
  {
   "cell_type": "markdown",
   "id": "average-working",
   "metadata": {},
   "source": [
    "## 19. Il milionario <a class=\"anchor\" id=\"prob19\"></a>\n",
    "\n",
    "https://www.rimosco.it/picalendar/index.php?a=problem&p=25\n",
    "\n",
    "> Un anziano milionario matematico ha deciso di lasciare a ognuno dei suoi eredi una quantità di monete d'oro che sia una potenza di 7 (incluso $7^0$). Inoltre non ci devono essere sette o più persone che ricevono la stessa cifra. Sapendo che il capitale del matematico ammonta a un milione di monete, quanti possono essere, al più, i pretendenti all'eredità?\n",
    "\n",
    "Siccome posso avere fino a 6 persone che ricevono una cifra pari a una potenza di 7, in sostanza il problema mi sta chiedendo di esprimere la cifra 1.000.000 in base 7, e di sommarne le cifre.\n",
    "\n",
    "[Indice](#index)"
   ]
  },
  {
   "cell_type": "code",
   "execution_count": 34,
   "id": "consolidated-scanning",
   "metadata": {},
   "outputs": [],
   "source": [
    "def intToBase(number,newbase):\n",
    "    result = ''\n",
    "    while number:\n",
    "        result += str(number%newbase)\n",
    "        number //= newbase\n",
    "    return result[::-1]"
   ]
  },
  {
   "cell_type": "code",
   "execution_count": 35,
   "id": "literary-attempt",
   "metadata": {},
   "outputs": [
    {
     "data": {
      "text/plain": [
       "'11333311'"
      ]
     },
     "execution_count": 35,
     "metadata": {},
     "output_type": "execute_result"
    }
   ],
   "source": [
    "intToBase(1_000_000,7)"
   ]
  },
  {
   "cell_type": "code",
   "execution_count": 36,
   "id": "robust-genesis",
   "metadata": {},
   "outputs": [
    {
     "name": "stdout",
     "output_type": "stream",
     "text": [
      "16\n"
     ]
    }
   ],
   "source": [
    "print(sum([int(d) for d in intToBase(1_000_000,7)]))"
   ]
  },
  {
   "cell_type": "markdown",
   "id": "portuguese-vermont",
   "metadata": {},
   "source": [
    "## 20. I due cerchi uguali <a class=\"anchor\" id=\"prob20\"></a>\n",
    "\n",
    "https://www.rimosco.it/picalendar/index.php?a=problem&p=16\n",
    "\n",
    "> Il triangolo ha dimensioni 21, 28, 35. Quanto vale il raggio delle circonferenze (che sono uguali)?\n",
    "> (Da un sangaku giapponese)\n",
    "\n",
    "[Indice](#index)\n",
    "\n",
    "<img src=\"calenPIario/sangaku.png\" alt=\"\" width=\"400\"/>\n",
    "\n",
    "<img src=\"calenPIario/calenPIario_2022-05-11.jpg\" alt=\"\" width=\"700\" align=\"center\"/>"
   ]
  },
  {
   "cell_type": "markdown",
   "id": "prescribed-strategy",
   "metadata": {},
   "source": [
    "## 21. Una divisione intera <a class=\"anchor\" id=\"prob21\"></a>\n",
    "\n",
    "https://www.rimosco.it/picalendar/index.php?a=problem&p=27\n",
    "\n",
    "> Per quanti numeri interi la seguente espressione fornisce un numero intero?\n",
    ">\n",
    "> $n/(n−314)$\n",
    "\n",
    "[Indice](#index)\n",
    "\n",
    "**La risposta corretta dovrebbe essere 8, perché a casa mia i __numeri interi__ contengono anche lo 0 e i gli interi negativi!** \n",
    "\n",
    "Posso intanto eliminare gli interi negativi, perché per $n<0$ il denominatore sarà sempre maggiore del numeratore dando un risultato razionale minore di 1. Tra gli interi positivi, $n$ non più essere maggiore di 628 = 2 $\\times$ 314, per cui il risultato è 2. Per valori maggiori il rapporto tende a 1, che ovviamente non viene mai raggiunto per nessun valore intero di $n$:\n",
    "\n",
    "$\\lim_{n\\to \\infty} \\frac{n}{n-314} = 1 $\n",
    "\n",
    "Sono dunque soluzioni intere:"
   ]
  },
  {
   "cell_type": "code",
   "execution_count": 37,
   "id": "anonymous-gateway",
   "metadata": {},
   "outputs": [
    {
     "name": "stdout",
     "output_type": "stream",
     "text": [
      "   0    0\n",
      " 157   -1\n",
      " 312 -156\n",
      " 313 -313\n",
      " 315  315\n",
      " 316  158\n",
      " 471    3\n",
      " 628    2\n",
      "Risultato: 8\n"
     ]
    }
   ],
   "source": [
    "R = []\n",
    "for n in range(0,628+1):\n",
    "    if n!=314:\n",
    "        r = n/(n-314)\n",
    "        if r==n//(n-314):\n",
    "            print(\"{:4d} {:4d}\".format(n,int(r)))\n",
    "            R.append(int(r))\n",
    "print(\"Risultato:\",len(R))"
   ]
  },
  {
   "cell_type": "markdown",
   "id": "brilliant-ladder",
   "metadata": {},
   "source": [
    "**Il sito però dichiara 8 come soluzione errata** , dal che suppongo che implicitamente assumano che le soluzione negative siano da scartare, così come 0 (MA COME!?! VERGOGNA!). In questo caso la risposta \"corretta\" è 4, che il sito considera giusta. "
   ]
  },
  {
   "cell_type": "markdown",
   "id": "sticky-patrick",
   "metadata": {},
   "source": [
    "## 22. Il trapezio <a class=\"anchor\" id=\"prob22\"></a>\n",
    "\n",
    "https://www.rimosco.it/picalendar/index.php?a=problem&p=28\n",
    "\n",
    "> Quanto vale l'area del trapezio?\n",
    "\n",
    "[Indice](#index)\n",
    "\n",
    "<img src=\"calenPIario/trapezio.png\" alt=\"\" width=\"400\"/>\n",
    "\n",
    "<img src=\"calenPIario/calenPIario_2022-05-17.jpg\" alt=\"\" width=\"700\" align=\"center\"/>\n",
    "\n",
    "La soluzione proposta qui sotto non viene accettata come valida, ma sospetto di nuovo un **triste e grossolano errore** del sito (come conferma Zar su frenf.it)\n",
    "\n",
    "[Indice](#index)"
   ]
  },
  {
   "cell_type": "markdown",
   "id": "outer-writing",
   "metadata": {},
   "source": [
    "## 23. Triangolo dentro triangolo <a class=\"anchor\" id=\"prob23\"></a>\n",
    "\n",
    "https://www.rimosco.it/picalendar/index.php?a=problem&p=29\n",
    "\n",
    "> L'area del triangolo grande vale 65940. Quanto vale l'area del triangolo piccolo, colorato in blu?\n",
    "\n",
    "[Indice](#index)\n",
    "\n",
    "<img src=\"calenPIario/rapportoaree.png\" alt=\"\" width=\"400\"/>\n",
    "\n",
    "<img src=\"calenPIario/calenPIario_2022-05-20.jpg\" alt=\"\" width=\"600\" align=\"center\"/>"
   ]
  },
  {
   "cell_type": "markdown",
   "id": "incorrect-journalist",
   "metadata": {},
   "source": [
    "## 24. I numeri strani <a class=\"anchor\" id=\"prob24\"></a>\n",
    "\n",
    "https://www.rimosco.it/picalendar/index.php?a=problem&p=30\n",
    "\n",
    "> Scriviamo i numeri naturali in base 10 e definiamo i numeri strani con la seguente legge:\n",
    "> - Un numero di una sola cifra è strano se e solo se è primo.\n",
    "> - Un numero primo di almeno due cifre è strano se e solo se sono strani i due numeri ottenuto sopprimendo da esso una volta la prima e una volta l'ultima cifra.\n",
    "> Trovare tutti i numeri strani, e fornire come risposta il numero che si ottiene accostando tutti i numeri strani ordinati in ordine crescente.\n",
    "\n",
    "[Indice](#index)\n",
    "\n",
    "Soluzione: parto dai numeri primi da 1 cifra (2,3,5,7) e costruisco i numeri strani in maniera iterativa, fermandomi quando non riesco a costruirne di più lunghi. Osservo che **non esistono numeri strani con più di tre cifre** (il che vuol dire che avrei potuto risolvere il problema a mano!)."
   ]
  },
  {
   "cell_type": "code",
   "execution_count": 38,
   "id": "descending-helen",
   "metadata": {},
   "outputs": [],
   "source": [
    "def isPrime(n):\n",
    "    if n == 1:\n",
    "        return False\n",
    "    i = 2\n",
    "    # loop from 2 to int(sqrt(x))\n",
    "    while i*i <= n:\n",
    "        # Check if i divides x without leaving a remainder\n",
    "        if n % i == 0:\n",
    "            # n has a factor in between 2 and sqrt(n), so it is not a prime\n",
    "            return False\n",
    "        i += 1\n",
    "    return True"
   ]
  },
  {
   "cell_type": "code",
   "execution_count": 39,
   "id": "resident-radical",
   "metadata": {},
   "outputs": [
    {
     "name": "stdout",
     "output_type": "stream",
     "text": [
      "[2, 3, 5, 7]\n",
      "[2, 3, 5, 7, 23, 37, 53, 73]\n",
      "[2, 3, 5, 7, 23, 37, 53, 73, 373]\n",
      "235723375373373\n"
     ]
    }
   ],
   "source": [
    "strange1 = [2,3,5,7]\n",
    "strange = list(strange1)\n",
    "\n",
    "def isStrange(n):\n",
    "    if len(str(n))==1:\n",
    "        if n in strange:\n",
    "            return True\n",
    "        else:\n",
    "            return False\n",
    "    else:\n",
    "        return isPrime(n) and isStrange(int(str(n)[1:])) and isStrange(int(str(n)[:-1]))\n",
    "\n",
    "while True:\n",
    "    print(strange)\n",
    "    newstrange = list(strange)\n",
    "    for s in strange:\n",
    "        for s1 in strange1:\n",
    "            for p in [ int(\"\".join([ str(s), str(s1) ])), int(\"\".join([ str(s1), str(s) ])) ]:\n",
    "                if isStrange(p) and p not in newstrange:\n",
    "                    newstrange.append(p)\n",
    "    newstrange = sorted(newstrange)\n",
    "    if len(newstrange)==len(strange):\n",
    "        break\n",
    "    else:\n",
    "        strange = list(newstrange)\n",
    "\n",
    "print(\"\".join([str(n) for n in strange]))"
   ]
  },
  {
   "cell_type": "markdown",
   "id": "exempt-copper",
   "metadata": {},
   "source": [
    "## 25. Poligoni regolari <a class=\"anchor\" id=\"prob25\"></a>\n",
    "\n",
    "https://www.rimosco.it/picalendar/index.php?a=problem&p=31\n",
    "\n",
    "> Quanti sono i poligoni regolari (di almeno 3 lati) aventi gli angoli interni che misurano un numero intero di gradi sessagesimali?\n",
    "\n",
    "[Indice](#index)\n",
    "\n",
    "L'angolo di un poligono regolare on $n$ lati vale:\n",
    "\n",
    "$\\alpha = \\frac{n-2}{n} 180^{\\mathrm{o}}$"
   ]
  },
  {
   "cell_type": "code",
   "execution_count": 40,
   "id": "southeast-cathedral",
   "metadata": {},
   "outputs": [
    {
     "name": "stdout",
     "output_type": "stream",
     "text": [
      "  n alpha\n",
      "  3    60\n",
      "  4    90\n",
      "  5   108\n",
      "  6   120\n",
      "  8   135\n",
      "  9   140\n",
      " 10   144\n",
      " 12   150\n",
      " 15   156\n",
      " 18   160\n",
      " 20   162\n",
      " 24   165\n",
      " 30   168\n",
      " 36   170\n",
      " 40   171\n",
      " 45   172\n",
      " 60   174\n",
      " 72   175\n",
      " 90   176\n",
      "120   177\n",
      "180   178\n",
      "360   179\n",
      "Risposta = 22\n"
     ]
    }
   ],
   "source": [
    "c = 0\n",
    "print(\"  n alpha\")\n",
    "for n in range(3,10000):\n",
    "    a = ((n-2)/n)*180\n",
    "    if a-int(a)==0:\n",
    "        print(\"{:3d} {:5d}\".format(n,int(a)))\n",
    "        c+=1\n",
    "print(\"Risposta =\",c)"
   ]
  },
  {
   "cell_type": "markdown",
   "id": "powerful-phase",
   "metadata": {},
   "source": [
    "Posso anche trovare la risposa \"a mano\":\n",
    "\n",
    "$\\alpha = \\frac{(n-2)}{n} 180 = (n-2)\\frac{180}{n}$\n",
    "\n",
    "Soluzioni intere sarano i **divisori interi di 180**, e anche quei valori di $n$ **pari** per cui il rapporto $\\frac{180}{n}$ risulti in un numero $k$ **la cui parte decimale è 0.5**, perché in questo caso $n-2$ è ancora pari, e **$(n-2)k$ è intero**."
   ]
  },
  {
   "cell_type": "code",
   "execution_count": 41,
   "id": "postal-southeast",
   "metadata": {},
   "outputs": [
    {
     "data": {
      "text/plain": [
       "22"
      ]
     },
     "execution_count": 41,
     "metadata": {},
     "output_type": "execute_result"
    }
   ],
   "source": [
    "nsides = [ n for n in range(3,360+1) if 180%n==0 or 180/n-180//n==0.5 ]\n",
    "len(nsides)"
   ]
  },
  {
   "cell_type": "code",
   "execution_count": 42,
   "id": "suburban-glance",
   "metadata": {},
   "outputs": [
    {
     "data": {
      "text/plain": [
       "[3, 4, 5, 6, 9, 10, 12, 15, 18, 20, 30, 36, 45, 60, 90, 180]"
      ]
     },
     "execution_count": 42,
     "metadata": {},
     "output_type": "execute_result"
    }
   ],
   "source": [
    "divs_int = [ n for n in range(3,360+1) if 180%n==0 ]\n",
    "divs_int"
   ]
  },
  {
   "cell_type": "code",
   "execution_count": 43,
   "id": "indonesian-junior",
   "metadata": {},
   "outputs": [
    {
     "data": {
      "text/plain": [
       "[8, 24, 40, 72, 120, 360]"
      ]
     },
     "execution_count": 43,
     "metadata": {},
     "output_type": "execute_result"
    }
   ],
   "source": [
    "divs_half = [ n for n in range(3,360+1) if 180/n-180//n==0.5 ]\n",
    "divs_half"
   ]
  },
  {
   "cell_type": "markdown",
   "id": "raising-waste",
   "metadata": {},
   "source": [
    "Su suggerimento di Zar, un approccio decisamente più elegante è:\n",
    "\n",
    "$\\alpha = \\frac{(n-2)}{n} 180 = 180 - \\frac{2}{n} 180 = = 180 - \\frac{360}{n}$\n",
    "\n",
    "Per trovare le soluzione intere mi basta dunque cercare i **divisori interi di 360**:"
   ]
  },
  {
   "cell_type": "code",
   "execution_count": 44,
   "id": "analyzed-vector",
   "metadata": {},
   "outputs": [
    {
     "data": {
      "text/plain": [
       "22"
      ]
     },
     "execution_count": 44,
     "metadata": {},
     "output_type": "execute_result"
    }
   ],
   "source": [
    "nsides = [ n for n in range(3,360+1) if 360%n==0 ]\n",
    "len(nsides)"
   ]
  },
  {
   "cell_type": "markdown",
   "id": "breeding-construction",
   "metadata": {},
   "source": [
    "## 26. Numeri con tanti divisori <a class=\"anchor\" id=\"prob26\"></a>\n",
    "\n",
    "https://www.rimosco.it/picalendar/index.php?a=problem&p=32\n",
    "\n",
    "[Indice](#index)\n",
    "\n",
    "> Qual è il più piccolo numero con 100 divisori?\n",
    "\n",
    "### Brute-force con _sympy_"
   ]
  },
  {
   "cell_type": "code",
   "execution_count": 45,
   "id": "fitted-chapter",
   "metadata": {},
   "outputs": [
    {
     "name": "stdout",
     "output_type": "stream",
     "text": [
      "45360\n"
     ]
    }
   ],
   "source": [
    "from sympy import divisors\n",
    "\n",
    "n = 1\n",
    "while True:\n",
    "    divs = divisors(n)\n",
    "    if len(divs)==100:\n",
    "        print(n)\n",
    "        break\n",
    "    n += 1"
   ]
  },
  {
   "cell_type": "markdown",
   "id": "enhanced-horizontal",
   "metadata": {},
   "source": [
    "### Brute-force con una funzione per trovare tutti i divisori di un numero\n",
    "\n",
    "Inizio col cercare i fattori primi del numero in questione, poi applico l'idea che i fattori di ogni divisore di un numero devono essere un sottoinsieme dei fattori del numero stesso, per cui posso calcolarne i divisori trovando tutte le combinazioni possibili dei suoi fattori primi. \n",
    "\n",
    "La mia soluzione è meno efficiente di quella di sympy se uso la funzione `factor(n)` implementato in precedenza, ma **migliora parecchio se la modifico usando `yield` invece che salvare e restituire la lista completa**:"
   ]
  },
  {
   "cell_type": "code",
   "execution_count": 49,
   "id": "nuclear-lindsay",
   "metadata": {},
   "outputs": [],
   "source": [
    "from collections import Counter\n",
    "from itertools import product\n",
    "from functools import reduce\n",
    "from operator import mul\n",
    "\n",
    "def yieldFactors(n):\n",
    "    i = 2\n",
    "    while i*i<=n:\n",
    "        if n%i == 0:\n",
    "            n/=i\n",
    "            yield i\n",
    "        else:\n",
    "            i+=1\n",
    "    if n>1:\n",
    "        yield int(n)\n",
    "\n",
    "def findDivisors(n):\n",
    "    if n==1:\n",
    "        return [1]\n",
    "    # get prime factors\n",
    "    f = yieldFactors(n)\n",
    "    # count factor multiplicity\n",
    "    fmult = Counter(f)\n",
    "    # compute all allowed powers of factors\n",
    "    powers = [ [f**i for i in range(c+1)] for f,c in fmult.items() ]\n",
    "    # return all possible combinations of factor powers    \n",
    "    return sorted([ int( reduce(mul,it,1) ) for it in [ pp for pp in product(*powers) ]])\n",
    "\n",
    "def countDivisors(n):\n",
    "    return reduce( mul, [ ei+1 for ei in Counter(yieldFactors(n)).values() ], 1 )"
   ]
  },
  {
   "cell_type": "code",
   "execution_count": 47,
   "id": "collectible-capital",
   "metadata": {},
   "outputs": [
    {
     "name": "stdout",
     "output_type": "stream",
     "text": [
      "45360\n"
     ]
    }
   ],
   "source": [
    "n = 1\n",
    "while True:\n",
    "    #ndivs = len(findDivisors(n))\n",
    "    ndivs = countDivisors(n)\n",
    "    if ndivs==100:\n",
    "        print(n)\n",
    "        break\n",
    "    n += 1"
   ]
  },
  {
   "cell_type": "markdown",
   "id": "responsible-johnston",
   "metadata": {},
   "source": [
    "### Soluzione usando la funzione $d(n)$\n",
    "\n",
    "Posso anche risolvere osservando che, se un numero è esprimibile come:\n",
    "\n",
    "$n = \\Pi_i f_i^{e_i}$\n",
    "\n",
    "dove $f_i$ sono i fattori primi del numero, e $e_i$ le loro relative potenze, allora il numero di divisori di $n$ è:\n",
    "\n",
    "$d(n) = \\Pi_i (e_i+1)$\n",
    "\n",
    "(vedi per esempio [qui](https://en.wikipedia.org/wiki/Divisor_function#Formulas_at_prime_powers)).\n",
    "\n",
    "Posso allora partire dai fattori di 100 per calcolare gli esponenti $e_i$:"
   ]
  },
  {
   "cell_type": "code",
   "execution_count": 4,
   "id": "annual-sally",
   "metadata": {},
   "outputs": [
    {
     "data": {
      "text/plain": [
       "[1, 1, 4, 4]"
      ]
     },
     "execution_count": 4,
     "metadata": {},
     "output_type": "execute_result"
    }
   ],
   "source": [
    "ei = [ e-1 for e in yieldFactors(100) ]\n",
    "ei"
   ]
  },
  {
   "cell_type": "markdown",
   "id": "neutral-valuation",
   "metadata": {},
   "source": [
    "e comporre il minimo numero con 100 divisori usando i primi fattori primi, e assegnando quelli più piccoli ai fattori $e_i$ più grandi:"
   ]
  },
  {
   "cell_type": "code",
   "execution_count": 5,
   "id": "wrong-luxury",
   "metadata": {},
   "outputs": [
    {
     "data": {
      "text/plain": [
       "45360"
      ]
     },
     "execution_count": 5,
     "metadata": {},
     "output_type": "execute_result"
    }
   ],
   "source": [
    "from functools import reduce\n",
    "from operator import mul\n",
    "\n",
    "fi = [2,3,5,7]\n",
    "\n",
    "reduce(mul, [ f**e for f,e in zip(fi,ei[::-1]) ] , 1)    "
   ]
  },
  {
   "cell_type": "markdown",
   "id": "revolutionary-restaurant",
   "metadata": {},
   "source": [
    "### Generica funzione per calcolare il più piccolo numero con $N$ divisori"
   ]
  },
  {
   "cell_type": "code",
   "execution_count": 42,
   "id": "random-frost",
   "metadata": {},
   "outputs": [],
   "source": [
    "def generatePrimes():\n",
    "    \"\"\" Generate an infinite sequence of prime numbers.\"\"\"\n",
    "    D = {}\n",
    "    q = 2\n",
    "    while True:\n",
    "        if q not in D:\n",
    "            yield q\n",
    "            D[q * q] = [q]\n",
    "        else:\n",
    "            for p in D[q]:\n",
    "                D.setdefault(p + q, []).append(p)\n",
    "            del D[q]\n",
    "        q += 1\n",
    "\n",
    "def smallestNdivisors(N):\n",
    "    '''Return smallest number with N divisors'''\n",
    "    return reduce(mul, [ f**e for f,e in zip( generatePrimes(), [ e-1 for e in yieldFactors(N) ][::-1] ) ] , 1)  "
   ]
  },
  {
   "cell_type": "code",
   "execution_count": 43,
   "id": "suited-thomas",
   "metadata": {},
   "outputs": [
    {
     "data": {
      "text/plain": [
       "45360"
      ]
     },
     "execution_count": 43,
     "metadata": {},
     "output_type": "execute_result"
    }
   ],
   "source": [
    "smallestNdivisors(100)"
   ]
  },
  {
   "cell_type": "code",
   "execution_count": 44,
   "id": "popular-landing",
   "metadata": {},
   "outputs": [
    {
     "data": {
      "text/plain": [
       "810810000"
      ]
     },
     "execution_count": 44,
     "metadata": {},
     "output_type": "execute_result"
    }
   ],
   "source": [
    "smallestNdivisors(1000)"
   ]
  },
  {
   "cell_type": "code",
   "execution_count": 45,
   "id": "numeric-freeze",
   "metadata": {},
   "outputs": [
    {
     "data": {
      "text/plain": [
       "200961610708938459249870000"
      ]
     },
     "execution_count": 45,
     "metadata": {},
     "output_type": "execute_result"
    }
   ],
   "source": [
    "smallestNdivisors(1_000_000)"
   ]
  },
  {
   "cell_type": "markdown",
   "id": "comparable-prayer",
   "metadata": {},
   "source": [
    "### Plot  della funzione del numero di divisori $d(n)$"
   ]
  },
  {
   "cell_type": "code",
   "execution_count": 48,
   "id": "designed-partner",
   "metadata": {},
   "outputs": [
    {
     "data": {
      "text/plain": [
       "[<matplotlib.lines.Line2D at 0x1116687f0>]"
      ]
     },
     "execution_count": 48,
     "metadata": {},
     "output_type": "execute_result"
    },
    {
     "data": {
      "image/png": "[encoded data removed]",
      "text/plain": [
       "<Figure size 800x600 with 1 Axes>"
      ]
     },
     "metadata": {
      "needs_background": "light"
     },
     "output_type": "display_data"
    }
   ],
   "source": [
    "import numpy as np\n",
    "import matplotlib.pyplot as plt\n",
    "\n",
    "d = np.vectorize(countDivisors)\n",
    "n = np.arange(1,1000,1)\n",
    "\n",
    "plt.figure(figsize=(8,6),dpi=100)\n",
    "plt.xlabel('n')\n",
    "plt.ylabel('d(n)')\n",
    "plt.plot(n,d(n),'r.')"
   ]
  },
  {
   "cell_type": "code",
   "execution_count": null,
   "id": "german-clearance",
   "metadata": {},
   "outputs": [],
   "source": []
  }
 ],
 "metadata": {
  "kernelspec": {
   "display_name": "Python 3",
   "language": "python",
   "name": "python3"
  },
  "language_info": {
   "codemirror_mode": {
    "name": "ipython",
    "version": 3
   },
   "file_extension": ".py",
   "mimetype": "text/x-python",
   "name": "python",
   "nbconvert_exporter": "python",
   "pygments_lexer": "ipython3",
   "version": "3.9.13"
  }
 },
 "nbformat": 4,
 "nbformat_minor": 5
}
