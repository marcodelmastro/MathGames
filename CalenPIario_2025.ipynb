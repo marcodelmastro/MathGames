{
 "cells": [
  {
   "cell_type": "markdown",
   "id": "bfed01f9-0c95-41c5-8c51-932d12048a42",
   "metadata": {},
   "source": [
    "## 8. Un duro lavoro\n",
    "\n",
    "Il tuo compito è di dividere una pila di n oggetti in pile da 1 solo oggetto. Ogni volta puoi dividere una pila in due parti, e vieni pagato una quantità di dobloni uguale al prodotto delle dimensioni delle due pile che hai appena creato. Per esempio, se n=8, puoi fare una prima suddivisione ottenendo una pila da 5 e una pila da 3, e per questo vieni pagato 15 dobloni. Poi puoi dividere la pila da 5 in una da 2 e una da 3, e vieni pagati altri 6 dobloni. Poi le due pile da 3 possono essere divise in una da 1 e una da 2 ciascuna (e quindi tu guadagni per due volte altri 2 dobloni) e infine le tre pile da 2 possono essere ulteriomente divise (facendoti guadagnare altri 3 dobloni). In totale dunque hai guadagnato 28 dobloni.\n",
    "Quanto puoi guadagnare al massimo se hai una pila da 2025 oggetti?\n",
    "\n",
    "https://www.calenpiario.it/index.php?a=problem&p=142"
   ]
  },
  {
   "cell_type": "code",
   "execution_count": 10,
   "id": "15e240eb-3eff-4d60-a1d0-13ac4fdc4c63",
   "metadata": {},
   "outputs": [
    {
     "name": "stdout",
     "output_type": "stream",
     "text": [
      "28\n",
      "2049300\n"
     ]
    }
   ],
   "source": [
    "from queue import Queue\n",
    "\n",
    "def pilegains(n):\n",
    "    piles = Queue()\n",
    "    piles.put(n)\n",
    "    gains = 0\n",
    "    while not piles.empty():\n",
    "        p = piles.get()\n",
    "        p1 = p//2\n",
    "        p2 = p-p1\n",
    "        gains += p1*p2\n",
    "        if p1>1:\n",
    "            piles.put(p1)\n",
    "        if p2>1:\n",
    "            piles.put(p2)\n",
    "    return gains\n",
    "\n",
    "print(pilegains(8))\n",
    "print(pilegains(2025))"
   ]
  },
  {
   "cell_type": "code",
   "execution_count": 6,
   "id": "66590f82-0e7b-43d6-89f3-922bd6f73df3",
   "metadata": {},
   "outputs": [
    {
     "data": {
      "text/plain": [
       "28"
      ]
     },
     "execution_count": 6,
     "metadata": {},
     "output_type": "execute_result"
    }
   ],
   "source": []
  },
  {
   "cell_type": "code",
   "execution_count": 7,
   "id": "2eb49a27-5b14-4e54-a28d-0823cd7f73c2",
   "metadata": {},
   "outputs": [
    {
     "data": {
      "text/plain": [
       "2049300"
      ]
     },
     "execution_count": 7,
     "metadata": {},
     "output_type": "execute_result"
    }
   ],
   "source": []
  },
  {
   "cell_type": "code",
   "execution_count": 46,
   "id": "cb30ecae-4d3f-4d03-a712-9c1ab71de4db",
   "metadata": {},
   "outputs": [
    {
     "data": {
      "text/plain": [
       "26367187500"
      ]
     },
     "execution_count": 46,
     "metadata": {},
     "output_type": "execute_result"
    }
   ],
   "source": [
    "N = 2**2 * 3**3 * 5**(2*2*3)\n",
    "N"
   ]
  },
  {
   "cell_type": "code",
   "execution_count": 51,
   "id": "0c795344-5094-4355-80b2-511a30523060",
   "metadata": {},
   "outputs": [
    {
     "data": {
      "text/plain": [
       "26367187500"
      ]
     },
     "execution_count": 51,
     "metadata": {},
     "output_type": "execute_result"
    }
   ],
   "source": [
    "N = 2**2 * 3**3 * (5**2 * 5**2)**3\n",
    "N"
   ]
  },
  {
   "cell_type": "code",
   "execution_count": 39,
   "id": "ba83ec50-e4e4-45b5-9c2f-525da57a174a",
   "metadata": {},
   "outputs": [
    {
     "data": {
      "text/plain": [
       "180"
      ]
     },
     "execution_count": 39,
     "metadata": {},
     "output_type": "execute_result"
    }
   ],
   "source": [
    "(5**2*3)+100+5"
   ]
  },
  {
   "cell_type": "code",
   "execution_count": null,
   "id": "55016336-5870-4faa-b1be-d12959fd4a81",
   "metadata": {},
   "outputs": [],
   "source": []
  }
 ],
 "metadata": {
  "kernelspec": {
   "display_name": "Python 3 (ipykernel)",
   "language": "python",
   "name": "python3"
  },
  "language_info": {
   "codemirror_mode": {
    "name": "ipython",
    "version": 3
   },
   "file_extension": ".py",
   "mimetype": "text/x-python",
   "name": "python",
   "nbconvert_exporter": "python",
   "pygments_lexer": "ipython3",
   "version": "3.12.9"
  }
 },
 "nbformat": 4,
 "nbformat_minor": 5
}
