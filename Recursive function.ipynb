{
 "cells": [
  {
   "cell_type": "markdown",
   "id": "designed-bowling",
   "metadata": {},
   "source": [
    "$f(f(x))  = 3 x$\n",
    "\n",
    "$f(x+1) > f(x) $"
   ]
  },
  {
   "cell_type": "code",
   "execution_count": 1,
   "id": "ultimate-calvin",
   "metadata": {},
   "outputs": [],
   "source": [
    "# initialize dictionary outside the function to avoid recomputing\n",
    "F = {}\n",
    "F[1] = 2\n",
    "\n",
    "def f(n):\n",
    "    # iterate until function for input value is found\n",
    "    while n not in F.keys():\n",
    "        # compute f(f(x)) for available values\n",
    "        for i in list(F.keys()):\n",
    "            F[F[i]] = 3*i\n",
    "        # fill the gaps for non computable values starting from larger exiting value, assuming f(x+1) > f(x)\n",
    "        for i in range(max(F.keys()),1,-1):\n",
    "            if i not in F.keys():\n",
    "                F[i] = F[i+1]-1\n",
    "    return F[n]"
   ]
  },
  {
   "cell_type": "code",
   "execution_count": 2,
   "id": "described-brain",
   "metadata": {},
   "outputs": [
    {
     "data": {
      "text/plain": [
       "22"
      ]
     },
     "execution_count": 2,
     "metadata": {},
     "output_type": "execute_result"
    }
   ],
   "source": [
    "f(13)"
   ]
  },
  {
   "cell_type": "code",
   "execution_count": 3,
   "id": "parental-inspection",
   "metadata": {},
   "outputs": [
    {
     "data": {
      "text/plain": [
       "3876"
      ]
     },
     "execution_count": 3,
     "metadata": {},
     "output_type": "execute_result"
    }
   ],
   "source": [
    "f(2021)"
   ]
  },
  {
   "cell_type": "code",
   "execution_count": null,
   "id": "scenic-roulette",
   "metadata": {},
   "outputs": [],
   "source": []
  }
 ],
 "metadata": {
  "kernelspec": {
   "display_name": "Python 3",
   "language": "python",
   "name": "python3"
  },
  "language_info": {
   "codemirror_mode": {
    "name": "ipython",
    "version": 3
   },
   "file_extension": ".py",
   "mimetype": "text/x-python",
   "name": "python",
   "nbconvert_exporter": "python",
   "pygments_lexer": "ipython3",
   "version": "3.9.7"
  }
 },
 "nbformat": 4,
 "nbformat_minor": 5
}
