{
 "cells": [
  {
   "cell_type": "markdown",
   "id": "designed-bowling",
   "metadata": {},
   "source": [
    "$f(f(x))  = 3 x$\n",
    "\n",
    "$f(x+1) > f(x) $\n",
    "\n",
    "* $f(1) \\neq 1$ otherwise $f(f(1)) = 1$\n",
    "* $f(1) \\neq 3$ otherwise $f(1) = f(3)$\n",
    "\n",
    "therefore $f(1) = 2$. \n",
    "\n",
    "All other values can be computed following the function definition and \"filling the gaps\" for the non-computable values, implementing $f(x+1) > f(x)$ starting for closest available function value and using $f(i) = f(i+1)-1$, e.g.:\n",
    "\n",
    "* $f(2) = f(f(1)) = 3$\n",
    "* $f(3) = f(f(2)) = 6$\n",
    "* $f(6) = f(f(3)) = 9$\n",
    "\n",
    "therefore\n",
    "\n",
    "* $f(5) = 8$\n",
    "* $f(4) = 7$\n",
    "\n",
    "Rinse and repeat!"
   ]
  },
  {
   "cell_type": "code",
   "execution_count": 1,
   "id": "ultimate-calvin",
   "metadata": {},
   "outputs": [],
   "source": [
    "# initialize dictionary outside the function to avoid recomputing\n",
    "F = {}\n",
    "F[1] = 2\n",
    "\n",
    "def f(n):\n",
    "    # iterate until function for input value is found\n",
    "    while n not in F.keys():\n",
    "        # compute f(f(x)) for available values\n",
    "        for i in list(F.keys()):\n",
    "            F[F[i]] = 3*i\n",
    "        # fill the gaps for non computable values starting from larger exiting value, assuming f(x+1) > f(x)\n",
    "        for i in range(max(F.keys()),1,-1):\n",
    "            if i not in F.keys():\n",
    "                F[i] = F[i+1]-1\n",
    "    return F[n]"
   ]
  },
  {
   "cell_type": "code",
   "execution_count": 2,
   "id": "described-brain",
   "metadata": {},
   "outputs": [
    {
     "data": {
      "text/plain": [
       "22"
      ]
     },
     "execution_count": 2,
     "metadata": {},
     "output_type": "execute_result"
    }
   ],
   "source": [
    "f(13)"
   ]
  },
  {
   "cell_type": "code",
   "execution_count": 3,
   "id": "parental-inspection",
   "metadata": {},
   "outputs": [
    {
     "data": {
      "text/plain": [
       "3876"
      ]
     },
     "execution_count": 3,
     "metadata": {},
     "output_type": "execute_result"
    }
   ],
   "source": [
    "f(2021)"
   ]
  },
  {
   "cell_type": "code",
   "execution_count": 12,
   "id": "scenic-roulette",
   "metadata": {},
   "outputs": [
    {
     "data": {
      "image/png": "[encoded data removed]",
      "text/plain": [
       "<Figure size 576x432 with 1 Axes>"
      ]
     },
     "metadata": {
      "needs_background": "light"
     },
     "output_type": "display_data"
    }
   ],
   "source": [
    "import matplotlib.pyplot as plt\n",
    "import numpy as np\n",
    "\n",
    "#x = np.linspace(1,81,81)\n",
    "n3 = 4\n",
    "x = np.linspace(1,3**n3,3**n3)\n",
    "\n",
    "\n",
    "y = np.array([ f(k) for k in x ] )\n",
    "\n",
    "fig = plt.figure(figsize=(8,6))\n",
    "ax = fig.add_subplot(1, 1, 1)\n",
    "ax.spines['right'].set_color('none')\n",
    "ax.spines['top'].set_color('none')\n",
    "ax.xaxis.set_ticks_position('bottom')\n",
    "ax.yaxis.set_ticks_position('left')\n",
    "ax.set_xlabel('x')\n",
    "ax.set_ylabel('f(x)')\n",
    "\n",
    "plt.plot(x,y, '.r')\n",
    "#plt.show()\n",
    "\n",
    "linear_model = np.polyfit(x,y,1)\n",
    "linear_model_fn = np.poly1d(linear_model)\n",
    "plt.plot(x,linear_model_fn(x),color=\"green\")\n",
    "\n",
    "plt.show()"
   ]
  },
  {
   "cell_type": "code",
   "execution_count": 13,
   "id": "expensive-detective",
   "metadata": {},
   "outputs": [
    {
     "data": {
      "text/plain": [
       "poly1d([ 1.83604336, -3.40123457])"
      ]
     },
     "execution_count": 13,
     "metadata": {},
     "output_type": "execute_result"
    }
   ],
   "source": [
    "linear_model_fn"
   ]
  },
  {
   "cell_type": "code",
   "execution_count": 14,
   "id": "honey-medicare",
   "metadata": {},
   "outputs": [
    {
     "data": {
      "text/plain": [
       "1.7320508075688772"
      ]
     },
     "execution_count": 14,
     "metadata": {},
     "output_type": "execute_result"
    }
   ],
   "source": [
    "np.sqrt(3)"
   ]
  },
  {
   "cell_type": "code",
   "execution_count": null,
   "id": "arabic-brazilian",
   "metadata": {},
   "outputs": [],
   "source": []
  }
 ],
 "metadata": {
  "kernelspec": {
   "display_name": "Python 3",
   "language": "python",
   "name": "python3"
  },
  "language_info": {
   "codemirror_mode": {
    "name": "ipython",
    "version": 3
   },
   "file_extension": ".py",
   "mimetype": "text/x-python",
   "name": "python",
   "nbconvert_exporter": "python",
   "pygments_lexer": "ipython3",
   "version": "3.9.7"
  }
 },
 "nbformat": 4,
 "nbformat_minor": 5
}
