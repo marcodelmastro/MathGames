{
 "cells": [
  {
   "cell_type": "markdown",
   "id": "a9b3ec27",
   "metadata": {},
   "source": [
    "## Quattro volte (21/3/2024)\n",
    "\n",
    "Un numero di sei cifre termina con un 4, e diventa quattro volte più grande se il 4 è spostato all'inizio, come prima cifra. Di che numero si tratta?"
   ]
  },
  {
   "cell_type": "code",
   "execution_count": 38,
   "id": "07dce8ab",
   "metadata": {},
   "outputs": [
    {
     "name": "stdout",
     "output_type": "stream",
     "text": [
      "102564 410256\n"
     ]
    }
   ],
   "source": [
    "for n in range(10000,100000):\n",
    "    m = 10*n+4\n",
    "    k = 400000+n\n",
    "    if 4*m==k:\n",
    "        print(m,k)"
   ]
  },
  {
   "cell_type": "markdown",
   "id": "9b27bb3a-b8d3-4053-9395-f297ece745de",
   "metadata": {},
   "source": [
    "## Differenza tra due quadrati (28/3/2024)\n",
    "\n",
    "In quanti modi si può scrivere 420 come differenza tra due quadrati di numeri naturali?\n",
    "\n",
    "#### Brute force"
   ]
  },
  {
   "cell_type": "code",
   "execution_count": 39,
   "id": "38afbe81-81a2-4c1e-a13c-12def2730186",
   "metadata": {},
   "outputs": [
    {
     "name": "stdout",
     "output_type": "stream",
     "text": [
      "8 22\n",
      "16 26\n",
      "32 38\n",
      "104 106\n"
     ]
    }
   ],
   "source": [
    "nmax = 1000\n",
    "for a in range(1,nmax):\n",
    "    for b in range(a,nmax):\n",
    "        m = abs(a*a-b*b)\n",
    "        if m==420:\n",
    "            print(a,b)"
   ]
  },
  {
   "cell_type": "markdown",
   "id": "9f2058c0-9e01-49b8-83d0-be7d561aa786",
   "metadata": {},
   "source": [
    "#### Solution analitica\n",
    "\n",
    "$420 = a^2 - b^2, \\quad a,b \\in N, \\quad a>b$ \n",
    "\n",
    "$420 = (a+b)(a-b) = (2b+\\delta)\\delta, \\quad \\delta=a-b$\n",
    "\n",
    "Data una coppia di divisori $m, n$ di $420 = m\\times n$, la condizione è soddisfatta se la differenza $m-n$ è pari (questo si verifica solo se $m$ e $n$ sono entrambi pari o entrambi dispari):"
   ]
  },
  {
   "cell_type": "code",
   "execution_count": 37,
   "id": "a3e26d85-0ecc-4867-b74c-6ff7065af601",
   "metadata": {},
   "outputs": [
    {
     "name": "stdout",
     "output_type": "stream",
     "text": [
      "210 2\n",
      "70 6\n",
      "42 10\n",
      "30 14\n"
     ]
    }
   ],
   "source": [
    "from math import sqrt\n",
    "for n in range(1,int(sqrt(420))+1):\n",
    "    if 420%n==0:\n",
    "        m = 420//n\n",
    "        if (m-n)%2==0:\n",
    "            print(m,n)"
   ]
  },
  {
   "cell_type": "markdown",
   "id": "1ef8d2d3-9680-4bc2-a950-fbe5252ff1e0",
   "metadata": {},
   "source": [
    "## Variazione sul tema dei 44 gatti (2/4/2024)\n",
    "\n",
    "Un certo numero di gatti si mette in fila per 2 col resto di 1, in fila per 3 col resto di 2, in fila per 4 col resto di 3, in fila per 5 col resto di 4, in fila per 6 col resto di 5. Sapendo che il numero di gatti si scrive con due cifre (in base 10, naturalmente), di quanti gatti stiamo parlando?"
   ]
  },
  {
   "cell_type": "code",
   "execution_count": 1,
   "id": "2e3fa294-c550-4655-974a-ed46577f5ea2",
   "metadata": {},
   "outputs": [
    {
     "name": "stdout",
     "output_type": "stream",
     "text": [
      "59\n"
     ]
    }
   ],
   "source": [
    "n=1\n",
    "while True:\n",
    "    if n%2==1 and n%3==2 and n%4==3 and n%5==4 and n%6==5:\n",
    "        print(n)\n",
    "        break\n",
    "    n+=1"
   ]
  },
  {
   "cell_type": "markdown",
   "id": "207202f1-ce7e-465a-91db-bc1f9433554f",
   "metadata": {},
   "source": [
    "## Una griglia tridimensionale (4/4/2024)\n",
    "\n",
    "Una pulce salta sui punti di coordinate naturali dello spazio partendo da S(0,0,0) fino ad arrivare al punto finale F(5,5,5). Ad ogni salto incrementa di una unità una e una sola delle sue coordinate. Quanti possibili percorsi può fare la pulce?"
   ]
  },
  {
   "cell_type": "code",
   "execution_count": 6,
   "id": "159922a2-4cf7-4b55-ae42-3089460cc5a1",
   "metadata": {},
   "outputs": [
    {
     "data": {
      "text/plain": [
       "756756"
      ]
     },
     "execution_count": 6,
     "metadata": {},
     "output_type": "execute_result"
    }
   ],
   "source": [
    "from math import factorial\n",
    "\n",
    "def multinomial(x,y,z):\n",
    "    return factorial(x+y+z)//(factorial(x)*factorial(y)*factorial(z))\n",
    "\n",
    "multinomial(5,5,5)"
   ]
  },
  {
   "cell_type": "code",
   "execution_count": 79,
   "id": "fe1916e6-005e-42d5-a141-4ec1071bb4f3",
   "metadata": {},
   "outputs": [],
   "source": [
    "from queue import Queue\n",
    "\n",
    "def count_paths(m=5):\n",
    "    S = (0,0,0)\n",
    "    F = (m,m,m)\n",
    "    q = Queue()\n",
    "    q.put([S])\n",
    "    visited = {tuple([S])}\n",
    "    paths = 0\n",
    "    while not q.empty():\n",
    "        p = q.get()\n",
    "        x,y,z = p[-1]\n",
    "        for S in [(x+1,y,z),(x,y+1,z),(x,y,z+1)]:\n",
    "            x,y,z=S\n",
    "            if x>m or y>m or z>m:\n",
    "                continue\n",
    "            if S==F:\n",
    "                paths+=1\n",
    "            else:\n",
    "                pnew = p+[S]\n",
    "                if tuple(pnew) not in visited:\n",
    "                    q.put(pnew)\n",
    "                    visited.add(tuple(pnew))\n",
    "    return paths"
   ]
  },
  {
   "cell_type": "code",
   "execution_count": 74,
   "id": "919b5428-6afa-46c4-b1ee-7c5838ffbbc9",
   "metadata": {},
   "outputs": [
    {
     "data": {
      "text/plain": [
       "756756"
      ]
     },
     "execution_count": 74,
     "metadata": {},
     "output_type": "execute_result"
    }
   ],
   "source": [
    "count_paths(5)"
   ]
  },
  {
   "cell_type": "markdown",
   "id": "7c4fa02e",
   "metadata": {},
   "source": [
    "## Uno degli innumerevoli tentativi di imitazione (6/4/2024)\n",
    "\n",
    "''Buongiorno Diofanto, vedo che sei stato al mercato''.\n",
    "\n",
    "''Buongiorno, Susi, sì, vedi bene. E ho anche un quesito per te''.\n",
    "\n",
    "''Non mi aspettavo niente di meno''.\n",
    "\n",
    "''Bene, vedi, al mercato ho comprato delle mele. Posso dirti che i sette noni del numero di mele che ho comperato sono un numero intero che finisce per 68, mentre i cinque ottavi del numero di mele che ho comperato sono un numero intero che finisce per 60. Il numero di cui stiamo parlando è il più piccolo intero che soddisfa queste proprietà. Quante mele ho comprato?''"
   ]
  },
  {
   "cell_type": "code",
   "execution_count": 1,
   "id": "dbdf31e1",
   "metadata": {},
   "outputs": [
    {
     "name": "stdout",
     "output_type": "stream",
     "text": [
      "2016\n"
     ]
    }
   ],
   "source": [
    "n = 1\n",
    "while True:\n",
    "    if n%8==0 and n%9==0:\n",
    "        m = n//8*5\n",
    "        k = n//9*7\n",
    "        #print(m,k)\n",
    "        m2 = int(str(m)[-2:])\n",
    "        k2 = int(str(k)[-2:])\n",
    "        if m2==60 and k2==68:\n",
    "            print(n)\n",
    "            break\n",
    "    n+=1"
   ]
  },
  {
   "cell_type": "markdown",
   "id": "c5dbdd10",
   "metadata": {},
   "source": [
    "## Tanti, tanti divisori 9/4/2024\n",
    "\n",
    "Un numero naturale ha 4324320 divisori (compresi 1 e sé stesso). Quanti sono, al massimo, i numeri primi che compaiono nella sua fattorizzazione?\n",
    "\n",
    "Un numero $n$ può fattorizzarsi come:\n",
    "\n",
    "$$n = p_1^{e_1} p2^{e_2} ... p_k^{e_k}$$\n",
    "\n",
    "Ha dunque un numero di divisori $d(n)$:\n",
    "\n",
    "$$d(n) = (e_1+1)(e_2+1) ... (e_k+1)$$\n",
    "\n",
    "Il ragionamento si può ribaltare partendo dal numero di divisori, trovandone i fattori primi e contandoli: ognuno corrisponderà all'esponente $e_i$, e dunque al numero (massimo) di fattori primi."
   ]
  },
  {
   "cell_type": "code",
   "execution_count": 2,
   "id": "a35ff9c8",
   "metadata": {},
   "outputs": [],
   "source": [
    "def prime_factors(n):\n",
    "    i = 2\n",
    "    factors = []\n",
    "    while i * i <= n:\n",
    "        if n % i:\n",
    "            i += 1\n",
    "        else:\n",
    "            n //= i\n",
    "            factors.append(i)\n",
    "    if n > 1:\n",
    "        factors.append(n)\n",
    "    return factors"
   ]
  },
  {
   "cell_type": "code",
   "execution_count": 3,
   "id": "c017965e",
   "metadata": {},
   "outputs": [
    {
     "name": "stdout",
     "output_type": "stream",
     "text": [
      "[2, 2, 2, 2, 2, 3, 3, 3, 5, 7, 11, 13] 12\n"
     ]
    }
   ],
   "source": [
    "N = 4324320\n",
    "p = prime_factors(N)\n",
    "print(p,len(p))"
   ]
  },
  {
   "cell_type": "markdown",
   "id": "be000742",
   "metadata": {},
   "source": [
    "## Potenze di primi (11/4/2024)\n",
    "\n",
    "Quante soluzioni ha l'equazione \n",
    "\n",
    "$3^m+7=2^n$,\n",
    "\n",
    "se m e n sono interi positivi?"
   ]
  },
  {
   "cell_type": "code",
   "execution_count": 7,
   "id": "8b25577a",
   "metadata": {},
   "outputs": [
    {
     "name": "stdout",
     "output_type": "stream",
     "text": [
      "2 4\n"
     ]
    }
   ],
   "source": [
    "def equation(m,n):\n",
    "    return 3**m+7==2**n\n",
    "\n",
    "for n in range(1,100):\n",
    "    for m in range(1,100):\n",
    "        if equation(m,n):\n",
    "            print(m,n)"
   ]
  },
  {
   "cell_type": "markdown",
   "id": "551cca80",
   "metadata": {},
   "source": [
    "### Una lunga discesa (13/4/2024)\n",
    "\n",
    "Quante sono le soluzioni intere non negative dell'equazione \n",
    "\n",
    "$$x^3+2y^3==4z^3$$\n",
    "\n",
    "?"
   ]
  },
  {
   "cell_type": "code",
   "execution_count": 11,
   "id": "ec68370b",
   "metadata": {},
   "outputs": [
    {
     "name": "stdout",
     "output_type": "stream",
     "text": [
      "0 0 0\n"
     ]
    }
   ],
   "source": [
    "def equation(x,y,z):\n",
    "    return x**3+2*y**3==4*z**3\n",
    "\n",
    "nmax = 100\n",
    "\n",
    "for z in range (0,nmax):\n",
    "    for y in range (0,nmax):\n",
    "        for x in range (0,nmax):\n",
    "            if equation(x,y,z):\n",
    "                print(x,y,z)"
   ]
  },
  {
   "cell_type": "markdown",
   "id": "45d38972-f653-4c79-b491-dbf6cdabebda",
   "metadata": {},
   "source": [
    "### Caselle in linea (16/4/2024)\n",
    "\n",
    "Una striscia è suddivisa in 10 caselle allineate. In quanti modi può essere ricoperta da tessere quadrate in grado di coprire una singola casella, o da tessere rettangolari in grado di coprire due caselle adiacenti?"
   ]
  },
  {
   "cell_type": "code",
   "execution_count": 30,
   "id": "ad918e9f-7f6a-4032-a484-9913283131d5",
   "metadata": {},
   "outputs": [
    {
     "name": "stdout",
     "output_type": "stream",
     "text": [
      "[2, 2, 2, 2, 2] 1\n",
      "[2, 2, 2, 2, 1, 1] 15\n",
      "[2, 2, 2, 1, 1, 1, 1] 35\n",
      "[2, 2, 1, 1, 1, 1, 1, 1] 28\n",
      "[2, 1, 1, 1, 1, 1, 1, 1, 1] 9\n",
      "[1, 1, 1, 1, 1, 1, 1, 1, 1, 1] 1\n",
      "89\n"
     ]
    }
   ],
   "source": [
    "from more_itertools import distinct_permutations as idp\n",
    "\n",
    "tiles = [2,2,2,2,2]\n",
    "count = 0\n",
    "\n",
    "while True:\n",
    "    # count arrangements of current set of tiles\n",
    "    c = sum([ 1 for p in idp(tiles,len(tiles)) ])\n",
    "    print(tiles,c)\n",
    "    count += c\n",
    "    # generate next set of tiles    \n",
    "    if 2 in tiles:\n",
    "        tiles = tiles[1:]+[1,1]\n",
    "    else:\n",
    "        break\n",
    "\n",
    "print(count)"
   ]
  },
  {
   "cell_type": "code",
   "execution_count": 31,
   "id": "23ae82cb-377c-40a6-8786-aa0bee3fb065",
   "metadata": {},
   "outputs": [
    {
     "name": "stdout",
     "output_type": "stream",
     "text": [
      "{2: 5, 1: 0} 1\n",
      "{2: 4, 1: 2} 15\n",
      "{2: 3, 1: 4} 35\n",
      "{2: 2, 1: 6} 28\n",
      "{2: 1, 1: 8} 9\n",
      "{2: 0, 1: 10} 1\n",
      "89\n"
     ]
    }
   ],
   "source": [
    "from math import factorial\n",
    "\n",
    "def counts(tiles):\n",
    "    return factorial(tiles[2]+tiles[1])//(factorial(tiles[2])*factorial(tiles[1]))\n",
    "\n",
    "tiles = {2:5,1:0}\n",
    "count = 0\n",
    "\n",
    "while True:\n",
    "    # count arrangements of current set of tiles\n",
    "    c = counts(tiles)\n",
    "    print(tiles,c)\n",
    "    count += c\n",
    "    # generate next set of tiles    \n",
    "    if tiles[2]>0:\n",
    "        tiles[2] -= 1\n",
    "        tiles[1] += 2\n",
    "    else:\n",
    "        break\n",
    "\n",
    "print(count)"
   ]
  },
  {
   "cell_type": "markdown",
   "id": "25fc8b83-876c-4667-b099-90a2bbd8175b",
   "metadata": {},
   "source": [
    "## Punti su una sfera (30/4/2024)\n",
    "\n",
    "Tre punti vengono scelti a caso sulla superficie di una sfera. Qual è la probabilità che stiano tutti e tre sulla stessa semisfera? (La circonferenza massima si considera appartenente alla semisfera. Dai la risposta in percentuale, per esempio, se la risposta fosse 42% scrivi 42.)\n",
    "\n",
    "https://www.calenpiario.it/index.php?a=problem&p=104\n",
    "\n",
    "https://en.wikipedia.org/wiki/Wendel%27s_theorem\n",
    "\n",
    "$P(d,N) = \\sum_{k=0}^d {{N-1}\\choose{k}} 2^{-(N-1)}$\n",
    "\n",
    "done $d$ = dimensioni della sfera, e $N$ = numero di punti"
   ]
  },
  {
   "cell_type": "code",
   "execution_count": 54,
   "id": "cbd9fe0e-35f6-4d3b-8a56-608ca6b23ce5",
   "metadata": {},
   "outputs": [],
   "source": [
    "from math import factorial\n",
    "\n",
    "def binomial(n,k):\n",
    "    return factorial(n)//(factorial(k)*factorial(n-k))\n",
    "\n",
    "def wendel(d,N):\n",
    "    return sum([ binomial(N-1,k) for k in range(0,d) ]) / 2**(N-1)"
   ]
  },
  {
   "cell_type": "code",
   "execution_count": 57,
   "id": "be9ff088-cb6a-498b-b029-90dcfbf0a130",
   "metadata": {},
   "outputs": [
    {
     "data": {
      "text/plain": [
       "1.0"
      ]
     },
     "execution_count": 57,
     "metadata": {},
     "output_type": "execute_result"
    }
   ],
   "source": [
    "wendel(3,3)"
   ]
  },
  {
   "cell_type": "code",
   "execution_count": 58,
   "id": "fd58d027-a888-4543-acdc-aab28c555ade",
   "metadata": {},
   "outputs": [
    {
     "data": {
      "text/plain": [
       "0.75"
      ]
     },
     "execution_count": 58,
     "metadata": {},
     "output_type": "execute_result"
    }
   ],
   "source": [
    "wendel(2,3)"
   ]
  },
  {
   "cell_type": "code",
   "execution_count": 60,
   "id": "0718458e-fc7c-4015-9e04-383d93743bcb",
   "metadata": {},
   "outputs": [
    {
     "data": {
      "text/plain": [
       "1.0"
      ]
     },
     "execution_count": 60,
     "metadata": {},
     "output_type": "execute_result"
    }
   ],
   "source": [
    "wendel(2,2)"
   ]
  },
  {
   "cell_type": "markdown",
   "id": "f57dd41c-e797-470e-9ab8-7c22957a947e",
   "metadata": {},
   "source": [
    "## Un minimo (9/5/2024)\n",
    "\n",
    "Il prodotto di tre numeri positivi $a$, $b$ e $c$ è uguale a 69984. Quanto può essere, al minimo, il valore di $a + b^2 + c^3$?"
   ]
  },
  {
   "cell_type": "code",
   "execution_count": 42,
   "id": "2494a620-f2eb-4299-8726-50bfb1635bc8",
   "metadata": {},
   "outputs": [
    {
     "name": "stdout",
     "output_type": "stream",
     "text": [
      "(1188, (648, 18, 6))\n"
     ]
    }
   ],
   "source": [
    "from math import sqrt\n",
    "\n",
    "def divisors(n):\n",
    "    divs = set()\n",
    "    for i in range(1,int(sqrt(n))+1):\n",
    "        if not n%i:\n",
    "            divs.add(i)\n",
    "            divs.add(n//i)\n",
    "    return sorted(divs)\n",
    "\n",
    "def a_b2_c3(a,b,c):\n",
    "    return a+b**2+c**3\n",
    "\n",
    "res = (1e32,())\n",
    "for n in divisors(69984):\n",
    "    m = N//n\n",
    "    for k in divisors(m):\n",
    "        a,b,c = sorted((n,k,m//k),reverse=True)\n",
    "        r = a_b2_c3(a,b,c)\n",
    "        if r<res[0]:\n",
    "            res = (r,(a,b,c,))\n",
    "print(res)"
   ]
  },
  {
   "cell_type": "markdown",
   "id": "5001846a-c08e-4335-be31-cd251b4ea05f",
   "metadata": {},
   "source": [
    "## Prestidigitazione (11/5/2024)\n",
    "\n",
    "La maga Yennefer ha un mazzo di 52 carte, disposte in pila, con il dorso in alto. Yennefer separa il mazzetto costituito dalle sette carte in cima alla pila, lo capovolge, e lo mette sotto alla pila. Ora tutte le carte sono nuovamente in pila, ma non tutte hanno ancora il dorso in alto: le sette in fondo sono girate al contrario. Yennefer ripete l'operazione precedente finché non si verifica di nuovo che tutte le carte hanno il dorso in alto. In totale, quanti mazzetti di sette carte ha girato Yennefer?"
   ]
  },
  {
   "cell_type": "code",
   "execution_count": 13,
   "id": "5153594d-d2dc-47c2-827b-26736a6f49c6",
   "metadata": {},
   "outputs": [
    {
     "name": "stdout",
     "output_type": "stream",
     "text": [
      "112\n"
     ]
    }
   ],
   "source": [
    "cards = 52*[1]\n",
    "n = 0\n",
    "while True:\n",
    "    n+=1\n",
    "    cards = cards[7:]+[1 if c==0 else 0 for c in cards[:7]][::-1]\n",
    "    if sum(cards)==52:\n",
    "        print(n)\n",
    "        break"
   ]
  },
  {
   "cell_type": "markdown",
   "id": "bec25a58-088b-4333-9395-0cfd0d245f2b",
   "metadata": {},
   "source": [
    "# Intorno a un quadrato\n",
    "\n",
    "Scegliendo, con probabilità uniforme, due punti su due lati di un quadrato, qual è la probabilità che la loro distanza sia maggiore del lato? Dai come risposta la parte intera inferiore di 1000p, dove \n",
    "p è la probabilità richiesta.\n",
    "\n",
    "_(1000 o 10000? I punti su lati distinti o anche sullo stesso lato?)_\n",
    "\n",
    "https://www.reddit.com/r/askmath/comments/14t49sd/trivia_question_about_probability/\n",
    "\n",
    "https://mindyourdecisions.com/blog/2023/11/12/probability-random-points-on-square-sides-longer-than-side-length/"
   ]
  },
  {
   "cell_type": "code",
   "execution_count": 1,
   "id": "bb5d38e0-7f18-437f-8856-160efb50dcc6",
   "metadata": {},
   "outputs": [
    {
     "name": "stdout",
     "output_type": "stream",
     "text": [
      "   2000000 4761.9\n",
      "   4000000 4762.4\n",
      "   6000000 4765.9\n",
      "   8000000 4766.7\n",
      "  10000000 4765.8\n",
      "  12000000 4765.3\n",
      "  14000000 4764.7\n",
      "  16000000 4764.8\n",
      "  18000000 4764.3\n",
      "  20000000 4764.3\n",
      "  22000000 4763.4\n",
      "  24000000 4763.0\n",
      "  26000000 4763.3\n",
      "  28000000 4763.4\n",
      "  30000000 4763.2\n",
      "  32000000 4762.8\n",
      "  34000000 4762.8\n",
      "  36000000 4762.9\n",
      "  38000000 4763.2\n",
      "  40000000 4763.5\n",
      "  42000000 4763.5\n",
      "  44000000 4763.7\n",
      "  46000000 4763.7\n",
      "  48000000 4763.6\n"
     ]
    },
    {
     "data": {
      "text/plain": [
       "4763.6402"
      ]
     },
     "execution_count": 1,
     "metadata": {},
     "output_type": "execute_result"
    }
   ],
   "source": [
    "import random\n",
    "from math import sqrt\n",
    "\n",
    "def distance(X1,X2):\n",
    "    x1,y1 = X1\n",
    "    x2,y2 = X2\n",
    "    return sqrt((x1-x2)**2+(y1-y2)**2)\n",
    "\n",
    "def simulate_other_sides(Nmax = 1000,update=1_000_000,scale=10_000):\n",
    "    n = 0 \n",
    "    for j in range(Nmax):\n",
    "        X1 = (random.uniform(0,1),0)\n",
    "        s = random.randrange(1,4)\n",
    "        if s==1:\n",
    "            X2 = (0,random.uniform(0,1))\n",
    "        elif s==2:\n",
    "            X2 = (1,random.uniform(0,1))\n",
    "        elif s==3:\n",
    "            X2 = (random.uniform(0,1),1)\n",
    "        d = distance(X1,X2)\n",
    "        if d>1:\n",
    "            n+=1\n",
    "        if j%update==0 and j!=0:\n",
    "            print(f\"{j:10d} {scale*(n/j):5.1f}\")\n",
    "    return scale*(n/Nmax)\n",
    "\n",
    "simulate_other_sides(Nmax=50_000_000,update=2_000_000,scale=10_000)"
   ]
  },
  {
   "cell_type": "code",
   "execution_count": 7,
   "id": "9f1b1fd4-11e7-4626-be3e-2353344c5c7b",
   "metadata": {},
   "outputs": [
    {
     "data": {
      "text/plain": [
       "4764.012244017012"
      ]
     },
     "execution_count": 7,
     "metadata": {},
     "output_type": "execute_result"
    }
   ],
   "source": [
    "from math import pi\n",
    "\n",
    "r = (1 + (1 - pi/4) + (1 - pi/4))/3\n",
    "10_000*r"
   ]
  },
  {
   "cell_type": "code",
   "execution_count": 2,
   "id": "0199b00f-c700-4ee0-a332-dd533e45e431",
   "metadata": {},
   "outputs": [
    {
     "name": "stdout",
     "output_type": "stream",
     "text": [
      "   2000000 3570.0\n",
      "   4000000 3572.5\n",
      "   6000000 3575.1\n",
      "   8000000 3574.4\n",
      "  10000000 3574.8\n",
      "  12000000 3574.1\n",
      "  14000000 3574.0\n",
      "  16000000 3574.1\n",
      "  18000000 3574.3\n",
      "  20000000 3574.4\n",
      "  22000000 3574.4\n",
      "  24000000 3573.8\n",
      "  26000000 3573.2\n",
      "  28000000 3573.1\n",
      "  30000000 3573.1\n",
      "  32000000 3573.3\n",
      "  34000000 3573.5\n",
      "  36000000 3573.5\n",
      "  38000000 3573.8\n",
      "  40000000 3573.5\n",
      "  42000000 3573.6\n",
      "  44000000 3573.5\n",
      "  46000000 3573.5\n",
      "  48000000 3573.6\n"
     ]
    },
    {
     "data": {
      "text/plain": [
       "3573.522"
      ]
     },
     "execution_count": 2,
     "metadata": {},
     "output_type": "execute_result"
    }
   ],
   "source": [
    "def point4(t):\n",
    "    if 0<=t<1:\n",
    "        return (t,0)\n",
    "    elif 1<=t<2:\n",
    "        return (1,t-1)\n",
    "    elif 2<=t<3:\n",
    "        return (t-2,1)\n",
    "    elif 3<=t<4:\n",
    "        return (0,t-3)\n",
    "\n",
    "def simulate_all_sides(Nmax = 1000,update=1_000_000,scale=10_000):\n",
    "    n = 0 \n",
    "    for j in range(Nmax):\n",
    "        t1 = random.uniform(0,4)\n",
    "        t2 = random.uniform(0,4)\n",
    "        X1 = point4(t1)\n",
    "        X2 = point4(t2)\n",
    "        d = distance(X1,X2)\n",
    "        if d>1:\n",
    "            n+=1\n",
    "        if j%update==0 and j!=0:\n",
    "            print(f\"{j:10d} {scale*(n/j):5.1f}\")\n",
    "    return scale*(n/Nmax)\n",
    "    \n",
    "simulate_all_sides(Nmax=50_000_000,update=2_000_000,scale=10_000)"
   ]
  },
  {
   "cell_type": "code",
   "execution_count": 5,
   "id": "b4bd374d-48b9-4516-82fe-c86dee94da31",
   "metadata": {},
   "outputs": [
    {
     "data": {
      "text/plain": [
       "3573.0091830127585"
      ]
     },
     "execution_count": 5,
     "metadata": {},
     "output_type": "execute_result"
    }
   ],
   "source": [
    "r = (0 + 1 + (1 - pi/4) + (1 - pi/4))/4\n",
    "10_000*r"
   ]
  },
  {
   "cell_type": "code",
   "execution_count": null,
   "id": "c69fbe40-77aa-44d7-9f14-d2777f655c36",
   "metadata": {},
   "outputs": [],
   "source": []
  }
 ],
 "metadata": {
  "kernelspec": {
   "display_name": "Python 3 (ipykernel)",
   "language": "python",
   "name": "python3"
  },
  "language_info": {
   "codemirror_mode": {
    "name": "ipython",
    "version": 3
   },
   "file_extension": ".py",
   "mimetype": "text/x-python",
   "name": "python",
   "nbconvert_exporter": "python",
   "pygments_lexer": "ipython3",
   "version": "3.12.2"
  }
 },
 "nbformat": 4,
 "nbformat_minor": 5
}
