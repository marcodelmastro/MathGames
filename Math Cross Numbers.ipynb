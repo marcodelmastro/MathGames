{
 "cells": [
  {
   "cell_type": "markdown",
   "metadata": {},
   "source": [
    "![math puzzle](math-cross-number.gif)"
   ]
  },
  {
   "cell_type": "code",
   "execution_count": 7,
   "metadata": {},
   "outputs": [],
   "source": [
    "def testPuzzle(a,b,c,d,e,f,g,h,i):\n",
    "    o1 = a + b - c\n",
    "    o2 = d - e + f\n",
    "    o3 = g * h - i\n",
    "    o4 = a + d - g\n",
    "    o5 = b * e - h\n",
    "    o6 = c + f - i\n",
    "    return o1==4 and o2==8 and o3==8 and o4==6  and o5==2 and o6==6"
   ]
  },
  {
   "cell_type": "code",
   "execution_count": 2,
   "metadata": {},
   "outputs": [
    {
     "data": {
      "text/plain": [
       "False"
      ]
     },
     "execution_count": 2,
     "metadata": {},
     "output_type": "execute_result"
    }
   ],
   "source": [
    "testPuzzle(1,2,3,4,5,6,7,8,9)"
   ]
  },
  {
   "cell_type": "code",
   "execution_count": 19,
   "metadata": {},
   "outputs": [],
   "source": [
    "def testPuzzleTuple(values):\n",
    "    a,b,c,d,e,f,g,h,i = values\n",
    "    o1 = a + b - c\n",
    "    o2 = d - e + f\n",
    "    o3 = g * h - i\n",
    "    o4 = a + d - g\n",
    "    o5 = b * e - h\n",
    "    o6 = c + f - i\n",
    "    return o1==4 and o2==8 and o3==8 and o4==6  and o5==2 and o6==6"
   ]
  },
  {
   "cell_type": "code",
   "execution_count": 20,
   "metadata": {},
   "outputs": [
    {
     "data": {
      "text/plain": [
       "False"
      ]
     },
     "execution_count": 20,
     "metadata": {},
     "output_type": "execute_result"
    }
   ],
   "source": [
    "# storing variable values in tuple as (a, b, c, d, e, f, g, h, i)\n",
    "values = (1,2,3,4,5,6,7,8,9)\n",
    "testPuzzleTuple(values)"
   ]
  },
  {
   "cell_type": "code",
   "execution_count": 21,
   "metadata": {},
   "outputs": [
    {
     "name": "stdout",
     "output_type": "stream",
     "text": [
      "(a, b, c, d, e, f, g, h, i) = (3, 9, 8, 5, 1, 4, 2, 7, 6)\n",
      "Number of permutations tested = 120608\n"
     ]
    }
   ],
   "source": [
    "from itertools import permutations\n",
    "\n",
    "n = 0\n",
    "\n",
    "for p in permutations(values):\n",
    "    n += 1\n",
    "    if testPuzzleTuple(p):\n",
    "        print(\"(a, b, c, d, e, f, g, h, i) =\",p)\n",
    "        break\n",
    "\n",
    "print(\"Number of permutations tested =\",n)"
   ]
  },
  {
   "cell_type": "code",
   "execution_count": null,
   "metadata": {},
   "outputs": [],
   "source": []
  }
 ],
 "metadata": {
  "kernelspec": {
   "display_name": "Python 3",
   "language": "python",
   "name": "python3"
  },
  "language_info": {
   "codemirror_mode": {
    "name": "ipython",
    "version": 3
   },
   "file_extension": ".py",
   "mimetype": "text/x-python",
   "name": "python",
   "nbconvert_exporter": "python",
   "pygments_lexer": "ipython3",
   "version": "3.7.6"
  }
 },
 "nbformat": 4,
 "nbformat_minor": 4
}
