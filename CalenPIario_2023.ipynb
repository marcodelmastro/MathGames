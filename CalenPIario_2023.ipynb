{
 "cells": [
  {
   "cell_type": "markdown",
   "id": "9db20881",
   "metadata": {},
   "source": [
    "# CalenPIario 2023\n",
    "\n",
    "https://www.calenpiario.it/"
   ]
  },
  {
   "cell_type": "markdown",
   "id": "dd53297d",
   "metadata": {},
   "source": [
    "### 1. Primi e quadrati\n",
    "\n",
    "https://www.calenpiario.it/index.php?a=problem&p=5\n",
    "\n",
    "> Quanti sono i numeri primi che hanno per successivo un quadrato perfetto?\n",
    "\n",
    "<img src=\"./calenpiario_2023/calenpiario2023_01.jpg\" alt=\"\" width=\"600\" align=\"center\"/>"
   ]
  },
  {
   "cell_type": "markdown",
   "id": "8ff449e3",
   "metadata": {},
   "source": [
    "### 2. Doppio o quadrato?\n",
    "\n",
    "https://www.calenpiario.it/index.php?a=problem&p=43\n",
    "\n",
    "> Sulla lavagna si trova scritto il numero 1. La sola mossa permessa è cancellare il numero scritto sulla lavagna e sostituirlo o con il suo doppio o con il suo quadrato. Qual è il numero più grande che si può ottenere in 8 mosse? Scomponi il risultato in fattori primi, e indica come soluzione l'esponente del fattore 2. (Giochi di Archimede 1997)\n",
    "\n",
    "<img src=\"./calenpiario_2023/calenpiario2023_02.jpg\" alt=\"\" width=\"600\" align=\"center\"/>"
   ]
  },
  {
   "cell_type": "code",
   "execution_count": 22,
   "id": "9030497b",
   "metadata": {},
   "outputs": [
    {
     "name": "stdout",
     "output_type": "stream",
     "text": [
      "340282366920938463463374607431768211456\n"
     ]
    }
   ],
   "source": [
    "n = [ 1 ]\n",
    "\n",
    "for steps in range(8):\n",
    "    n_new = []\n",
    "    for i in n:\n",
    "        n_new.append(2*i)\n",
    "        n_new.append(i**2)\n",
    "    n = n_new\n",
    "    \n",
    "n = sorted(n)   \n",
    "print(n[-1])"
   ]
  },
  {
   "cell_type": "code",
   "execution_count": 23,
   "id": "f099dbea",
   "metadata": {},
   "outputs": [
    {
     "data": {
      "text/plain": [
       "340282366920938463463374607431768211456"
      ]
     },
     "execution_count": 23,
     "metadata": {},
     "output_type": "execute_result"
    }
   ],
   "source": [
    "2**(2**7)"
   ]
  },
  {
   "cell_type": "code",
   "execution_count": 1,
   "id": "9cc90ec6",
   "metadata": {},
   "outputs": [
    {
     "data": {
      "text/plain": [
       "128"
      ]
     },
     "execution_count": 1,
     "metadata": {},
     "output_type": "execute_result"
    }
   ],
   "source": [
    "2**7"
   ]
  },
  {
   "cell_type": "markdown",
   "id": "9a637e75",
   "metadata": {},
   "source": [
    "### 3. Un fattoriale un po' più corto\n",
    "\n",
    "https://www.calenpiario.it/index.php?a=problem&p=44\n",
    "\n",
    "> Se prendiamo i numeri da 1 a 2023 e li moltiplichiamo tra loro, otteniamo un multiplo di 2023. Qual è il più piccolo numero di interi positivi consecutivi tali che il loro prodotto sia ancora un multiplo di 2023?\n",
    "\n",
    "Questo qui sopra è il testo originale del problema copiato dalla pagina alle 15:15 del 20/3/2023, modificato poi durante il pomeriggio in:\n",
    "\n",
    "> Se prendiamo i numeri da 1 a 2023 e li moltiplichiamo tra loro, otteniamo un multiplo di 2023. Qual è il più piccolo numero di interi positivi consecutivi, minori di 2023, tali che il loro prodotto sia ancora un multiplo di 2023?\n",
    "\n",
    "L'aggiunta di \"minori di 2023\" dovrebbe servire a evitare la soluzione banale (1 solo numero, 2023), e la risposta attesa sarebbe 18 (con l'implicita richiesta di selezionale la serie di numeri più piccoli):\n",
    "\n",
    "<img src=\"./calenpiario_2023/calenpiario2023_03.jpg\" alt=\"\" width=\"800\" align=\"center\"/>\n",
    "\n",
    "Non esplicitando però la richiesta, il testo non elimina le soluzione con 2, 3, 4, ... numeri:"
   ]
  },
  {
   "cell_type": "code",
   "execution_count": 16,
   "id": "ab7eab49",
   "metadata": {},
   "outputs": [
    {
     "data": {
      "text/plain": [
       "{7: 1, 17: 2}"
      ]
     },
     "execution_count": 16,
     "metadata": {},
     "output_type": "execute_result"
    }
   ],
   "source": [
    "from sympy import factorint\n",
    "\n",
    "factorint(2023)"
   ]
  },
  {
   "cell_type": "code",
   "execution_count": 17,
   "id": "57ce5236",
   "metadata": {},
   "outputs": [
    {
     "data": {
      "text/plain": [
       "([17, 18, 19, 20, 21, 22, 23, 24, 25, 26, 27, 28, 29, 30, 31, 32, 33, 34],\n",
       " 14110584707870682071040000,\n",
       " 0,\n",
       " 18)"
      ]
     },
     "execution_count": 17,
     "metadata": {},
     "output_type": "execute_result"
    }
   ],
   "source": [
    "#N = 17*7-1\n",
    "N = 1\n",
    "\n",
    "values = [ n for n in range(N*17,(N+1)*17+1) ]\n",
    "\n",
    "from functools import reduce\n",
    "from operator import mul\n",
    "\n",
    "prod = reduce(mul,values,1)\n",
    "\n",
    "values, prod, prod%2023, len(values)"
   ]
  },
  {
   "cell_type": "code",
   "execution_count": 26,
   "id": "22a05f0c",
   "metadata": {},
   "outputs": [
    {
     "data": {
      "text/plain": [
       "[([867, 868], 752556), ([1155, 1156], 1335180)]"
      ]
     },
     "execution_count": 26,
     "metadata": {},
     "output_type": "execute_result"
    }
   ],
   "source": [
    "from functools import reduce\n",
    "from operator import mul\n",
    "\n",
    "def series2023(k=2):\n",
    "    series = []\n",
    "    for n in range(1,2023-k+1):\n",
    "        values = [ n+i for i in range(k) ]\n",
    "        prod = reduce(mul,values,1)\n",
    "        if prod%2023==0:\n",
    "            series.append((values,prod))\n",
    "    return series\n",
    "\n",
    "series2023(k=2)"
   ]
  },
  {
   "cell_type": "code",
   "execution_count": 27,
   "id": "699c8c65",
   "metadata": {},
   "outputs": [
    {
     "name": "stdout",
     "output_type": "stream",
     "text": [
      "# k =  2 --> n_series =   2\n",
      "# k =  3 --> n_series =   6\n",
      "# k =  4 --> n_series =  12\n",
      "# k =  5 --> n_series =  20\n",
      "# k =  6 --> n_series =  30\n",
      "# k =  7 --> n_series =  42\n",
      "# k =  8 --> n_series =  48\n",
      "# k =  9 --> n_series =  54\n",
      "# k = 10 --> n_series =  60\n",
      "# k = 11 --> n_series =  66\n",
      "# k = 12 --> n_series =  72\n",
      "# k = 13 --> n_series =  78\n",
      "# k = 14 --> n_series =  84\n",
      "# k = 15 --> n_series =  90\n",
      "# k = 16 --> n_series =  96\n",
      "# k = 17 --> n_series = 102\n",
      "# k = 18 --> n_series = 213\n"
     ]
    }
   ],
   "source": [
    "for k in range(2,19):\n",
    "    series = series2023(k)\n",
    "    print(\"# k = {:2d} --> n_series = {:3d}\".format(k,len(series)))"
   ]
  },
  {
   "cell_type": "markdown",
   "id": "70c731a1",
   "metadata": {},
   "source": [
    "### 4. Calzini\n",
    "\n",
    "https://www.calenpiario.it/index.php?a=problem&p=46\n",
    "\n",
    "> In un cassetto ci sono 6 calzini neri, 14 calzini blu e 8 calzini verdi. Per essere sicuri di avere due calzini dello stesso colore, quanti se ne devono prendere come minimo?\n",
    "\n",
    "Risposta: 4 = $N_{\\rm color} +1$"
   ]
  },
  {
   "cell_type": "markdown",
   "id": "163c09cc",
   "metadata": {},
   "source": [
    "### 5. Corona\n",
    "\n",
    "https://www.calenpiario.it/index.php?a=problem&p=47\n",
    "\n",
    "> I quattro punti evidenziati sono tutti equidistanti: quanti multipli di $\\pi$ vale l'area evidenziata in figura? \n",
    "\n",
    "\n",
    "<img src=\"./calenpiario_2023/calenpiario2023_05.jpg\" alt=\"\" width=\"600\" align=\"center\"/>"
   ]
  },
  {
   "cell_type": "markdown",
   "id": "41f3c156",
   "metadata": {},
   "source": [
    "### 6.  Hamburger\n",
    "\n",
    "https://www.calenpiario.it/index.php?a=problem&p=48\n",
    "\n",
    "> Per cuocere un hamburger occorrono 20 minuti: 10 minuti per cuocere il primo lato, altri 10 per cuocere il secondo. Abbiamo a disposizione una padella che consente di cuocerne due alla volta. Quanti minuti occorreranno per cuocere tre hamburger?\n",
    "\n",
    "Il trucco per ottimizzare la cottura è usare sempre i due posti nella padella. Peraltro la domanda avrebbe dovuto piuttosto essere \"qual è il tempo minimo necessario per cuocere tre hamburger?\".\n",
    "\n",
    "Risposta: 30'\n",
    "\n",
    "<img src=\"./calenpiario_2023/calenpiario2023_06.jpg\" alt=\"\" width=\"600\" align=\"center\"/>"
   ]
  },
  {
   "cell_type": "markdown",
   "id": "6d4c1e5a",
   "metadata": {},
   "source": [
    "### 7. Il maggiore Tom\n",
    "\n",
    "https://www.calenpiario.it/index.php?a=problem&p=49\n",
    "\n",
    "> Il maggiore Tom è atterrato su un pianeta popolato da gatti viola, che dicono sempre la verità, e da gatti neri, che mentono sempre. Nel buio più completo incontra 5 gatti, che si rivolgono a lui nel modo seguente. Primo gatto: \"Sono viola\"; secondo gatto: \"Almeno 3 di noi sono viola\", terzo gatto: \"Il primo gatto è nero\", quarto gatto: \"Almeno 3 di noi sono neri\", quinto gatto: \"Siamo tutti neri\". Quanti dei 5 gatti sono viola?\n",
    "\n",
    "<img src=\"./calenpiario_2023/calenpiario2023_07.jpg\" alt=\"\" width=\"600\" align=\"center\"/>"
   ]
  },
  {
   "cell_type": "markdown",
   "id": "d8d0d9a3",
   "metadata": {},
   "source": [
    "### 8. Arbelo\n",
    "\n",
    "https://www.calenpiario.it/index.php?a=problem&p=50\n",
    "\n",
    "> Quanti multipli di $\\pi$ vale l'area evidenziata in figura?\n",
    "\n",
    "<img src=\"./calenpiario_2023/calenpiario2023_08.jpg\" alt=\"\" width=\"600\" align=\"center\"/>\n",
    "\n",
    "L'area dell'arbelo è uguale a quelle del cerchio di diametro pari al segmento tra i due semicerchi interni e quello esterno. In questo caso il diametro è 2, dunque la risposta è 1."
   ]
  },
  {
   "cell_type": "markdown",
   "id": "52d3660d",
   "metadata": {},
   "source": [
    "### 9. Prodotto minimo\n",
    "\n",
    "https://www.calenpiario.it/index.php?a=problem&p=51\n",
    "\n",
    "> Se a, b sono numeri reali positivi tali che a+b=1, quanto è il minimo valore possibile per il prodotto (1+1/a)(1+1/b)?\n",
    "\n",
    "$a+b=1$\n",
    "\n",
    "$y = (1+\\frac{1}{a})(1+\\frac{1}{b})$ \n",
    "\n",
    "$y = (1+\\frac{1}{1-b})(1+\\frac{1}{b})$ \n",
    "\n",
    "$f(b) = 1+\\frac{1}{b}$\n",
    "\n",
    "$y = f(b) f(1-b)$\n",
    "\n",
    "$a+b=1$ dunque $a$ e $b$ sono definiti in [0,1]. $f(b)$ e $f(1-b)$ sono  simmetriche nell'intervallo [0,1], con $f(b)$ crescente e $f(1-b)$ decrescente: si incrociano dunque in 0.5 dove deve trovarsi il mimimo. In quel punto $y==9$.\n",
    "\n",
    "Analiticamente:\n",
    "\n",
    "$\\frac{d}{db}\\left( (1+\\frac{1}{1-b})(1+\\frac{1}{b}) \\right) = \\frac{(4 b - 2)}{(b^2 (1 - b)^2)}$\n",
    "\n",
    "che si annulla per $(4 b - 2) = 0$, ovvero per $b = 1/2$"
   ]
  },
  {
   "cell_type": "code",
   "execution_count": 13,
   "id": "cde3d88b",
   "metadata": {},
   "outputs": [
    {
     "data": {
      "image/png": "[encoded data removed]",
      "text/plain": [
       "<Figure size 640x480 with 1 Axes>"
      ]
     },
     "metadata": {},
     "output_type": "display_data"
    }
   ],
   "source": [
    "import matplotlib.pyplot as plt\n",
    "import numpy as np\n",
    "\n",
    "b = np.linspace(0.01,0.99,98)\n",
    "\n",
    "y1 = (1+1/(1-b))\n",
    "y2 = (1+1/b)\n",
    "y = y1*y2\n",
    "\n",
    "fig = plt.figure()\n",
    "ax = fig.add_subplot(1, 1, 1)\n",
    "\n",
    "ax.spines['right'].set_color('none')\n",
    "ax.spines['top'].set_color('none')\n",
    "ax.xaxis.set_ticks_position('bottom')\n",
    "ax.yaxis.set_ticks_position('left')\n",
    "\n",
    "plt.plot(b,y1,'b--')\n",
    "plt.plot(b,y2,'g--')\n",
    "plt.plot(b,y, 'r')\n",
    "plt.show()"
   ]
  },
  {
   "cell_type": "markdown",
   "id": "153fd4a3-8233-4153-814d-5df15779a950",
   "metadata": {
    "tags": []
   },
   "source": [
    "### 10. Triangolazione\n",
    "\n",
    "https://www.calenpiario.it/index.php?a=problem&p=52\n",
    "\n",
    "> Quanto vale il rapporto tra l'area del triangolo grande e quella del triangolo colorato?\n",
    "\n",
    "[One-seventh area triangle](https://en.wikipedia.org/wiki/One-seventh_area_triangle)\n",
    "\n",
    "Risposta: 7\n",
    "\n",
    "<img src=\"./calenpiario_2023/calenpiario2023_10.jpg\" alt=\"\" width=\"600\" align=\"center\"/>"
   ]
  },
  {
   "cell_type": "markdown",
   "id": "86a58219",
   "metadata": {},
   "source": [
    "### 10. Probabilità asimmetrica\n",
    "\n",
    "https://www.calenpiario.it/index.php?a=problem&p=53\n",
    "\n",
    "> Un'urna contiene 100 palline colorate di bianco oppure di nero. Sappiamo che ci sono più palline bianche che palline nere, e che se si estraggono contemporaneamente due palline, la probabilità che siano entrambe dello stesso colore è uguale a quella che siano di colore diverso. Quante sono le palline bianche?\n",
    "\n",
    "<img src=\"./calenpiario_2023/calenpiario2023_11.jpg\" alt=\"\" width=\"600\" align=\"center\"/>"
   ]
  },
  {
   "cell_type": "code",
   "execution_count": 5,
   "id": "cb7834ca-175f-4c41-b656-4125e25af32d",
   "metadata": {},
   "outputs": [
    {
     "name": "stdout",
     "output_type": "stream",
     "text": [
      "55 45 0.5\n"
     ]
    }
   ],
   "source": [
    "for x in range(51,100):\n",
    "    y = 100-x\n",
    "    Psame = x/100 * (x-1)/99 + y/100 * (y-1)/99\n",
    "    if Psame==0.5:\n",
    "        print(x,y,Psame)\n",
    "        break"
   ]
  },
  {
   "cell_type": "markdown",
   "id": "b23b9ac6",
   "metadata": {},
   "source": [
    "### 12. Mischiare le carte\n",
    "\n",
    "https://www.calenpiario.it/index.php?a=problem&p=54\n",
    "\n",
    "> Considera una pila ordinata di 5.998 fogli numerati a partire da 1 (cioè il primo foglio in alto riporta il numero 1). Ora costruisci una nuova pila nel modo seguente: prendi il primo foglio, poni il secondo sopra il primo e il terzo sotto il primo; procedi quindi iterando il procedimento: il quarto foglio andrà sopra il secondo e il quinto sotto il terzo e così via. Una volta completata l’operazione, vi saranno dei fogli che, nella nuova pila, si troveranno nella stessa posizione in cui si trovavano nella vecchia? In caso affermativo, quali? Scrivi il risultato accostando, in ordine crescente, i numeri che hai trovato."
   ]
  },
  {
   "cell_type": "code",
   "execution_count": 1,
   "id": "66cff6f8",
   "metadata": {},
   "outputs": [
    {
     "name": "stdout",
     "output_type": "stream",
     "text": [
      "2000\n"
     ]
    }
   ],
   "source": [
    "nmax = 5998+1\n",
    "\n",
    "sheets = [x for x in range(1,nmax)]\n",
    "\n",
    "newpile = [sheets[0]]\n",
    "for i,s in enumerate(sheets[1:]):\n",
    "    if (i+1)%2==1:\n",
    "        newpile.append(s)\n",
    "    else:\n",
    "        newpile = [s]+newpile\n",
    "        \n",
    "for s0,s1 in zip(sheets[::-1],newpile):\n",
    "    #print(s0,s1)\n",
    "    if s0==s1:\n",
    "        print(s0)"
   ]
  },
  {
   "cell_type": "markdown",
   "id": "9b4d5ad8",
   "metadata": {},
   "source": [
    "### 13. Solitario matematico\n",
    "\n",
    "https://www.calenpiario.it/index.php?a=problem&p=55\n",
    "\n",
    "> I numeri naturali da 1 a 10 sono scritti su un foglio. Se ne scelgono due a caso $a$ e $b$, si cancellano dalla lista e li si sostituiscono con il numero $a+b+ab$, fino a che non rimane un unico numero. Qual è il massimo valore che può risultare?\n",
    "\n",
    "L'ordine di inizio è irrilevante! Prendendo un esempio più corto, infatti:\n",
    "\n",
    "[a,b,c] -> [(ab+a+b),c] -> [abc + ac + bc + ab + a + b + c] \n",
    "\n",
    "[a,b,c] -> [a,(bc+b+c)] -> [abc + ac + bc + ab + a + b + c]"
   ]
  },
  {
   "cell_type": "code",
   "execution_count": 16,
   "id": "d096f3c4",
   "metadata": {},
   "outputs": [
    {
     "name": "stdout",
     "output_type": "stream",
     "text": [
      "[8, 1, 2, 7, 3, 5, 9, 4, 6, 10]\n",
      "[8, 1, 2, 7, 3, 5, 9, 4, 6, 10]\n",
      "[8, 1, 2, 7, 3, 5, 9, 4, 76]\n",
      "[8, 1, 2, 7, 3, 5, 9, 384]\n",
      "[8, 1, 2, 7, 3, 5, 3849]\n",
      "[8, 1, 2, 7, 3, 23099]\n",
      "[8, 1, 2, 7, 92399]\n",
      "[8, 1, 2, 739199]\n",
      "[8, 1, 2217599]\n",
      "[8, 4435199]\n",
      "[39916799]\n"
     ]
    },
    {
     "data": {
      "text/plain": [
       "39916799"
      ]
     },
     "execution_count": 16,
     "metadata": {},
     "output_type": "execute_result"
    }
   ],
   "source": [
    "from random import shuffle\n",
    "\n",
    "def solitario(values):\n",
    "    print(values)\n",
    "    while len(values)>1:\n",
    "        print(values)\n",
    "        a = values.pop()\n",
    "        b = values.pop()\n",
    "        values.append(a+b+a*b)\n",
    "    print(values)\n",
    "    return values[0]\n",
    "\n",
    "values = [i for i in range(1,11)]\n",
    "shuffle(values)\n",
    "solitario(values)"
   ]
  },
  {
   "cell_type": "markdown",
   "id": "5afaeca6",
   "metadata": {},
   "source": [
    "### 14. Radici di un polinomio\n",
    "\n",
    "https://www.calenpiario.it/index.php?a=problem&p=56\n",
    "\n",
    "> Siano $a$, $b$, $c$ e $d$ le radici del polinomio:\n",
    ">\n",
    "> $p(x) =x^4−8x^3−9x^2+3x+2.$\n",
    "> \n",
    "> Quanto vale l'espressione seguente?\n",
    "> \n",
    "> $\\frac{1}{abc}+ \\frac{1}{abd} +\\frac{1}{acd} + \\frac{1}{bcd}.$\n",
    "\n",
    "$\\frac{1}{abc}+ \\frac{1}{abd} +\\frac{1}{acd} + \\frac{1}{bcd} = \\frac{a+b+c+d}{abcd}$\n",
    "\n",
    "[Le formule di Vieta's](https://en.wikipedia.org/wiki/Vieta%27s_formulas) danno somma e prodotto degli zeri di un un polinomio a partire dai suoi coefficienti:\n",
    "\n",
    "$a+b+c+d = -\\frac{a_{n-1}}{a_n} = -\\frac{-8}{1} = 8$\n",
    "\n",
    "$abcd = (-1)^n\\frac{a_0}{a_n} = \\frac{2}{1} = 2$\n",
    "\n",
    "La soluzione è dunque 4."
   ]
  },
  {
   "cell_type": "markdown",
   "id": "2406409d",
   "metadata": {},
   "source": [
    "### 15. Cateti interi\n",
    "\n",
    "https://www.calenpiario.it/index.php?a=problem&p=57\n",
    "\n",
    "> Le misure dei cateti di un triangolo rettangolo sono numeri naturali (non nulli) e l'ipotenusa misura $2^{99}$. Quanti triangoli rettangoli godono di questa proprietà?\n",
    "\n",
    "Non può esistere una terna pitagorica $(a,b,c)$ con $a < b < c$ e $c = 2^k$. Se anche $2^k$ non fosse membro di una terna pitagorica fondamentale, la sua terna primitiva corrispondente avrebbe un'ipotenusa che sarebbe ancora una potenza di 2 (perché $2^k$ ha solo 2 come fattore primo), un numero che sarebbe comunque pari, e **le terne pitagoriche primitive non hanno ipotenuse pari**. La risposta potrebbe dunque essere 0.\n",
    "\n",
    "L'unica alternativa sarebbe presumere che i cateti $a=b$ siano uguali:\n",
    "\n",
    "$2 a^2 = 2^{2\\times99} = 2^{198}$\n",
    "\n",
    "per cui la risposta al problema potrebbe essere 1, che **è quello che ho inizialmente risposto senza pensarci troppo** (ero in una riunione, non ho verificato in conti per il valore di $a$). **Il sito mi ha risposto che la risposta è corretta**, ma riflettendoci un po' di più la cosa non mi torna. I cateti dovrebbero in questo caso infatti valere:\n",
    "\n",
    "$a^2 = 2^{198-1} = 2^{197}$\n",
    "\n",
    "$a = 2^{98} \\sqrt{2} $\n",
    "\n",
    "che non è un numero intero! Mi chiedo dunque se nel sito non ci sia un problema, perché mi verrebbe da dire che **la risposta dovrebbe essere 0** con inizialmente ipotizzato."
   ]
  },
  {
   "cell_type": "markdown",
   "id": "07fab227",
   "metadata": {},
   "source": [
    "Addendum: https://en.wikipedia.org/wiki/Pythagorean_triple#Special_cases\n",
    "\n",
    "> If $c = p^e$ is a prime power, there exists a primitive Pythagorean triple $a^2 + b^2 = c^2$ if and only if the prime $p$ has the form $4n + 1$; this triple is unique up to the exchange of $a$ and $b$.\n",
    "\n",
    "Nel nostro caso $p=2$ che non ha la forma richiesta, ergo non esite una terna pitagorica primitiva con $c = 2^e$."
   ]
  },
  {
   "cell_type": "code",
   "execution_count": null,
   "id": "012a9cbd",
   "metadata": {},
   "outputs": [],
   "source": []
  }
 ],
 "metadata": {
  "kernelspec": {
   "display_name": "Python 3 (ipykernel)",
   "language": "python",
   "name": "python3"
  },
  "language_info": {
   "codemirror_mode": {
    "name": "ipython",
    "version": 3
   },
   "file_extension": ".py",
   "mimetype": "text/x-python",
   "name": "python",
   "nbconvert_exporter": "python",
   "pygments_lexer": "ipython3",
   "version": "3.10.11"
  }
 },
 "nbformat": 4,
 "nbformat_minor": 5
}
