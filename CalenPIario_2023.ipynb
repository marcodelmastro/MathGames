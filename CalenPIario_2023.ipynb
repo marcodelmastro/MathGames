{
 "cells": [
  {
   "cell_type": "markdown",
   "id": "9db20881",
   "metadata": {},
   "source": [
    "# CalenPIario 2023\n",
    "\n",
    "https://www.calenpiario.it/"
   ]
  },
  {
   "cell_type": "markdown",
   "id": "dd53297d",
   "metadata": {},
   "source": [
    "### 1. Primi e quadrati\n",
    "\n",
    "https://www.calenpiario.it/index.php?a=problem&p=5\n",
    "\n",
    "> Quanti sono i numeri primi che hanno per successivo un quadrato perfetto?\n",
    "\n",
    "<img src=\"./calenpiario_2023/calenpiario2023_01.jpg\" alt=\"\" width=\"600\" align=\"center\"/>"
   ]
  },
  {
   "cell_type": "markdown",
   "id": "8ff449e3",
   "metadata": {},
   "source": [
    "### 2. Doppio o quadrato?\n",
    "\n",
    "https://www.calenpiario.it/index.php?a=problem&p=43\n",
    "\n",
    "> Sulla lavagna si trova scritto il numero 1. La sola mossa permessa è cancellare il numero scritto sulla lavagna e sostituirlo o con il suo doppio o con il suo quadrato. Qual è il numero più grande che si può ottenere in 8 mosse? Scomponi il risultato in fattori primi, e indica come soluzione l'esponente del fattore 2. (Giochi di Archimede 1997)\n",
    "\n",
    "<img src=\"./calenpiario_2023/calenpiario2023_02.jpg\" alt=\"\" width=\"600\" align=\"center\"/>"
   ]
  },
  {
   "cell_type": "code",
   "execution_count": 1,
   "id": "9030497b",
   "metadata": {},
   "outputs": [
    {
     "name": "stdout",
     "output_type": "stream",
     "text": [
      "340282366920938463463374607431768211456\n"
     ]
    }
   ],
   "source": [
    "n = [ 1 ]\n",
    "\n",
    "for steps in range(8):\n",
    "    n_new = []\n",
    "    for i in n:\n",
    "        n_new.append(2*i)\n",
    "        n_new.append(i**2)\n",
    "    n = n_new\n",
    "    \n",
    "n = sorted(n)   \n",
    "print(n[-1])"
   ]
  },
  {
   "cell_type": "code",
   "execution_count": 2,
   "id": "f099dbea",
   "metadata": {},
   "outputs": [
    {
     "data": {
      "text/plain": [
       "340282366920938463463374607431768211456"
      ]
     },
     "execution_count": 2,
     "metadata": {},
     "output_type": "execute_result"
    }
   ],
   "source": [
    "2**(2**7)"
   ]
  },
  {
   "cell_type": "code",
   "execution_count": 3,
   "id": "9cc90ec6",
   "metadata": {},
   "outputs": [
    {
     "data": {
      "text/plain": [
       "128"
      ]
     },
     "execution_count": 3,
     "metadata": {},
     "output_type": "execute_result"
    }
   ],
   "source": [
    "2**7"
   ]
  },
  {
   "cell_type": "markdown",
   "id": "9a637e75",
   "metadata": {},
   "source": [
    "### 3. Un fattoriale un po' più corto\n",
    "\n",
    "https://www.calenpiario.it/index.php?a=problem&p=44\n",
    "\n",
    "> Se prendiamo i numeri da 1 a 2023 e li moltiplichiamo tra loro, otteniamo un multiplo di 2023. Qual è il più piccolo numero di interi positivi consecutivi tali che il loro prodotto sia ancora un multiplo di 2023?\n",
    "\n",
    "Questo qui sopra è il testo originale del problema copiato dalla pagina alle 15:15 del 20/3/2023, modificato poi durante il pomeriggio in:\n",
    "\n",
    "> Se prendiamo i numeri da 1 a 2023 e li moltiplichiamo tra loro, otteniamo un multiplo di 2023. Qual è il più piccolo numero di interi positivi consecutivi, minori di 2023, tali che il loro prodotto sia ancora un multiplo di 2023?\n",
    "\n",
    "L'aggiunta di \"minori di 2023\" dovrebbe servire a evitare la soluzione banale (1 solo numero, 2023), e la risposta attesa sarebbe 18 (con l'implicita richiesta di selezionale la serie di numeri più piccoli):\n",
    "\n",
    "<img src=\"./calenpiario_2023/calenpiario2023_03.jpg\" alt=\"\" width=\"800\" align=\"center\"/>\n",
    "\n",
    "Non esplicitando però la richiesta, il testo non elimina le soluzione con 2, 3, 4, ... numeri:"
   ]
  },
  {
   "cell_type": "code",
   "execution_count": 4,
   "id": "ab7eab49",
   "metadata": {},
   "outputs": [
    {
     "data": {
      "text/plain": [
       "{7: 1, 17: 2}"
      ]
     },
     "execution_count": 4,
     "metadata": {},
     "output_type": "execute_result"
    }
   ],
   "source": [
    "from sympy import factorint\n",
    "\n",
    "factorint(2023)"
   ]
  },
  {
   "cell_type": "code",
   "execution_count": 5,
   "id": "57ce5236",
   "metadata": {},
   "outputs": [
    {
     "data": {
      "text/plain": [
       "([17, 18, 19, 20, 21, 22, 23, 24, 25, 26, 27, 28, 29, 30, 31, 32, 33, 34],\n",
       " 14110584707870682071040000,\n",
       " 0,\n",
       " 18)"
      ]
     },
     "execution_count": 5,
     "metadata": {},
     "output_type": "execute_result"
    }
   ],
   "source": [
    "#N = 17*7-1\n",
    "N = 1\n",
    "\n",
    "values = [ n for n in range(N*17,(N+1)*17+1) ]\n",
    "\n",
    "from functools import reduce\n",
    "from operator import mul\n",
    "\n",
    "prod = reduce(mul,values,1)\n",
    "\n",
    "values, prod, prod%2023, len(values)"
   ]
  },
  {
   "cell_type": "code",
   "execution_count": 6,
   "id": "22a05f0c",
   "metadata": {},
   "outputs": [
    {
     "data": {
      "text/plain": [
       "[([867, 868], 752556), ([1155, 1156], 1335180)]"
      ]
     },
     "execution_count": 6,
     "metadata": {},
     "output_type": "execute_result"
    }
   ],
   "source": [
    "from functools import reduce\n",
    "from operator import mul\n",
    "\n",
    "def series2023(k=2):\n",
    "    series = []\n",
    "    for n in range(1,2023-k+1):\n",
    "        values = [ n+i for i in range(k) ]\n",
    "        prod = reduce(mul,values,1)\n",
    "        if prod%2023==0:\n",
    "            series.append((values,prod))\n",
    "    return series\n",
    "\n",
    "series2023(k=2)"
   ]
  },
  {
   "cell_type": "code",
   "execution_count": 7,
   "id": "699c8c65",
   "metadata": {},
   "outputs": [
    {
     "name": "stdout",
     "output_type": "stream",
     "text": [
      "# k =  2 --> n_series =   2\n",
      "# k =  3 --> n_series =   6\n",
      "# k =  4 --> n_series =  12\n",
      "# k =  5 --> n_series =  20\n",
      "# k =  6 --> n_series =  30\n",
      "# k =  7 --> n_series =  42\n",
      "# k =  8 --> n_series =  48\n",
      "# k =  9 --> n_series =  54\n",
      "# k = 10 --> n_series =  60\n",
      "# k = 11 --> n_series =  66\n",
      "# k = 12 --> n_series =  72\n",
      "# k = 13 --> n_series =  78\n",
      "# k = 14 --> n_series =  84\n",
      "# k = 15 --> n_series =  90\n",
      "# k = 16 --> n_series =  96\n",
      "# k = 17 --> n_series = 102\n",
      "# k = 18 --> n_series = 213\n"
     ]
    }
   ],
   "source": [
    "for k in range(2,19):\n",
    "    series = series2023(k)\n",
    "    print(\"# k = {:2d} --> n_series = {:3d}\".format(k,len(series)))"
   ]
  },
  {
   "cell_type": "markdown",
   "id": "70c731a1",
   "metadata": {},
   "source": [
    "### 4. Calzini\n",
    "\n",
    "https://www.calenpiario.it/index.php?a=problem&p=46\n",
    "\n",
    "> In un cassetto ci sono 6 calzini neri, 14 calzini blu e 8 calzini verdi. Per essere sicuri di avere due calzini dello stesso colore, quanti se ne devono prendere come minimo?\n",
    "\n",
    "Risposta: 4 = $N_{\\rm color} +1$"
   ]
  },
  {
   "cell_type": "markdown",
   "id": "163c09cc",
   "metadata": {},
   "source": [
    "### 5. Corona\n",
    "\n",
    "https://www.calenpiario.it/index.php?a=problem&p=47\n",
    "\n",
    "> I quattro punti evidenziati sono tutti equidistanti: quanti multipli di $\\pi$ vale l'area evidenziata in figura? \n",
    "\n",
    "\n",
    "<img src=\"./calenpiario_2023/calenpiario2023_05.jpg\" alt=\"\" width=\"600\" align=\"center\"/>"
   ]
  },
  {
   "cell_type": "markdown",
   "id": "41f3c156",
   "metadata": {},
   "source": [
    "### 6.  Hamburger\n",
    "\n",
    "https://www.calenpiario.it/index.php?a=problem&p=48\n",
    "\n",
    "> Per cuocere un hamburger occorrono 20 minuti: 10 minuti per cuocere il primo lato, altri 10 per cuocere il secondo. Abbiamo a disposizione una padella che consente di cuocerne due alla volta. Quanti minuti occorreranno per cuocere tre hamburger?\n",
    "\n",
    "Il trucco per ottimizzare la cottura è usare sempre i due posti nella padella. Peraltro la domanda avrebbe dovuto piuttosto essere \"qual è il tempo minimo necessario per cuocere tre hamburger?\".\n",
    "\n",
    "Risposta: 30'\n",
    "\n",
    "<img src=\"./calenpiario_2023/calenpiario2023_06.jpg\" alt=\"\" width=\"600\" align=\"center\"/>"
   ]
  },
  {
   "cell_type": "markdown",
   "id": "6d4c1e5a",
   "metadata": {},
   "source": [
    "### 7. Il maggiore Tom\n",
    "\n",
    "https://www.calenpiario.it/index.php?a=problem&p=49\n",
    "\n",
    "> Il maggiore Tom è atterrato su un pianeta popolato da gatti viola, che dicono sempre la verità, e da gatti neri, che mentono sempre. Nel buio più completo incontra 5 gatti, che si rivolgono a lui nel modo seguente. Primo gatto: \"Sono viola\"; secondo gatto: \"Almeno 3 di noi sono viola\", terzo gatto: \"Il primo gatto è nero\", quarto gatto: \"Almeno 3 di noi sono neri\", quinto gatto: \"Siamo tutti neri\". Quanti dei 5 gatti sono viola?\n",
    "\n",
    "<img src=\"./calenpiario_2023/calenpiario2023_07.jpg\" alt=\"\" width=\"600\" align=\"center\"/>"
   ]
  },
  {
   "cell_type": "markdown",
   "id": "d8d0d9a3",
   "metadata": {},
   "source": [
    "### 8. Arbelo\n",
    "\n",
    "https://www.calenpiario.it/index.php?a=problem&p=50\n",
    "\n",
    "> Quanti multipli di $\\pi$ vale l'area evidenziata in figura?\n",
    "\n",
    "<img src=\"./calenpiario_2023/calenpiario2023_08.jpg\" alt=\"\" width=\"600\" align=\"center\"/>\n",
    "\n",
    "L'area dell'arbelo è uguale a quelle del cerchio di diametro pari al segmento tra i due semicerchi interni e quello esterno. In questo caso il diametro è 2, dunque la risposta è 1."
   ]
  },
  {
   "cell_type": "markdown",
   "id": "52d3660d",
   "metadata": {},
   "source": [
    "### 9. Prodotto minimo\n",
    "\n",
    "https://www.calenpiario.it/index.php?a=problem&p=51\n",
    "\n",
    "> Se a, b sono numeri reali positivi tali che a+b=1, quanto è il minimo valore possibile per il prodotto (1+1/a)(1+1/b)?\n",
    "\n",
    "$a+b=1$\n",
    "\n",
    "$y = (1+\\frac{1}{a})(1+\\frac{1}{b})$ \n",
    "\n",
    "$y = (1+\\frac{1}{1-b})(1+\\frac{1}{b})$ \n",
    "\n",
    "$f(b) = 1+\\frac{1}{b}$\n",
    "\n",
    "$y = f(b) f(1-b)$\n",
    "\n",
    "$a+b=1$ dunque $a$ e $b$ sono definiti in [0,1]. $f(b)$ e $f(1-b)$ sono  simmetriche nell'intervallo [0,1], con $f(b)$ crescente e $f(1-b)$ decrescente: si incrociano dunque in 0.5 dove deve trovarsi il mimimo. In quel punto $y==9$.\n",
    "\n",
    "Analiticamente:\n",
    "\n",
    "$\\frac{d}{db}\\left( (1+\\frac{1}{1-b})(1+\\frac{1}{b}) \\right) = \\frac{(4 b - 2)}{(b^2 (1 - b)^2)}$\n",
    "\n",
    "che si annulla per $(4 b - 2) = 0$, ovvero per $b = 1/2$"
   ]
  },
  {
   "cell_type": "code",
   "execution_count": 8,
   "id": "cde3d88b",
   "metadata": {},
   "outputs": [
    {
     "data": {
      "image/png": "[encoded data removed]",
      "text/plain": [
       "<Figure size 640x480 with 1 Axes>"
      ]
     },
     "metadata": {},
     "output_type": "display_data"
    }
   ],
   "source": [
    "import matplotlib.pyplot as plt\n",
    "import numpy as np\n",
    "\n",
    "b = np.linspace(0.01,0.99,98)\n",
    "\n",
    "y1 = (1+1/(1-b))\n",
    "y2 = (1+1/b)\n",
    "y = y1*y2\n",
    "\n",
    "fig = plt.figure()\n",
    "ax = fig.add_subplot(1, 1, 1)\n",
    "\n",
    "ax.spines['right'].set_color('none')\n",
    "ax.spines['top'].set_color('none')\n",
    "ax.xaxis.set_ticks_position('bottom')\n",
    "ax.yaxis.set_ticks_position('left')\n",
    "\n",
    "plt.plot(b,y1,'b--')\n",
    "plt.plot(b,y2,'g--')\n",
    "plt.plot(b,y, 'r')\n",
    "plt.show()"
   ]
  },
  {
   "cell_type": "markdown",
   "id": "153fd4a3-8233-4153-814d-5df15779a950",
   "metadata": {
    "tags": []
   },
   "source": [
    "### 10. Triangolazione\n",
    "\n",
    "https://www.calenpiario.it/index.php?a=problem&p=52\n",
    "\n",
    "> Quanto vale il rapporto tra l'area del triangolo grande e quella del triangolo colorato?\n",
    "\n",
    "[One-seventh area triangle](https://en.wikipedia.org/wiki/One-seventh_area_triangle)\n",
    "\n",
    "Risposta: 7\n",
    "\n",
    "<img src=\"./calenpiario_2023/calenpiario2023_10.jpg\" alt=\"\" width=\"600\" align=\"center\"/>"
   ]
  },
  {
   "cell_type": "markdown",
   "id": "86a58219",
   "metadata": {},
   "source": [
    "### 10. Probabilità asimmetrica\n",
    "\n",
    "https://www.calenpiario.it/index.php?a=problem&p=53\n",
    "\n",
    "> Un'urna contiene 100 palline colorate di bianco oppure di nero. Sappiamo che ci sono più palline bianche che palline nere, e che se si estraggono contemporaneamente due palline, la probabilità che siano entrambe dello stesso colore è uguale a quella che siano di colore diverso. Quante sono le palline bianche?\n",
    "\n",
    "<img src=\"./calenpiario_2023/calenpiario2023_11.jpg\" alt=\"\" width=\"600\" align=\"center\"/>"
   ]
  },
  {
   "cell_type": "code",
   "execution_count": 9,
   "id": "cb7834ca-175f-4c41-b656-4125e25af32d",
   "metadata": {},
   "outputs": [
    {
     "name": "stdout",
     "output_type": "stream",
     "text": [
      "55 45 0.5\n"
     ]
    }
   ],
   "source": [
    "for x in range(51,100):\n",
    "    y = 100-x\n",
    "    Psame = x/100 * (x-1)/99 + y/100 * (y-1)/99\n",
    "    if Psame==0.5:\n",
    "        print(x,y,Psame)\n",
    "        break"
   ]
  },
  {
   "cell_type": "markdown",
   "id": "b23b9ac6",
   "metadata": {},
   "source": [
    "### 12. Mischiare le carte\n",
    "\n",
    "https://www.calenpiario.it/index.php?a=problem&p=54\n",
    "\n",
    "> Considera una pila ordinata di 5.998 fogli numerati a partire da 1 (cioè il primo foglio in alto riporta il numero 1). Ora costruisci una nuova pila nel modo seguente: prendi il primo foglio, poni il secondo sopra il primo e il terzo sotto il primo; procedi quindi iterando il procedimento: il quarto foglio andrà sopra il secondo e il quinto sotto il terzo e così via. Una volta completata l’operazione, vi saranno dei fogli che, nella nuova pila, si troveranno nella stessa posizione in cui si trovavano nella vecchia? In caso affermativo, quali? Scrivi il risultato accostando, in ordine crescente, i numeri che hai trovato."
   ]
  },
  {
   "cell_type": "code",
   "execution_count": 10,
   "id": "66cff6f8",
   "metadata": {},
   "outputs": [
    {
     "name": "stdout",
     "output_type": "stream",
     "text": [
      "2000\n"
     ]
    }
   ],
   "source": [
    "nmax = 5998+1\n",
    "\n",
    "sheets = [x for x in range(1,nmax)]\n",
    "\n",
    "newpile = [sheets[0]]\n",
    "for i,s in enumerate(sheets[1:]):\n",
    "    if (i+1)%2==1:\n",
    "        newpile.append(s)\n",
    "    else:\n",
    "        newpile = [s]+newpile\n",
    "        \n",
    "for s0,s1 in zip(sheets[::-1],newpile):\n",
    "    #print(s0,s1)\n",
    "    if s0==s1:\n",
    "        print(s0)"
   ]
  },
  {
   "cell_type": "markdown",
   "id": "9b4d5ad8",
   "metadata": {},
   "source": [
    "### 13. Solitario matematico\n",
    "\n",
    "https://www.calenpiario.it/index.php?a=problem&p=55\n",
    "\n",
    "> I numeri naturali da 1 a 10 sono scritti su un foglio. Se ne scelgono due a caso $a$ e $b$, si cancellano dalla lista e li si sostituiscono con il numero $a+b+ab$, fino a che non rimane un unico numero. Qual è il massimo valore che può risultare?\n",
    "\n",
    "L'ordine di inizio è irrilevante! Prendendo un esempio più corto, infatti:\n",
    "\n",
    "[a,b,c] -> [(ab+a+b),c] -> [abc + ac + bc + ab + a + b + c] \n",
    "\n",
    "[a,b,c] -> [a,(bc+b+c)] -> [abc + ac + bc + ab + a + b + c]"
   ]
  },
  {
   "cell_type": "code",
   "execution_count": 11,
   "id": "d096f3c4",
   "metadata": {},
   "outputs": [
    {
     "name": "stdout",
     "output_type": "stream",
     "text": [
      "[1, 6, 3, 2, 4, 5, 10, 9, 7, 8]\n",
      "[1, 6, 3, 2, 4, 5, 10, 9, 7, 8]\n",
      "[1, 6, 3, 2, 4, 5, 10, 9, 71]\n",
      "[1, 6, 3, 2, 4, 5, 10, 719]\n",
      "[1, 6, 3, 2, 4, 5, 7919]\n",
      "[1, 6, 3, 2, 4, 47519]\n",
      "[1, 6, 3, 2, 237599]\n",
      "[1, 6, 3, 712799]\n",
      "[1, 6, 2851199]\n",
      "[1, 19958399]\n",
      "[39916799]\n"
     ]
    },
    {
     "data": {
      "text/plain": [
       "39916799"
      ]
     },
     "execution_count": 11,
     "metadata": {},
     "output_type": "execute_result"
    }
   ],
   "source": [
    "from random import shuffle\n",
    "\n",
    "def solitario(values):\n",
    "    print(values)\n",
    "    while len(values)>1:\n",
    "        print(values)\n",
    "        a = values.pop()\n",
    "        b = values.pop()\n",
    "        values.append(a+b+a*b)\n",
    "    print(values)\n",
    "    return values[0]\n",
    "\n",
    "values = [i for i in range(1,11)]\n",
    "shuffle(values)\n",
    "solitario(values)"
   ]
  },
  {
   "cell_type": "markdown",
   "id": "5afaeca6",
   "metadata": {},
   "source": [
    "### 14. Radici di un polinomio\n",
    "\n",
    "https://www.calenpiario.it/index.php?a=problem&p=56\n",
    "\n",
    "> Siano $a$, $b$, $c$ e $d$ le radici del polinomio:\n",
    ">\n",
    "> $p(x) =x^4−8x^3−9x^2+3x+2.$\n",
    "> \n",
    "> Quanto vale l'espressione seguente?\n",
    "> \n",
    "> $\\frac{1}{abc}+ \\frac{1}{abd} +\\frac{1}{acd} + \\frac{1}{bcd}.$\n",
    "\n",
    "$\\frac{1}{abc}+ \\frac{1}{abd} +\\frac{1}{acd} + \\frac{1}{bcd} = \\frac{a+b+c+d}{abcd}$\n",
    "\n",
    "[Le formule di Vieta's](https://en.wikipedia.org/wiki/Vieta%27s_formulas) danno somma e prodotto degli zeri di un un polinomio a partire dai suoi coefficienti:\n",
    "\n",
    "$a+b+c+d = -\\frac{a_{n-1}}{a_n} = -\\frac{-8}{1} = 8$\n",
    "\n",
    "$abcd = (-1)^n\\frac{a_0}{a_n} = \\frac{2}{1} = 2$\n",
    "\n",
    "La soluzione è dunque 4."
   ]
  },
  {
   "cell_type": "markdown",
   "id": "2406409d",
   "metadata": {},
   "source": [
    "### 15. Cateti interi\n",
    "\n",
    "https://www.calenpiario.it/index.php?a=problem&p=57\n",
    "\n",
    "> Le misure dei cateti di un triangolo rettangolo sono numeri naturali (non nulli) e l'ipotenusa misura $2^{99}$. Quanti triangoli rettangoli godono di questa proprietà?\n",
    "\n",
    "Non può esistere una terna pitagorica $(a,b,c)$ con $a < b < c$ e $c = 2^k$. Se anche $2^k$ non fosse membro di una terna pitagorica fondamentale, la sua terna primitiva corrispondente avrebbe un'ipotenusa che sarebbe ancora una potenza di 2 (perché $2^k$ ha solo 2 come fattore primo), un numero che sarebbe comunque pari, e **le terne pitagoriche primitive non hanno ipotenuse pari**. La risposta potrebbe dunque essere 0.\n",
    "\n",
    "L'unica alternativa sarebbe presumere che i cateti $a=b$ siano uguali:\n",
    "\n",
    "$2 a^2 = 2^{2\\times99} = 2^{198}$\n",
    "\n",
    "per cui la risposta al problema potrebbe essere 1 (che **è quello che ho inizialmente risposto senza pensarci troppo**: ero in una riunione, non ho verificato in conti per il valore di $a$. **Il sito mi ha risposto che la risposta è corretta**, ma riflettendoci un po' di più la cosa non mi torna!). I cateti dovrebbero in questo caso  valere:\n",
    "\n",
    "$a^2 = 2^{198-1} = 2^{197}$\n",
    "\n",
    "$a = 2^{98} \\sqrt{2} $\n",
    "\n",
    "che non è un numero intero! \n",
    "\n",
    "Mi chiedo dunque se nel sito non ci sia un problema, perché mi verrebbe da dire che **la risposta dovrebbe essere 0** con inizialmente ipotizzato."
   ]
  },
  {
   "cell_type": "markdown",
   "id": "07fab227",
   "metadata": {},
   "source": [
    "#### Aggiornamento 1\n",
    "\n",
    "https://en.wikipedia.org/wiki/Pythagorean_triple#Special_cases\n",
    "\n",
    "> If $c = p^e$ is a prime power, there exists a primitive Pythagorean triple $a^2 + b^2 = c^2$ if and only if the prime $p$ has the form $4n + 1$; this triple is unique up to the exchange of $a$ and $b$.\n",
    "\n",
    "Nel nostro caso $p=2$ che non ha la forma richiesta, ergo non esite una terna pitagorica primitiva con $c = 2^e$."
   ]
  },
  {
   "cell_type": "markdown",
   "id": "9bca36c8",
   "metadata": {},
   "source": [
    "#### Aggiornamento 2\n",
    "\n",
    "Zar [dice](http://www.frenf.it/earlyadopters/p/marcodelmastro/1086384):\n",
    "\n",
    "> Accidenti, errore nel testo. Il *quadrato* dell'ipotenusa è 2^99 \n",
    "\n",
    "**Che barba che noia, un altro errore!** \n",
    "\n",
    "In questo caso l'ipostenusa non sarebbe intera (sic!) e varrebbe:\n",
    "\n",
    "$c = 2^{49}\\sqrt{2}$\n",
    "\n",
    "L'unica soluzione possibile in questo caso è per $a=b$ e:\n",
    "\n",
    "$2 a^2 = 2^{99}$\n",
    "\n",
    "$a = 2^{99-1} / 2 = 2^{49}$\n",
    "\n",
    "che immagino fosse la soluzione attesa (1 solo quadrato con cateti interi possibile)."
   ]
  },
  {
   "cell_type": "markdown",
   "id": "a44053bc",
   "metadata": {},
   "source": [
    "### 16. Cateti e ipotenusa interi\n",
    "\n",
    "https://www.calenpiario.it/index.php?a=problem&p=58\n",
    "\n",
    "> Le misure dei lati di un triangolo rettangolo sono numeri interi primi tra loro. Quanti triangoli di questo tipo esistono, sapendo che uno dei lati misura $2^{99}$ ?\n",
    "\n",
    "Una variazione del problema precedente, questa volta chiedendo che tutti i lati siano interi. \n",
    "\n",
    "Perché un triangolo rettangolo soddisfi la richiesta del problema bisogno che i suoi lati appartengano a un terna pitagorica, uno de cui membri sia 2^99. \n",
    "\n",
    "Ho inizialmente pensato che questa terna pitagorica non fosse primitiva, e che bastasse cercare le terne primitive che contenessero un elemento che fosse una potenza di 2. Il problema di questo ragionamento è che i triangoli corrispondenti non avrebbero membri **primi tra loro**, perché avrebbero in comune il fattore $2^{99-n}$ che scalarebbe l'elemento $2^n$, come in questi due esempi, che dunque non soddisfano completamente l'enunciato del problema (hanno un elemento pari a $2^{99}$, ma gli elementi non sono primi tra loro):"
   ]
  },
  {
   "cell_type": "code",
   "execution_count": 12,
   "id": "63db115e",
   "metadata": {},
   "outputs": [
    {
     "name": "stdout",
     "output_type": "stream",
     "text": [
      "[475368975085586025561263702016 633825300114114700748351602688\n",
      " 792281625142643375935439503360] True True\n",
      "[633825300114114700748351602688 1188422437713965063903159255040\n",
      " 1346878762742493739090247155712] True True\n"
     ]
    }
   ],
   "source": [
    "import numpy as np\n",
    "\n",
    "def isSquareTriangle(tt):\n",
    "    return tt[0]*tt[0] + tt[1]*tt[1] == tt[2]*tt[2]\n",
    "\n",
    "f = 2**99\n",
    "\n",
    "t1 = (3, 4, 5)   ; f1 = 2 ** 97\n",
    "t2 = (8, 15, 17) ; f2 = 2 ** 96\n",
    "\n",
    "tt1 = np.array( t1 ) * f1\n",
    "tt2 = np.array( t2 ) * f2\n",
    "\n",
    "print(tt1, f in tt1, isSquareTriangle(tt1))\n",
    "print(tt2, f in tt2, isSquareTriangle(tt1))"
   ]
  },
  {
   "cell_type": "markdown",
   "id": "1702bc35",
   "metadata": {},
   "source": [
    "Considerando la richiesta della co-primità dei lati, le risposte possibili sono solo 0 o 1: o non esiste nessuna terna pitagorica primitiva che contenga 2^99, o ne esiste una sola. Siccome posso sempre generare una terna pitagoria con un numero pari e due numeri dispari, la soluzione nulla è da scartare, e **la soluzione 1 è quella che scelgo.**\n",
    "\n",
    "Altra questione è invece trovare la terna buona!"
   ]
  },
  {
   "cell_type": "markdown",
   "id": "269ac37a",
   "metadata": {},
   "source": [
    "### Generazione esplicita del risultato\n",
    "\n",
    "Sequendo l'agoritmo proposto in:\n",
    "\n",
    "https://arxiv.org/pdf/1201.2145.pdf\n",
    "\n",
    "la tripla pitagorica primitiva con un fattore pari a $2^m$ è costruita come:\n",
    "\n",
    "$T = (2^m, 2^{2m-2}-1, 2^{2m-2}+1)$"
   ]
  },
  {
   "cell_type": "code",
   "execution_count": 13,
   "id": "878400ab",
   "metadata": {},
   "outputs": [],
   "source": [
    "def triple(m):\n",
    "    return (2**m, 2**(2*m-2)-1, 2**(2*m-2)+1)"
   ]
  },
  {
   "cell_type": "code",
   "execution_count": 14,
   "id": "8c1e7e3f",
   "metadata": {},
   "outputs": [
    {
     "data": {
      "text/plain": [
       "((4, 3, 5), True)"
      ]
     },
     "execution_count": 14,
     "metadata": {},
     "output_type": "execute_result"
    }
   ],
   "source": [
    "t2 = triple(2)\n",
    "t2, isSquareTriangle(t2)"
   ]
  },
  {
   "cell_type": "code",
   "execution_count": 15,
   "id": "2c7da280",
   "metadata": {},
   "outputs": [
    {
     "data": {
      "text/plain": [
       "((633825300114114700748351602688,\n",
       "  100433627766186892221372630771322662657637687111424552206335,\n",
       "  100433627766186892221372630771322662657637687111424552206337),\n",
       " True)"
      ]
     },
     "execution_count": 15,
     "metadata": {},
     "output_type": "execute_result"
    }
   ],
   "source": [
    "t99 = triple(99)\n",
    "t99, isSquareTriangle(t99)"
   ]
  },
  {
   "cell_type": "markdown",
   "id": "134cd719",
   "metadata": {},
   "source": [
    "### 17. Solido composto\n",
    "\n",
    "https://www.calenpiario.it/index.php?a=problem&p=59\n",
    "\n",
    "> Una piramide a base quadrata ha le facce laterali che sono triangoli equilateri. Se su una di queste facce costruiamo un tetraedro regolare, quante facce avrà il solido risultante?\n",
    "\n",
    "<img src=\"./calenpiario_2023/calenpiario2023_17.jpg\" alt=\"\" width=\"600\" align=\"center\"/>"
   ]
  },
  {
   "cell_type": "markdown",
   "id": "e310fcf7",
   "metadata": {},
   "source": [
    "### 18. Sette dadi\n",
    "\n",
    "https://www.calenpiario.it/index.php?a=problem&p=60\n",
    "\n",
    "> Qual è la probabilità di ottenere un multiplo di 7 lanciando 7 dadi a sei facce e sommando i risultati? Scrivi la risposta accostando numeratore e denominatore della frazione risultante ridotta ai minimi termini.\n",
    "\n",
    "Brute force!"
   ]
  },
  {
   "cell_type": "code",
   "execution_count": 16,
   "id": "37256cf1",
   "metadata": {},
   "outputs": [
    {
     "name": "stdout",
     "output_type": "stream",
     "text": [
      "39990 / 279936 = 6665 / 46656 --> 666546656\n"
     ]
    }
   ],
   "source": [
    "from math import gcd\n",
    "\n",
    "ntot = 0\n",
    "nsev = 0\n",
    "for d1 in range(1,7):\n",
    "    for d2 in range(1,7):\n",
    "        for d3 in range(1,7):\n",
    "            for d4 in range(1,7):\n",
    "                for d5 in range(1,7):\n",
    "                    for d6 in range(1,7):\n",
    "                        for d7 in range(1,7):\n",
    "                            s = d1+d2+d3+d4+d5+d6+d7\n",
    "                            ntot += 1\n",
    "                            if s%7==0:\n",
    "                                nsev += 1\n",
    "                                \n",
    "g = gcd(nsev,ntot)\n",
    "n = nsev//g\n",
    "d = ntot//g\n",
    "print(\"{} / {} = {} / {} --> {}{}\".format(nsev,ntot,n,d,n,d))"
   ]
  },
  {
   "cell_type": "markdown",
   "id": "cea38a46",
   "metadata": {},
   "source": [
    "### 19. Sezione aurea\n",
    "\n",
    "https://www.calenpiario.it/index.php?a=problem&p=61\n",
    "\n",
    "> La funzione  $f(x)$ è definita sui numeri reali ed è tale che\n",
    ">\n",
    "> $f(f(x)) = x^2 - x - 1$\n",
    ">\n",
    "> Quanto vale $f(0)$?\n",
    "\n",
    "Il problema ha l'ennesimo errore di formulazione, e così come è proposto non si può risolvere. La funzione avrebbe dovuto essere:\n",
    "\n",
    "$f(f(x)) = x^2 - x + 1$\n",
    "\n",
    "Nel qual caso $f(0)=1$:\n",
    "\n",
    "<img src=\"./calenpiario_2023/BalticWay2011-A5.PNG\" alt=\"\" width=\"600\" align=\"center\"/>\n",
    "\n",
    "http://www.math.olympiaadid.ut.ee/eng/archive/bw/bw11sol.pdf (problema A-5).\n",
    "\n",
    "A parte il fastidioso errore che mi ha portato a riempire pagine di tentativi di soluzione della formulazione errata, il problema è stato l'occasione di scoprire il concetto di [radice quadrata funzionale](https://en.wikipedia.org/wiki/Functional_square_root), e di tutti gli studi teorici sull'esistenza e il possibile calcolo (locale, approssimato) di queste funzioni:\n",
    "\n",
    "* **Iterative Roots and Fractional Iteration: https://reglos.de/lars/ffx.html**\n",
    "* Solving $f(f(x))=g(x)$: https://mathoverflow.net/questions/17614/solving-ffx-gx\n"
   ]
  },
  {
   "cell_type": "markdown",
   "id": "7965c66c",
   "metadata": {},
   "source": [
    "### 20. Partizioni\n",
    "\n",
    "https://www.calenpiario.it/index.php?a=problem&p=62\n",
    "\n",
    "> Mi chiamo EVA, e ti propongo un gioco. Ho tre tesserine con le tre lettere che compongono il mio nome, e le distribuisco in sacchetti. Posso metterle tutte e tre in un sacchetto (una possibilità), oppure ogni lettera in un sacchetto diverso (una possibilità). Oppure posso metterne una in un sacchetto e le altre due in un altro (tre possibilità, a seconda della lettera che lascio da sola). In totale ho 5 possibilità. Ti chiami LIUTPRANDO. Quante possibilità hai?\n",
    "\n",
    "Using [Inclusion–exclusion_principle](https://en.wikipedia.org/wiki/Inclusion–exclusion_principle) to compute how to **distribute $n$ distict things among $r$ distinct groups** such that each group get at least 1 object:\n",
    "\n",
    "$N(n,r) = r^n + \\sum_{k=1}^{r-1} (-1)^{k+1} \\binom{r}{r-k} k^n $\n",
    "\n",
    "then **summing on all possible number of bags $r \\in [1,n]$ while normalizing to $r!$ to account for the fact that bags are not distinct** as groups are in Inclusion-Exclusion principle."
   ]
  },
  {
   "cell_type": "code",
   "execution_count": 41,
   "id": "d7dce3a2",
   "metadata": {},
   "outputs": [],
   "source": [
    "from math import factorial\n",
    "from scipy.special import binom\n",
    "\n",
    "def InclusionExclusion(N,R):\n",
    "    i = 0\n",
    "    s = 0\n",
    "    for r in range(R,0,-1):\n",
    "        b = binom(R,i)\n",
    "        i += 1\n",
    "        k = (-1)**(i+1)\n",
    "        s += k*b*r**N\n",
    "    return int(s)\n",
    "\n",
    "def bags(N):\n",
    "    partitions = [InclusionExclusion(N,i) // factorial(i) for i in range(1,N+1) ]\n",
    "    #print(partitions)\n",
    "    return sum(partitions)"
   ]
  },
  {
   "cell_type": "code",
   "execution_count": 44,
   "id": "19e76fd3",
   "metadata": {},
   "outputs": [
    {
     "data": {
      "text/plain": [
       "5"
      ]
     },
     "execution_count": 44,
     "metadata": {},
     "output_type": "execute_result"
    }
   ],
   "source": [
    "bags(len(\"EVA\"))"
   ]
  },
  {
   "cell_type": "code",
   "execution_count": 45,
   "id": "b524a392",
   "metadata": {},
   "outputs": [
    {
     "data": {
      "text/plain": [
       "115975"
      ]
     },
     "execution_count": 45,
     "metadata": {},
     "output_type": "execute_result"
    }
   ],
   "source": [
    "bags(len(\"LIUTPRANDO\"))"
   ]
  },
  {
   "cell_type": "markdown",
   "id": "aa3ba690",
   "metadata": {},
   "source": [
    "#### Recursive solution"
   ]
  },
  {
   "cell_type": "code",
   "execution_count": 50,
   "id": "1b389caa",
   "metadata": {},
   "outputs": [],
   "source": [
    "def partitions(n):\n",
    "    if n==1:\n",
    "        return [1]\n",
    "    elif n==2:\n",
    "        return [1,1]\n",
    "    else:\n",
    "        p = [1]\n",
    "        p1 = partitions(n-1)\n",
    "        for i in range(2,n):\n",
    "            p.append( p1[i-2] + i * p1[i-1] )\n",
    "        p.append(1)\n",
    "        return p\n",
    "    \n",
    "def bagsRec(n):\n",
    "    return sum(partitions(n))"
   ]
  },
  {
   "cell_type": "code",
   "execution_count": 51,
   "id": "b88a873d",
   "metadata": {},
   "outputs": [
    {
     "data": {
      "text/plain": [
       "115975"
      ]
     },
     "execution_count": 51,
     "metadata": {},
     "output_type": "execute_result"
    }
   ],
   "source": [
    "bagsRec(len(\"LIUTPRANDO\"))"
   ]
  },
  {
   "cell_type": "markdown",
   "id": "3efb340f",
   "metadata": {},
   "source": [
    "### 21. Cateti e ipotenusa interi II\n",
    "\n",
    "> Le misure dei lati di un triangolo rettangolo sono numeri interi. Quanti triangoli di questo tipo esistono, sapendo che uno dei lati misura $2^{99}$?\n",
    "\n",
    "Dal problema 16 so che posso generare una terna pitagorica primitiva contenente una potenza di 2 con la formula:\n",
    "\n",
    "$T = (2^m, 2^{2m-2}-1, 2^{2m-2}+1)$\n",
    "\n",
    "Da ognuna di queste terne posso ricavare una terna non primimitiva che contiene $2^{99}$ scalando i lati di un fattore $2^{99-m}$, ottenendo una terna che soddisfa la richiesta del problema (questa volta i lati non devono essere primi tra loro).\n",
    "\n",
    "Il minimo valore di $m$ è 2 (che genera (4,3,5)), il massimo 99, ci sono dunque **98** triangoli che soddisfano la richiesta del problema.\n",
    "\n",
    "Sotto la generazione esplicita di tutti i triangoli:"
   ]
  },
  {
   "cell_type": "code",
   "execution_count": 252,
   "id": "e6d673e7",
   "metadata": {
    "scrolled": false
   },
   "outputs": [
    {
     "name": "stdout",
     "output_type": "stream",
     "text": [
      "Triangolo 1: [633825300114114700748351602688 475368975085586025561263702016\n",
      " 792281625142643375935439503360]\n",
      "Triangolo 2: [633825300114114700748351602688 1188422437713965063903159255040\n",
      " 1346878762742493739090247155712]\n",
      "Triangolo 3: [633825300114114700748351602688 2495687119199326634196634435584\n",
      " 2574915281713590971790178385920]\n",
      "Triangolo 4: [633825300114114700748351602688 5050795360284351521588426833920\n",
      " 5090409441541483690385198809088]\n",
      "Triangolo 5: [633825300114114700748351602688 10131301281511552169774432649216\n",
      " 10151108322140118254172818636800]\n",
      "Triangolo 6: [633825300114114700748351602688 20277457843494528902847654789120\n",
      " 20287361363808811945046847782912]\n",
      "Triangolo 7: [633825300114114700748351602688 40562343327224770087344704323584\n",
      " 40567295087381911608444300820480]\n",
      "Triangolo 8: [633825300114114700748351602688 81128400474567396315514106019840\n",
      " 81130876354645967076063904268288]\n",
      "Triangolo 9: [633825300114114700748351602688 162258657859193720701440560726016\n",
      " 162259895799233006081715459850240]\n",
      "Triangolo 10: [633825300114114700748351602688 324518244173416905438087295795200\n",
      " 324518863143436548128224745357312]\n",
      "Triangolo 11: [633825300114114700748351602688 649036952574348542893777678761984\n",
      " 649037262059358364238846403543040]\n",
      "Triangolo 12: [633825300114114700748351602688 1298074137262454451796356901109760\n",
      " 1298074292004959362468891263500288]\n",
      "Triangolo 13: [633825300114114700748351602688 2596148390581787586597114574012416\n",
      " 2596148467953040041933381755207680]\n",
      "Triangolo 14: [633825300114114700748351602688 5192296839192014514696429533921280\n",
      " 5192296877877640742364563124518912]\n",
      "Triangolo 15: [633825300114114700748351602688 10384593707398248700143959260790784\n",
      " 10384593726741061813978026056089600]\n",
      "Triangolo 16: [633825300114114700748351602688 20769187429303607235663468618055680\n",
      " 20769187438975013792580502015705088]\n",
      "Triangolo 17: [633825300114114700748351602688 41538374865860769389014712284348416\n",
      " 41538374870696472667473228983173120]\n",
      "Triangolo 18: [633825300114114700748351602688 83076749735348316236873312092815360\n",
      " 83076749737766167876102570442227712]\n",
      "Triangolo 19: [633825300114114700748351602688 166153499472510021203168567947689984\n",
      " 166153499473718947022783197122396160]\n",
      "Triangolo 20: [633825300114114700748351602688 332306998945926736771048107776409600\n",
      " 332306998946531199680855422363762688]\n",
      "Triangolo 21: [633825300114114700748351602688 664613997892306820724451701493334016\n",
      " 664613997892609052179355358787010560]\n",
      "Triangolo 22: [633825300114114700748351602688 1329227995784840315040081145956925440\n",
      " 1329227995784991430767532974603763712]\n",
      "Triangolo 23: [633825300114114700748351602688 2658455991569793966875751163398979584\n",
      " 2658455991569869524739477077722398720]\n",
      "Triangolo 24: [633825300114114700748351602688 5316911983139644602149296762540523520\n",
      " 5316911983139682381081159719702233088]\n",
      "Triangolo 25: [633825300114114700748351602688 10633823966279317538497490742952329216\n",
      " 10633823966279336427963422221533184000]\n",
      "Triangolo 26: [633825300114114700748351602688 21267647932558649244094430094840299520\n",
      " 21267647932558658688827395834130726912]\n",
      "Triangolo 27: [633825300114114700748351602688 42535295865117305571738584494148419584\n",
      " 42535295865117310294105067363793633280]\n",
      "Triangolo 28: [633825300114114700748351602688 85070591730234614685252031140530749440\n",
      " 85070591730234617046435272575353356288]\n",
      "Triangolo 29: [633825300114114700748351602688 170141183460469231141391493357178454016\n",
      " 170141183460469232321983114074589757440]\n",
      "Triangolo 30: [633825300114114700748351602688 340282366920938463168226702252415385600\n",
      " 340282366920938463758522512611121037312]\n",
      "Triangolo 31: [633825300114114700748351602688 680564733841876926779175262273860009984\n",
      " 680564733841876927074323167453212835840]\n",
      "Triangolo 32: [633825300114114700748351602688 1361129467683753853779711453432234639360\n",
      " 1361129467683753853927285406021911052288]\n",
      "Triangolo 33: [633825300114114700748351602688 2722258935367507707670103371306726588416\n",
      " 2722258935367507707743890347601564794880]\n",
      "Triangolo 34: [633825300114114700748351602688 5444517870735015415395546974834581831680\n",
      " 5444517870735015415432440462982000934912]\n",
      "Triangolo 35: [633825300114114700748351602688 10889035741470030830818764065779727990784\n",
      " 10889035741470030830837210809853437542400]\n",
      "Triangolo 36: [633825300114114700748351602688 21778071482940061661651363189614738145280\n",
      " 21778071482940061661660586561651592921088]\n",
      "Triangolo 37: [633825300114114700748351602688 43556142965880123323309643908257117372416\n",
      " 43556142965880123323314255594275544760320]\n",
      "Triangolo 38: [633825300114114700748351602688 87112285931760246646622746581028055285760\n",
      " 87112285931760246646625052424037268979712]\n",
      "Triangolo 39: [633825300114114700748351602688 174224571863520493293247222544313020841984\n",
      " 174224571863520493293248375465817627688960]\n",
      "Triangolo 40: [633825300114114700748351602688 348449143727040986586495309779754496819200\n",
      " 348449143727040986586495886240506800242688]\n",
      "Triangolo 41: [633825300114114700748351602688 696898287454081973172991051905073221206016\n",
      " 696898287454081973172991340135449372917760]\n",
      "Triangolo 42: [633825300114114700748351602688\n",
      " 1393796574908163946345982319982928556195840\n",
      " 1393796574908163946345982464098116632051712]\n",
      "Triangolo 43: [633825300114114700748351602688\n",
      " 2787593149816327892691964748052248169283584\n",
      " 2787593149816327892691964820109842207211520]\n",
      "Triangolo 44: [633825300114114700748351602688\n",
      " 5575186299632655785383929550147691867013120\n",
      " 5575186299632655785383929586176488885977088]\n",
      "Triangolo 45: [633825300114114700748351602688\n",
      " 11150372599265311570767859127316981498249216\n",
      " 11150372599265311570767859145331380007731200]\n",
      "Triangolo 46: [633825300114114700748351602688\n",
      " 22300745198530623141535718268144761878609920\n",
      " 22300745198530623141535718277151961133350912]\n",
      "Triangolo 47: [633825300114114700748351602688\n",
      " 44601490397061246283071436543044923198275584\n",
      " 44601490397061246283071436547548522825646080]\n",
      "Triangolo 48: [633825300114114700748351602688\n",
      " 89202980794122492566142873089467546117079040\n",
      " 89202980794122492566142873091719345930764288]\n",
      "Triangolo 49: [633825300114114700748351602688\n",
      " 178405961588244985132285746180623942094422016\n",
      " 178405961588244985132285746181749842001264640]\n",
      "Triangolo 50: [633825300114114700748351602688\n",
      " 356811923176489970264571492362092309118976000\n",
      " 356811923176489970264571492362655259072397312]\n",
      "Triangolo 51: [633825300114114700748351602688\n",
      " 713623846352979940529142984724606830703017984\n",
      " 713623846352979940529142984724888305679728640]\n",
      "Triangolo 52: [633825300114114700748351602688\n",
      " 1427247692705959881058285969449424767638568960\n",
      " 1427247692705959881058285969449565505126924288]\n",
      "Triangolo 53: [633825300114114700748351602688\n",
      " 2854495385411919762116571938898955088393404416\n",
      " 2854495385411919762116571938899025457137582080]\n",
      "Triangolo 54: [633825300114114700748351602688\n",
      " 5708990770823839524233143877797962953344942080\n",
      " 5708990770823839524233143877797998137717030912]\n",
      "Triangolo 55: [633825300114114700748351602688\n",
      " 11417981541647679048466287755595952294968950784\n",
      " 11417981541647679048466287755595969887154995200]\n",
      "Triangolo 56: [633825300114114700748351602688\n",
      " 22835963083295358096932575511191917784077434880\n",
      " 22835963083295358096932575511191926580170457088]\n",
      "Triangolo 57: [633825300114114700748351602688\n",
      " 45671926166590716193865151022383842165224636416\n",
      " 45671926166590716193865151022383846563271147520]\n",
      "Triangolo 58: [633825300114114700748351602688\n",
      " 91343852333181432387730302044767687628984156160\n",
      " 91343852333181432387730302044767689828007411712]\n",
      "Triangolo 59: [633825300114114700748351602688\n",
      " 182687704666362864775460604089535376907235753984\n",
      " 182687704666362864775460604089535378006747381760]\n",
      "Triangolo 60: [633825300114114700748351602688\n",
      " 365375409332725729550921208179070754639105228800\n",
      " 365375409332725729550921208179070755188861042688]\n",
      "Triangolo 61: [633825300114114700748351602688\n",
      " 730750818665451459101842416358141509690527318016\n",
      " 730750818665451459101842416358141509965405224960]\n",
      "Triangolo 62: [633825300114114700748351602688\n",
      " 1461501637330902918203684832716283019587213066240\n",
      " 1461501637330902918203684832716283019724652019712]\n",
      "Triangolo 63: [633825300114114700748351602688\n",
      " 2923003274661805836407369665432566039277505347584\n",
      " 2923003274661805836407369665432566039346224824320]\n",
      "Triangolo 64: [633825300114114700748351602688\n",
      " 5846006549323611672814739330865132078606550302720\n",
      " 5846006549323611672814739330865132078640910041088]\n",
      "Triangolo 65: [633825300114114700748351602688\n",
      " 11692013098647223345629478661730264157238870409216\n",
      " 11692013098647223345629478661730264157256050278400]\n",
      "Triangolo 66: [633825300114114700748351602688\n",
      " 23384026197294446691258957323460528314490625720320\n",
      " 23384026197294446691258957323460528314499215654912]\n",
      "Triangolo 67: [633825300114114700748351602688\n",
      " 46768052394588893382517914646921056628987693891584\n",
      " 46768052394588893382517914646921056628991988858880]\n",
      "Triangolo 68: [633825300114114700748351602688\n",
      " 93536104789177786765035829293842113257978609008640\n",
      " 93536104789177786765035829293842113257980756492288]\n",
      "Triangolo 69: [633825300114114700748351602688\n",
      " 187072209578355573530071658587684226515958828630016\n",
      " 187072209578355573530071658587684226515959902371840]\n",
      "Triangolo 70: [633825300114114700748351602688\n",
      " 374144419156711147060143317175368453031918462566400\n",
      " 374144419156711147060143317175368453031918999437312]\n",
      "Triangolo 71: [633825300114114700748351602688\n",
      " 748288838313422294120286634350736906063837327785984\n",
      " 748288838313422294120286634350736906063837596221440]\n",
      "Triangolo 72: [633825300114114700748351602688\n",
      " 1496577676626844588240573268701473812127674856898560\n",
      " 1496577676626844588240573268701473812127674991116288]\n",
      "Triangolo 73: [633825300114114700748351602688\n",
      " 2993155353253689176481146537402947624255349814460416\n",
      " 2993155353253689176481146537402947624255349881569280]\n",
      "Triangolo 74: [633825300114114700748351602688\n",
      " 5986310706507378352962293074805895248510699679252480\n",
      " 5986310706507378352962293074805895248510699712806912]\n",
      "Triangolo 75: [633825300114114700748351602688\n",
      " 11972621413014756705924586149611790497021399383670784\n",
      " 11972621413014756705924586149611790497021399400448000]\n",
      "Triangolo 76: [633825300114114700748351602688\n",
      " 23945242826029513411849172299223580994042798779924480\n",
      " 23945242826029513411849172299223580994042798788313088]\n",
      "Triangolo 77: [633825300114114700748351602688\n",
      " 47890485652059026823698344598447161988085597566140416\n",
      " 47890485652059026823698344598447161988085597570334720]\n",
      "Triangolo 78: [633825300114114700748351602688\n",
      " 95780971304118053647396689196894323976171195135426560\n",
      " 95780971304118053647396689196894323976171195137523712]\n",
      "Triangolo 79: [633825300114114700748351602688\n",
      " 191561942608236107294793378393788647952342390272425984\n",
      " 191561942608236107294793378393788647952342390273474560]\n",
      "Triangolo 80: [633825300114114700748351602688\n",
      " 383123885216472214589586756787577295904684780545638400\n",
      " 383123885216472214589586756787577295904684780546162688]\n",
      "Triangolo 81: [633825300114114700748351602688\n",
      " 766247770432944429179173513575154591809369561091670016\n",
      " 766247770432944429179173513575154591809369561091932160]\n",
      "Triangolo 82: [633825300114114700748351602688\n",
      " 1532495540865888858358347027150309183618739122183536640\n",
      " 1532495540865888858358347027150309183618739122183667712]\n",
      "Triangolo 83: [633825300114114700748351602688\n",
      " 3064991081731777716716694054300618367237478244367171584\n",
      " 3064991081731777716716694054300618367237478244367237120]\n",
      "Triangolo 84: [633825300114114700748351602688\n",
      " 6129982163463555433433388108601236734474956488734392320\n",
      " 6129982163463555433433388108601236734474956488734425088]\n",
      "Triangolo 85: [633825300114114700748351602688\n",
      " 12259964326927110866866776217202473468949912977468809216\n",
      " 12259964326927110866866776217202473468949912977468825600]\n",
      "Triangolo 86: [633825300114114700748351602688\n",
      " 24519928653854221733733552434404946937899825954937630720\n",
      " 24519928653854221733733552434404946937899825954937638912]\n",
      "Triangolo 87: [633825300114114700748351602688\n",
      " 49039857307708443467467104868809893875799651909875267584\n",
      " 49039857307708443467467104868809893875799651909875271680]\n",
      "Triangolo 88: [633825300114114700748351602688\n",
      " 98079714615416886934934209737619787751599303819750538240\n",
      " 98079714615416886934934209737619787751599303819750540288]\n",
      "Triangolo 89: [633825300114114700748351602688\n",
      " 196159429230833773869868419475239575503198607639501078016\n",
      " 196159429230833773869868419475239575503198607639501079040]\n",
      "Triangolo 90: [633825300114114700748351602688\n",
      " 392318858461667547739736838950479151006397215279002156800\n",
      " 392318858461667547739736838950479151006397215279002157312]\n",
      "Triangolo 91: [633825300114114700748351602688\n",
      " 784637716923335095479473677900958302012794430558004313984\n",
      " 784637716923335095479473677900958302012794430558004314240]\n",
      "Triangolo 92: [633825300114114700748351602688\n",
      " 1569275433846670190958947355801916604025588861116008628160\n",
      " 1569275433846670190958947355801916604025588861116008628288]\n",
      "Triangolo 93: [633825300114114700748351602688\n",
      " 3138550867693340381917894711603833208051177722232017256416\n",
      " 3138550867693340381917894711603833208051177722232017256480]\n",
      "Triangolo 94: [633825300114114700748351602688\n",
      " 6277101735386680763835789423207666416102355444464034512880\n",
      " 6277101735386680763835789423207666416102355444464034512912]\n",
      "Triangolo 95: [633825300114114700748351602688\n",
      " 12554203470773361527671578846415332832204710888928069025784\n",
      " 12554203470773361527671578846415332832204710888928069025800]\n",
      "Triangolo 96: [633825300114114700748351602688\n",
      " 25108406941546723055343157692830665664409421777856138051580\n",
      " 25108406941546723055343157692830665664409421777856138051588]\n",
      "Triangolo 97: [633825300114114700748351602688\n",
      " 50216813883093446110686315385661331328818843555712276103166\n",
      " 50216813883093446110686315385661331328818843555712276103170]\n",
      "Triangolo 98: [633825300114114700748351602688\n",
      " 100433627766186892221372630771322662657637687111424552206335\n",
      " 100433627766186892221372630771322662657637687111424552206337]\n"
     ]
    }
   ],
   "source": [
    "import numpy as np\n",
    "\n",
    "def isSquareTriangle(tt):\n",
    "    return tt[0]*tt[0] + tt[1]*tt[1] == tt[2]*tt[2]\n",
    "\n",
    "def T(m):\n",
    "    return ( 2**m, 2**(2*m-2)-1,2**(2*m-2)+1 ) \n",
    "\n",
    "c = 0\n",
    "for m in range(2,99+1):\n",
    "    t = T(m)\n",
    "    f = 2**(99-m)\n",
    "    tt = np.array(t)*f\n",
    "    if isSquareTriangle(tt):\n",
    "        c += 1\n",
    "        print(\"Triangolo {}: {}\".format(c, tt))"
   ]
  },
  {
   "cell_type": "markdown",
   "id": "5ee81d3b",
   "metadata": {},
   "source": [
    "### 21. Numeri serpentosi\n",
    "\n",
    "https://www.calenpiario.it/index.php?a=problem&p=64\n",
    "\n",
    "> Un numero di 4 cifre si dice serpentoso se la sua prima cifra decimale è minore della seconda, che è maggiore della terza, che è minore della quarta. Quanti numeri serpentosi compresi tra 1000 e 9999 composti da cifre tutte diverse esistono?"
   ]
  },
  {
   "cell_type": "code",
   "execution_count": 10,
   "id": "f49b8c04",
   "metadata": {},
   "outputs": [
    {
     "name": "stdout",
     "output_type": "stream",
     "text": [
      "882\n"
     ]
    }
   ],
   "source": [
    "from collections import Counter\n",
    "\n",
    "def isSnakeNumber(i):\n",
    "    s = str(i)\n",
    "    d = [ int(j) for j in s ]\n",
    "    c = Counter(s)\n",
    "    return d[0]<d[1]>d[2]<d[3] and len(c.keys())==4\n",
    "\n",
    "snakes = [ i for i in range(1000,10000) if isSnakeNumber(i) ]\n",
    "\n",
    "print(len(snakes))"
   ]
  },
  {
   "cell_type": "markdown",
   "id": "302fba68",
   "metadata": {},
   "source": [
    "### 22. I cavalieri della tavola rotonda\n",
    "\n",
    "https://www.calenpiario.it/index.php?a=problem&p=65\n",
    "\n",
    "> Venticinque cavalieri di Re Artù sono seduti intorno alla loro tavola rotonda. Tre di loro vengono scelti per andare a uccidere un drago malvagio (le possibili scelte sono tutte equiprobabili). Sia P la probabilità che almeno due di loro siano seduti vicini: se P è scritto come frazione ridotta ai minimi termini, quanto vale la somma di numeratore e denominatore?\n",
    "\n",
    "Ci sono $\\binom{25}{3}$ modi di scegliere 3 cavalieri dai 25 seduti a tavola:\n",
    "\n",
    "$\\binom{25}{3} = \\frac{25 \\times 24 \\times 23}{3 \\times 2 \\times 1} = 25 \\times 23 \\times 4$\n",
    "\n",
    "Perché ce ne siano almeno due seduti vicini, devo considerare due ipotesi: che tutti e 3 siano vicini, o che ne siano vicini solo due;\n",
    "\n",
    "* **Tutti e 3 sono vicini**. Numerando i cavalieri da 1 a 25, ho 25 terne possibili: (1,2,3), (2,3,4), ..., (23,24,25), (24,25,1), (25, 1, 2).\n",
    "\n",
    "* **Solo 2 vicini**. Analogamente al punto precedente, ho 25 modi di scegliere una coppia di cavalieri vicini. Una volta scelti, non posso scegliere i due cavalieri adiacenti alla coppia, mi restano dunque 25-2-2 = 21 modi di scegliere il terzo cavaliere non contiguo. Ho dunque 25 $\\times$ 21 modi di scegliere un coppia contigua di cavalieri più un cavaliere non contiguo.\n",
    "\n",
    "* **In totale**. Ho dunque 25 + 25 $\\times$ 21  = 25 $\\times$ 22 modi di scegliere 3 cavalieri tali che almeno 2 di loro siano seduti vicini\n",
    "\n",
    "La probabilità richiesta è dunque:\n",
    "\n",
    "$P = \\frac{25 \\times 22}{25 \\times 23 \\times 4} = \\frac{11}{23 \\times 2} = \\frac{11}{46}$\n",
    "\n",
    "La risposta è dunque 11 + 46 = **57**."
   ]
  },
  {
   "cell_type": "markdown",
   "id": "5a16665e",
   "metadata": {},
   "source": [
    "### 22. Due coni\n",
    "\n",
    "https://www.calenpiario.it/index.php?a=problem&p=66\n",
    "\n",
    "> Se un triangolo rettangolo viene fatto ruotare intorno a un cateto, si ottiene un cono di volume 800 $\\pi$ cm$^3$. Se lo stesso triangolo viene fatto ruotare intorno all'altro cateto, si ottiene un cono di volume 1920 $\\pi$ cm$^3$. Qual è la lunghezza (in centimetri) dell'ipotenusa?\n",
    "\n",
    "<img src=\"./calenpiario_2023/calenpiario2023_22.jpg\" alt=\"\" width=\"600\" align=\"center\"/>"
   ]
  },
  {
   "cell_type": "code",
   "execution_count": null,
   "id": "20ee825a",
   "metadata": {},
   "outputs": [],
   "source": []
  }
 ],
 "metadata": {
  "kernelspec": {
   "display_name": "Python 3 (ipykernel)",
   "language": "python",
   "name": "python3"
  },
  "language_info": {
   "codemirror_mode": {
    "name": "ipython",
    "version": 3
   },
   "file_extension": ".py",
   "mimetype": "text/x-python",
   "name": "python",
   "nbconvert_exporter": "python",
   "pygments_lexer": "ipython3",
   "version": "3.10.11"
  }
 },
 "nbformat": 4,
 "nbformat_minor": 5
}
