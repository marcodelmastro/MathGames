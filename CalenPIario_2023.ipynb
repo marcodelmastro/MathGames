{
 "cells": [
  {
   "cell_type": "markdown",
   "id": "9db20881",
   "metadata": {},
   "source": [
    "# CalenPIario 2023\n",
    "\n",
    "https://www.calenpiario.it/"
   ]
  },
  {
   "cell_type": "markdown",
   "id": "dd53297d",
   "metadata": {},
   "source": [
    "### 1. Quanti sono i numeri primi che hanno per successivo un quadrato perfetto? <a class=\"anchor\" id=\"prob01\"></a>\n",
    "\n",
    "https://www.calenpiario.it/index.php?a=problem&p=5\n",
    "\n",
    "<img src=\"./calenpiario_2023/calenpiario2023_01.jpg\" alt=\"\" width=\"600\" align=\"center\"/>"
   ]
  },
  {
   "cell_type": "markdown",
   "id": "8ff449e3",
   "metadata": {},
   "source": [
    "### 2. Sulla lavagna si trova scritto il numero 1. La sola mossa permessa è cancellare il numero scritto sulla lavagna e sostituirlo o con il suo doppio o con il suo quadrato. Qual è il numero più grande che si può ottenere in 8 mosse? Scomponi il risultato in fattori primi, e indica come soluzione l'esponente del fattore 2. (Giochi di Archimede 1997)\n",
    "\n",
    "https://www.calenpiario.it/index.php?a=problem&p=43\n",
    "\n",
    "<img src=\"./calenpiario_2023/calenpiario2023_02.jpg\" alt=\"\" width=\"600\" align=\"center\"/>"
   ]
  },
  {
   "cell_type": "code",
   "execution_count": 22,
   "id": "9030497b",
   "metadata": {},
   "outputs": [
    {
     "name": "stdout",
     "output_type": "stream",
     "text": [
      "340282366920938463463374607431768211456\n"
     ]
    }
   ],
   "source": [
    "n = [ 1 ]\n",
    "\n",
    "for steps in range(8):\n",
    "    n_new = []\n",
    "    for i in n:\n",
    "        n_new.append(2*i)\n",
    "        n_new.append(i**2)\n",
    "    n = n_new\n",
    "    \n",
    "n = sorted(n)   \n",
    "print(n[-1])"
   ]
  },
  {
   "cell_type": "code",
   "execution_count": 23,
   "id": "f099dbea",
   "metadata": {},
   "outputs": [
    {
     "data": {
      "text/plain": [
       "340282366920938463463374607431768211456"
      ]
     },
     "execution_count": 23,
     "metadata": {},
     "output_type": "execute_result"
    }
   ],
   "source": [
    "2**(2**7)"
   ]
  },
  {
   "cell_type": "code",
   "execution_count": 1,
   "id": "9cc90ec6",
   "metadata": {},
   "outputs": [
    {
     "data": {
      "text/plain": [
       "128"
      ]
     },
     "execution_count": 1,
     "metadata": {},
     "output_type": "execute_result"
    }
   ],
   "source": [
    "2**7"
   ]
  },
  {
   "cell_type": "markdown",
   "id": "9a637e75",
   "metadata": {},
   "source": [
    "### 3. Se prendiamo i numeri da 1 a 2023 e li moltiplichiamo tra loro, otteniamo un multiplo di 2023. Qual è il più piccolo numero di interi positivi consecutivi tali che il loro prodotto sia ancora un multiplo di 2023?\n",
    "\n",
    "https://www.calenpiario.it/index.php?a=problem&p=44\n",
    "\n",
    "Questo qui sopra è il testo originale del problema copiato dalla pagina alle 15:15 del 20/3/2023, modificato poi durante il pomeriggio in:\n",
    "\n",
    "> Se prendiamo i numeri da 1 a 2023 e li moltiplichiamo tra loro, otteniamo un multiplo di 2023. Qual è il più piccolo numero di interi positivi consecutivi, minori di 2023, tali che il loro prodotto sia ancora un multiplo di 2023?\n",
    "\n",
    "L'aggiunta di \"minori di 2023\" dovrebbe servire a evitare la soluzione banale (1 solo numero, 2023), e la risposta attesa sarebbe 18 (con l'implicita richiesta di selezionale la serie di numeri più piccoli):\n",
    "\n",
    "<img src=\"./calenpiario_2023/calenpiario2023_03.jpg\" alt=\"\" width=\"800\" align=\"center\"/>\n",
    "\n",
    "Non esplicitando però la richiesta, il testo non elimina le soluzione con 2, 3, 4, ... numeri:"
   ]
  },
  {
   "cell_type": "code",
   "execution_count": 16,
   "id": "ab7eab49",
   "metadata": {},
   "outputs": [
    {
     "data": {
      "text/plain": [
       "{7: 1, 17: 2}"
      ]
     },
     "execution_count": 16,
     "metadata": {},
     "output_type": "execute_result"
    }
   ],
   "source": [
    "from sympy import factorint\n",
    "\n",
    "factorint(2023)"
   ]
  },
  {
   "cell_type": "code",
   "execution_count": 17,
   "id": "57ce5236",
   "metadata": {},
   "outputs": [
    {
     "data": {
      "text/plain": [
       "([17, 18, 19, 20, 21, 22, 23, 24, 25, 26, 27, 28, 29, 30, 31, 32, 33, 34],\n",
       " 14110584707870682071040000,\n",
       " 0,\n",
       " 18)"
      ]
     },
     "execution_count": 17,
     "metadata": {},
     "output_type": "execute_result"
    }
   ],
   "source": [
    "#N = 17*7-1\n",
    "N = 1\n",
    "\n",
    "values = [ n for n in range(N*17,(N+1)*17+1) ]\n",
    "\n",
    "from functools import reduce\n",
    "from operator import mul\n",
    "\n",
    "prod = reduce(mul,values,1)\n",
    "\n",
    "values, prod, prod%2023, len(values)"
   ]
  },
  {
   "cell_type": "code",
   "execution_count": 26,
   "id": "22a05f0c",
   "metadata": {
    "scrolled": false
   },
   "outputs": [
    {
     "data": {
      "text/plain": [
       "[([867, 868], 752556), ([1155, 1156], 1335180)]"
      ]
     },
     "execution_count": 26,
     "metadata": {},
     "output_type": "execute_result"
    }
   ],
   "source": [
    "from functools import reduce\n",
    "from operator import mul\n",
    "\n",
    "def series2023(k=2):\n",
    "    series = []\n",
    "    for n in range(1,2023-k+1):\n",
    "        values = [ n+i for i in range(k) ]\n",
    "        prod = reduce(mul,values,1)\n",
    "        if prod%2023==0:\n",
    "            series.append((values,prod))\n",
    "    return series\n",
    "\n",
    "series2023(k=2)"
   ]
  },
  {
   "cell_type": "code",
   "execution_count": 27,
   "id": "699c8c65",
   "metadata": {},
   "outputs": [
    {
     "name": "stdout",
     "output_type": "stream",
     "text": [
      "# k =  2 --> n_series =   2\n",
      "# k =  3 --> n_series =   6\n",
      "# k =  4 --> n_series =  12\n",
      "# k =  5 --> n_series =  20\n",
      "# k =  6 --> n_series =  30\n",
      "# k =  7 --> n_series =  42\n",
      "# k =  8 --> n_series =  48\n",
      "# k =  9 --> n_series =  54\n",
      "# k = 10 --> n_series =  60\n",
      "# k = 11 --> n_series =  66\n",
      "# k = 12 --> n_series =  72\n",
      "# k = 13 --> n_series =  78\n",
      "# k = 14 --> n_series =  84\n",
      "# k = 15 --> n_series =  90\n",
      "# k = 16 --> n_series =  96\n",
      "# k = 17 --> n_series = 102\n",
      "# k = 18 --> n_series = 213\n"
     ]
    }
   ],
   "source": [
    "for k in range(2,19):\n",
    "    series = series2023(k)\n",
    "    print(\"# k = {:2d} --> n_series = {:3d}\".format(k,len(series)))"
   ]
  },
  {
   "cell_type": "markdown",
   "id": "163c09cc",
   "metadata": {},
   "source": [
    "### 5. I quattro punti evidenziati sono tutti equidistanti: quanti multipli di $\\pi$ vale l'area evidenziata in figura? \n",
    "\n",
    "https://www.calenpiario.it/index.php?a=problem&p=47\n",
    "\n",
    "<img src=\"./calenpiario_2023/calenpiario2023_04.jpg\" alt=\"\" width=\"600\" align=\"center\"/>"
   ]
  },
  {
   "cell_type": "code",
   "execution_count": null,
   "id": "2a09aa99",
   "metadata": {},
   "outputs": [],
   "source": []
  }
 ],
 "metadata": {
  "kernelspec": {
   "display_name": "Python 3 (ipykernel)",
   "language": "python",
   "name": "python3"
  },
  "language_info": {
   "codemirror_mode": {
    "name": "ipython",
    "version": 3
   },
   "file_extension": ".py",
   "mimetype": "text/x-python",
   "name": "python",
   "nbconvert_exporter": "python",
   "pygments_lexer": "ipython3",
   "version": "3.10.10"
  }
 },
 "nbformat": 4,
 "nbformat_minor": 5
}
