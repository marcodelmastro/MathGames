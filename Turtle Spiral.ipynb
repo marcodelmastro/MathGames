{
 "cells": [
  {
   "cell_type": "code",
   "execution_count": null,
   "metadata": {},
   "outputs": [
    {
     "name": "stdout",
     "output_type": "stream",
     "text": [
      "0... 15... 30... 45... 60... 75... 90... "
     ]
    }
   ],
   "source": [
    "import turtle\n",
    "\n",
    "t = turtle.Pen()\n",
    "turtle.bgcolor(\"black\")\n",
    "\n",
    "# Choose between 2 and 6 sides for some cool shapes!\n",
    "\n",
    "sides = 3\n",
    "\n",
    "colors = [\"red\", \"orange\", \"yellow\", \"blue\", \"green\", \"purple\", \"pink\", \"turquoise\"]\n",
    "\n",
    "for x in range(360):\n",
    "    if x%15==0:\n",
    "        print(x,end=\"... \")\n",
    "    t.pencolor(colors[x%sides])\n",
    "    t.forward(x * 3/sides + x)\n",
    "    t.left(360/sides + 1)\n",
    "    t.width(x*sides/200)"
   ]
  },
  {
   "cell_type": "code",
   "execution_count": null,
   "metadata": {},
   "outputs": [],
   "source": []
  },
  {
   "cell_type": "code",
   "execution_count": null,
   "metadata": {},
   "outputs": [],
   "source": []
  }
 ],
 "metadata": {
  "kernelspec": {
   "display_name": "Python 3",
   "language": "python",
   "name": "python3"
  },
  "language_info": {
   "codemirror_mode": {
    "name": "ipython",
    "version": 3
   },
   "file_extension": ".py",
   "mimetype": "text/x-python",
   "name": "python",
   "nbconvert_exporter": "python",
   "pygments_lexer": "ipython3",
   "version": "3.9.2"
  }
 },
 "nbformat": 4,
 "nbformat_minor": 4
}
