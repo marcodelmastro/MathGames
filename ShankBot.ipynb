{
 "cells": [
  {
   "cell_type": "markdown",
   "id": "treated-liberia",
   "metadata": {},
   "source": [
    "# ShankBot\n",
    "\n",
    "Simple algorythm inspired by \"The reciprocal of primes\" Numberphile's video:\n",
    "\n",
    "https://www.numberphile.com/videos/the-reciprocals-of-primes"
   ]
  },
  {
   "cell_type": "code",
   "execution_count": 47,
   "id": "productive-filling",
   "metadata": {},
   "outputs": [],
   "source": [
    "def ShankBot(n: int) -> list :\n",
    "    '''Perform long division 1/n and returns digits after 0. until periodicity is found'''\n",
    "    digits = []\n",
    "    reminders = []\n",
    "    i = 1\n",
    "    if n==1:\n",
    "        return digits\n",
    "    while True:\n",
    "        i *= 10\n",
    "        if i%n==0:\n",
    "            digits.append(i//n)\n",
    "            return digits\n",
    "        elif i%n in reminders:\n",
    "            return digits\n",
    "        else:\n",
    "            reminders.append(i%n)\n",
    "            digits.append(i//n)\n",
    "            i = i%n"
   ]
  },
  {
   "cell_type": "code",
   "execution_count": 48,
   "id": "cellular-occurrence",
   "metadata": {},
   "outputs": [],
   "source": [
    "def testShankBot(n):\n",
    "    print(1/n)\n",
    "    print(\"0.\"+\"\".join(str(d) for d in shank(n)))"
   ]
  },
  {
   "cell_type": "code",
   "execution_count": 49,
   "id": "needed-professor",
   "metadata": {},
   "outputs": [
    {
     "name": "stdout",
     "output_type": "stream",
     "text": [
      "0.14285714285714285\n",
      "0.142857\n"
     ]
    }
   ],
   "source": [
    "testShankBot(7)"
   ]
  },
  {
   "cell_type": "code",
   "execution_count": 50,
   "id": "dynamic-chamber",
   "metadata": {},
   "outputs": [
    {
     "name": "stdout",
     "output_type": "stream",
     "text": [
      "0.07692307692307693\n",
      "0.076923\n"
     ]
    }
   ],
   "source": [
    "testShankBot(13)"
   ]
  },
  {
   "cell_type": "code",
   "execution_count": 51,
   "id": "right-protein",
   "metadata": {},
   "outputs": [
    {
     "name": "stdout",
     "output_type": "stream",
     "text": [
      "0.05263157894736842\n",
      "0.052631578947368421\n"
     ]
    }
   ],
   "source": [
    "testShankBot(19)"
   ]
  },
  {
   "cell_type": "code",
   "execution_count": 55,
   "id": "blond-knight",
   "metadata": {},
   "outputs": [
    {
     "name": "stdout",
     "output_type": "stream",
     "text": [
      "0.009900990099009901\n",
      "0.0099\n"
     ]
    }
   ],
   "source": [
    "testShankBot(101)"
   ]
  },
  {
   "cell_type": "code",
   "execution_count": 56,
   "id": "nearby-genealogy",
   "metadata": {},
   "outputs": [
    {
     "name": "stdout",
     "output_type": "stream",
     "text": [
      "0.00980392156862745\n",
      "0.0098039215686274\n"
     ]
    }
   ],
   "source": [
    "testShankBot(102)"
   ]
  },
  {
   "cell_type": "code",
   "execution_count": 57,
   "id": "early-andrew",
   "metadata": {},
   "outputs": [
    {
     "name": "stdout",
     "output_type": "stream",
     "text": [
      "0.009708737864077669\n",
      "0.0097087378640776699029126213592233\n"
     ]
    }
   ],
   "source": [
    "testShankBot(103)"
   ]
  },
  {
   "cell_type": "code",
   "execution_count": null,
   "id": "extreme-shock",
   "metadata": {},
   "outputs": [],
   "source": []
  }
 ],
 "metadata": {
  "kernelspec": {
   "display_name": "Python 3",
   "language": "python",
   "name": "python3"
  },
  "language_info": {
   "codemirror_mode": {
    "name": "ipython",
    "version": 3
   },
   "file_extension": ".py",
   "mimetype": "text/x-python",
   "name": "python",
   "nbconvert_exporter": "python",
   "pygments_lexer": "ipython3",
   "version": "3.9.12"
  }
 },
 "nbformat": 4,
 "nbformat_minor": 5
}
